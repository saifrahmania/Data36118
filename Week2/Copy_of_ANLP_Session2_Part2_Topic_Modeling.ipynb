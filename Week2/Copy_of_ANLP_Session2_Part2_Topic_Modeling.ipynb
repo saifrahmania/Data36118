{
  "cells": [
    {
      "cell_type": "markdown",
      "source": [
        "# tinyurl.com/ANLPColab2Part2\n",
        "Go to \"File\" -> \"Save a Copy in Drive...\"\n",
        "This lets you create your own copy of the notebook in your Google drive, and any changes you make doesn't impact the shared notebook"
      ],
      "metadata": {
        "id": "mR2O-rQ6dWuj"
      }
    },
    {
      "cell_type": "markdown",
      "metadata": {
        "id": "rnrCvnXfQzY9"
      },
      "source": [
        "# **Topic Modeling using LDA**"
      ]
    },
    {
      "cell_type": "code",
      "execution_count": null,
      "metadata": {
        "id": "ODeXMMEoQzZE",
        "colab": {
          "base_uri": "https://localhost:8080/"
        },
        "outputId": "6b5eb24f-57f6-4fbc-e24d-5559a483a2e3"
      },
      "outputs": [
        {
          "output_type": "stream",
          "name": "stdout",
          "text": [
            "Collecting en-core-web-sm==3.7.1\n",
            "  Downloading https://github.com/explosion/spacy-models/releases/download/en_core_web_sm-3.7.1/en_core_web_sm-3.7.1-py3-none-any.whl (12.8 MB)\n",
            "\u001b[2K     \u001b[90m━━━━━━━━━━━━━━━━━━━━━━━━━━━━━━━━━━━━━━━━\u001b[0m \u001b[32m12.8/12.8 MB\u001b[0m \u001b[31m31.3 MB/s\u001b[0m eta \u001b[36m0:00:00\u001b[0m\n",
            "\u001b[?25hRequirement already satisfied: spacy<3.8.0,>=3.7.2 in /usr/local/lib/python3.11/dist-packages (from en-core-web-sm==3.7.1) (3.7.5)\n",
            "Requirement already satisfied: spacy-legacy<3.1.0,>=3.0.11 in /usr/local/lib/python3.11/dist-packages (from spacy<3.8.0,>=3.7.2->en-core-web-sm==3.7.1) (3.0.12)\n",
            "Requirement already satisfied: spacy-loggers<2.0.0,>=1.0.0 in /usr/local/lib/python3.11/dist-packages (from spacy<3.8.0,>=3.7.2->en-core-web-sm==3.7.1) (1.0.5)\n",
            "Requirement already satisfied: murmurhash<1.1.0,>=0.28.0 in /usr/local/lib/python3.11/dist-packages (from spacy<3.8.0,>=3.7.2->en-core-web-sm==3.7.1) (1.0.12)\n",
            "Requirement already satisfied: cymem<2.1.0,>=2.0.2 in /usr/local/lib/python3.11/dist-packages (from spacy<3.8.0,>=3.7.2->en-core-web-sm==3.7.1) (2.0.11)\n",
            "Requirement already satisfied: preshed<3.1.0,>=3.0.2 in /usr/local/lib/python3.11/dist-packages (from spacy<3.8.0,>=3.7.2->en-core-web-sm==3.7.1) (3.0.9)\n",
            "Requirement already satisfied: thinc<8.3.0,>=8.2.2 in /usr/local/lib/python3.11/dist-packages (from spacy<3.8.0,>=3.7.2->en-core-web-sm==3.7.1) (8.2.5)\n",
            "Requirement already satisfied: wasabi<1.2.0,>=0.9.1 in /usr/local/lib/python3.11/dist-packages (from spacy<3.8.0,>=3.7.2->en-core-web-sm==3.7.1) (1.1.3)\n",
            "Requirement already satisfied: srsly<3.0.0,>=2.4.3 in /usr/local/lib/python3.11/dist-packages (from spacy<3.8.0,>=3.7.2->en-core-web-sm==3.7.1) (2.5.1)\n",
            "Requirement already satisfied: catalogue<2.1.0,>=2.0.6 in /usr/local/lib/python3.11/dist-packages (from spacy<3.8.0,>=3.7.2->en-core-web-sm==3.7.1) (2.0.10)\n",
            "Requirement already satisfied: weasel<0.5.0,>=0.1.0 in /usr/local/lib/python3.11/dist-packages (from spacy<3.8.0,>=3.7.2->en-core-web-sm==3.7.1) (0.4.1)\n",
            "Requirement already satisfied: typer<1.0.0,>=0.3.0 in /usr/local/lib/python3.11/dist-packages (from spacy<3.8.0,>=3.7.2->en-core-web-sm==3.7.1) (0.15.1)\n",
            "Requirement already satisfied: tqdm<5.0.0,>=4.38.0 in /usr/local/lib/python3.11/dist-packages (from spacy<3.8.0,>=3.7.2->en-core-web-sm==3.7.1) (4.67.1)\n",
            "Requirement already satisfied: requests<3.0.0,>=2.13.0 in /usr/local/lib/python3.11/dist-packages (from spacy<3.8.0,>=3.7.2->en-core-web-sm==3.7.1) (2.32.3)\n",
            "Requirement already satisfied: pydantic!=1.8,!=1.8.1,<3.0.0,>=1.7.4 in /usr/local/lib/python3.11/dist-packages (from spacy<3.8.0,>=3.7.2->en-core-web-sm==3.7.1) (2.10.6)\n",
            "Requirement already satisfied: jinja2 in /usr/local/lib/python3.11/dist-packages (from spacy<3.8.0,>=3.7.2->en-core-web-sm==3.7.1) (3.1.5)\n",
            "Requirement already satisfied: setuptools in /usr/local/lib/python3.11/dist-packages (from spacy<3.8.0,>=3.7.2->en-core-web-sm==3.7.1) (75.1.0)\n",
            "Requirement already satisfied: packaging>=20.0 in /usr/local/lib/python3.11/dist-packages (from spacy<3.8.0,>=3.7.2->en-core-web-sm==3.7.1) (24.2)\n",
            "Requirement already satisfied: langcodes<4.0.0,>=3.2.0 in /usr/local/lib/python3.11/dist-packages (from spacy<3.8.0,>=3.7.2->en-core-web-sm==3.7.1) (3.5.0)\n",
            "Requirement already satisfied: numpy>=1.19.0 in /usr/local/lib/python3.11/dist-packages (from spacy<3.8.0,>=3.7.2->en-core-web-sm==3.7.1) (1.26.4)\n",
            "Requirement already satisfied: language-data>=1.2 in /usr/local/lib/python3.11/dist-packages (from langcodes<4.0.0,>=3.2.0->spacy<3.8.0,>=3.7.2->en-core-web-sm==3.7.1) (1.3.0)\n",
            "Requirement already satisfied: annotated-types>=0.6.0 in /usr/local/lib/python3.11/dist-packages (from pydantic!=1.8,!=1.8.1,<3.0.0,>=1.7.4->spacy<3.8.0,>=3.7.2->en-core-web-sm==3.7.1) (0.7.0)\n",
            "Requirement already satisfied: pydantic-core==2.27.2 in /usr/local/lib/python3.11/dist-packages (from pydantic!=1.8,!=1.8.1,<3.0.0,>=1.7.4->spacy<3.8.0,>=3.7.2->en-core-web-sm==3.7.1) (2.27.2)\n",
            "Requirement already satisfied: typing-extensions>=4.12.2 in /usr/local/lib/python3.11/dist-packages (from pydantic!=1.8,!=1.8.1,<3.0.0,>=1.7.4->spacy<3.8.0,>=3.7.2->en-core-web-sm==3.7.1) (4.12.2)\n",
            "Requirement already satisfied: charset-normalizer<4,>=2 in /usr/local/lib/python3.11/dist-packages (from requests<3.0.0,>=2.13.0->spacy<3.8.0,>=3.7.2->en-core-web-sm==3.7.1) (3.4.1)\n",
            "Requirement already satisfied: idna<4,>=2.5 in /usr/local/lib/python3.11/dist-packages (from requests<3.0.0,>=2.13.0->spacy<3.8.0,>=3.7.2->en-core-web-sm==3.7.1) (3.10)\n",
            "Requirement already satisfied: urllib3<3,>=1.21.1 in /usr/local/lib/python3.11/dist-packages (from requests<3.0.0,>=2.13.0->spacy<3.8.0,>=3.7.2->en-core-web-sm==3.7.1) (2.3.0)\n",
            "Requirement already satisfied: certifi>=2017.4.17 in /usr/local/lib/python3.11/dist-packages (from requests<3.0.0,>=2.13.0->spacy<3.8.0,>=3.7.2->en-core-web-sm==3.7.1) (2025.1.31)\n",
            "Requirement already satisfied: blis<0.8.0,>=0.7.8 in /usr/local/lib/python3.11/dist-packages (from thinc<8.3.0,>=8.2.2->spacy<3.8.0,>=3.7.2->en-core-web-sm==3.7.1) (0.7.11)\n",
            "Requirement already satisfied: confection<1.0.0,>=0.0.1 in /usr/local/lib/python3.11/dist-packages (from thinc<8.3.0,>=8.2.2->spacy<3.8.0,>=3.7.2->en-core-web-sm==3.7.1) (0.1.5)\n",
            "Requirement already satisfied: click>=8.0.0 in /usr/local/lib/python3.11/dist-packages (from typer<1.0.0,>=0.3.0->spacy<3.8.0,>=3.7.2->en-core-web-sm==3.7.1) (8.1.8)\n",
            "Requirement already satisfied: shellingham>=1.3.0 in /usr/local/lib/python3.11/dist-packages (from typer<1.0.0,>=0.3.0->spacy<3.8.0,>=3.7.2->en-core-web-sm==3.7.1) (1.5.4)\n",
            "Requirement already satisfied: rich>=10.11.0 in /usr/local/lib/python3.11/dist-packages (from typer<1.0.0,>=0.3.0->spacy<3.8.0,>=3.7.2->en-core-web-sm==3.7.1) (13.9.4)\n",
            "Requirement already satisfied: cloudpathlib<1.0.0,>=0.7.0 in /usr/local/lib/python3.11/dist-packages (from weasel<0.5.0,>=0.1.0->spacy<3.8.0,>=3.7.2->en-core-web-sm==3.7.1) (0.20.0)\n",
            "Requirement already satisfied: smart-open<8.0.0,>=5.2.1 in /usr/local/lib/python3.11/dist-packages (from weasel<0.5.0,>=0.1.0->spacy<3.8.0,>=3.7.2->en-core-web-sm==3.7.1) (7.1.0)\n",
            "Requirement already satisfied: MarkupSafe>=2.0 in /usr/local/lib/python3.11/dist-packages (from jinja2->spacy<3.8.0,>=3.7.2->en-core-web-sm==3.7.1) (3.0.2)\n",
            "Requirement already satisfied: marisa-trie>=1.1.0 in /usr/local/lib/python3.11/dist-packages (from language-data>=1.2->langcodes<4.0.0,>=3.2.0->spacy<3.8.0,>=3.7.2->en-core-web-sm==3.7.1) (1.2.1)\n",
            "Requirement already satisfied: markdown-it-py>=2.2.0 in /usr/local/lib/python3.11/dist-packages (from rich>=10.11.0->typer<1.0.0,>=0.3.0->spacy<3.8.0,>=3.7.2->en-core-web-sm==3.7.1) (3.0.0)\n",
            "Requirement already satisfied: pygments<3.0.0,>=2.13.0 in /usr/local/lib/python3.11/dist-packages (from rich>=10.11.0->typer<1.0.0,>=0.3.0->spacy<3.8.0,>=3.7.2->en-core-web-sm==3.7.1) (2.18.0)\n",
            "Requirement already satisfied: wrapt in /usr/local/lib/python3.11/dist-packages (from smart-open<8.0.0,>=5.2.1->weasel<0.5.0,>=0.1.0->spacy<3.8.0,>=3.7.2->en-core-web-sm==3.7.1) (1.17.2)\n",
            "Requirement already satisfied: mdurl~=0.1 in /usr/local/lib/python3.11/dist-packages (from markdown-it-py>=2.2.0->rich>=10.11.0->typer<1.0.0,>=0.3.0->spacy<3.8.0,>=3.7.2->en-core-web-sm==3.7.1) (0.1.2)\n",
            "\u001b[38;5;2m✔ Download and installation successful\u001b[0m\n",
            "You can now load the package via spacy.load('en_core_web_sm')\n",
            "\u001b[38;5;3m⚠ Restart to reload dependencies\u001b[0m\n",
            "If you are in a Jupyter or Colab notebook, you may need to restart Python in\n",
            "order to load all the package's dependencies. You can do this by selecting the\n",
            "'Restart kernel' or 'Restart runtime' option.\n",
            "Collecting pyldavis\n",
            "  Downloading pyLDAvis-3.4.1-py3-none-any.whl.metadata (4.2 kB)\n",
            "Requirement already satisfied: numpy>=1.24.2 in /usr/local/lib/python3.11/dist-packages (from pyldavis) (1.26.4)\n",
            "Requirement already satisfied: scipy in /usr/local/lib/python3.11/dist-packages (from pyldavis) (1.13.1)\n",
            "Requirement already satisfied: pandas>=2.0.0 in /usr/local/lib/python3.11/dist-packages (from pyldavis) (2.2.2)\n",
            "Requirement already satisfied: joblib>=1.2.0 in /usr/local/lib/python3.11/dist-packages (from pyldavis) (1.4.2)\n",
            "Requirement already satisfied: jinja2 in /usr/local/lib/python3.11/dist-packages (from pyldavis) (3.1.5)\n",
            "Requirement already satisfied: numexpr in /usr/local/lib/python3.11/dist-packages (from pyldavis) (2.10.2)\n",
            "Collecting funcy (from pyldavis)\n",
            "  Downloading funcy-2.0-py2.py3-none-any.whl.metadata (5.9 kB)\n",
            "Requirement already satisfied: scikit-learn>=1.0.0 in /usr/local/lib/python3.11/dist-packages (from pyldavis) (1.6.1)\n",
            "Requirement already satisfied: gensim in /usr/local/lib/python3.11/dist-packages (from pyldavis) (4.3.3)\n",
            "Requirement already satisfied: setuptools in /usr/local/lib/python3.11/dist-packages (from pyldavis) (75.1.0)\n",
            "Requirement already satisfied: python-dateutil>=2.8.2 in /usr/local/lib/python3.11/dist-packages (from pandas>=2.0.0->pyldavis) (2.8.2)\n",
            "Requirement already satisfied: pytz>=2020.1 in /usr/local/lib/python3.11/dist-packages (from pandas>=2.0.0->pyldavis) (2025.1)\n",
            "Requirement already satisfied: tzdata>=2022.7 in /usr/local/lib/python3.11/dist-packages (from pandas>=2.0.0->pyldavis) (2025.1)\n",
            "Requirement already satisfied: threadpoolctl>=3.1.0 in /usr/local/lib/python3.11/dist-packages (from scikit-learn>=1.0.0->pyldavis) (3.5.0)\n",
            "Requirement already satisfied: smart-open>=1.8.1 in /usr/local/lib/python3.11/dist-packages (from gensim->pyldavis) (7.1.0)\n",
            "Requirement already satisfied: MarkupSafe>=2.0 in /usr/local/lib/python3.11/dist-packages (from jinja2->pyldavis) (3.0.2)\n",
            "Requirement already satisfied: six>=1.5 in /usr/local/lib/python3.11/dist-packages (from python-dateutil>=2.8.2->pandas>=2.0.0->pyldavis) (1.17.0)\n",
            "Requirement already satisfied: wrapt in /usr/local/lib/python3.11/dist-packages (from smart-open>=1.8.1->gensim->pyldavis) (1.17.2)\n",
            "Downloading pyLDAvis-3.4.1-py3-none-any.whl (2.6 MB)\n",
            "\u001b[2K   \u001b[90m━━━━━━━━━━━━━━━━━━━━━━━━━━━━━━━━━━━━━━━━\u001b[0m \u001b[32m2.6/2.6 MB\u001b[0m \u001b[31m34.6 MB/s\u001b[0m eta \u001b[36m0:00:00\u001b[0m\n",
            "\u001b[?25hDownloading funcy-2.0-py2.py3-none-any.whl (30 kB)\n",
            "Installing collected packages: funcy, pyldavis\n",
            "Successfully installed funcy-2.0 pyldavis-3.4.1\n"
          ]
        }
      ],
      "source": [
        "# !python3 -m spacy download en_core_web_sm\n",
        "# !pip install pyldavis\n",
        "\n"
      ]
    },
    {
      "cell_type": "code",
      "execution_count": null,
      "metadata": {
        "id": "mWwEKT7aQzZG"
      },
      "outputs": [],
      "source": [
        "# Set warnings to \"ignore\" to keep the notebook clean\n",
        "import warnings\n",
        "warnings.filterwarnings(\"ignore\")"
      ]
    },
    {
      "cell_type": "markdown",
      "metadata": {
        "id": "HeQHFocwQzZG"
      },
      "source": [
        "For this exercise we will use the 20 newsgroups dataset from SKLearn. We will first load the dataset and explore its contents."
      ]
    },
    {
      "cell_type": "code",
      "execution_count": null,
      "metadata": {
        "id": "NJesI7r3QzZH",
        "colab": {
          "base_uri": "https://localhost:8080/"
        },
        "outputId": "1d12e2f6-d0fc-4280-fff9-042b400a7810"
      },
      "outputs": [
        {
          "output_type": "stream",
          "name": "stdout",
          "text": [
            "Data set contains the following:\n",
            "['data', 'filenames', 'target_names', 'target', 'DESCR']\n"
          ]
        }
      ],
      "source": [
        "from sklearn.datasets import fetch_20newsgroups # Function to download the dataset\n",
        "\n",
        "newsgroup_data = fetch_20newsgroups() # Load the data\n",
        "\n",
        "print(f\"Data set contains the following:\\n{[x for x in newsgroup_data.keys()]}\")"
      ]
    },
    {
      "cell_type": "markdown",
      "metadata": {
        "id": "B4lb0xXKQzZH"
      },
      "source": [
        "### Convert Dataset into Dataframe"
      ]
    },
    {
      "cell_type": "code",
      "execution_count": null,
      "metadata": {
        "id": "yZQqz0zTQzZI",
        "colab": {
          "base_uri": "https://localhost:8080/",
          "height": 206
        },
        "outputId": "f7647881-8791-441a-9f60-0c6c2f9f7984"
      },
      "outputs": [
        {
          "output_type": "execute_result",
          "data": {
            "text/plain": [
              "                                                text  target  \\\n",
              "0  From: lerxst@wam.umd.edu (where's my thing)\\nS...       7   \n",
              "1  From: guykuo@carson.u.washington.edu (Guy Kuo)...       4   \n",
              "2  From: twillis@ec.ecn.purdue.edu (Thomas E Will...       4   \n",
              "3  From: jgreen@amber (Joe Green)\\nSubject: Re: W...       1   \n",
              "4  From: jcm@head-cfa.harvard.edu (Jonathan McDow...      14   \n",
              "\n",
              "                category                                          filenames  \n",
              "0              rec.autos  /root/scikit_learn_data/20news_home/20news-byd...  \n",
              "1  comp.sys.mac.hardware  /root/scikit_learn_data/20news_home/20news-byd...  \n",
              "2  comp.sys.mac.hardware  /root/scikit_learn_data/20news_home/20news-byd...  \n",
              "3          comp.graphics  /root/scikit_learn_data/20news_home/20news-byd...  \n",
              "4              sci.space  /root/scikit_learn_data/20news_home/20news-byd...  "
            ],
            "text/html": [
              "\n",
              "  <div id=\"df-784a43f3-8933-43ef-b139-74ef9aedd04a\" class=\"colab-df-container\">\n",
              "    <div>\n",
              "<style scoped>\n",
              "    .dataframe tbody tr th:only-of-type {\n",
              "        vertical-align: middle;\n",
              "    }\n",
              "\n",
              "    .dataframe tbody tr th {\n",
              "        vertical-align: top;\n",
              "    }\n",
              "\n",
              "    .dataframe thead th {\n",
              "        text-align: right;\n",
              "    }\n",
              "</style>\n",
              "<table border=\"1\" class=\"dataframe\">\n",
              "  <thead>\n",
              "    <tr style=\"text-align: right;\">\n",
              "      <th></th>\n",
              "      <th>text</th>\n",
              "      <th>target</th>\n",
              "      <th>category</th>\n",
              "      <th>filenames</th>\n",
              "    </tr>\n",
              "  </thead>\n",
              "  <tbody>\n",
              "    <tr>\n",
              "      <th>0</th>\n",
              "      <td>From: lerxst@wam.umd.edu (where's my thing)\\nS...</td>\n",
              "      <td>7</td>\n",
              "      <td>rec.autos</td>\n",
              "      <td>/root/scikit_learn_data/20news_home/20news-byd...</td>\n",
              "    </tr>\n",
              "    <tr>\n",
              "      <th>1</th>\n",
              "      <td>From: guykuo@carson.u.washington.edu (Guy Kuo)...</td>\n",
              "      <td>4</td>\n",
              "      <td>comp.sys.mac.hardware</td>\n",
              "      <td>/root/scikit_learn_data/20news_home/20news-byd...</td>\n",
              "    </tr>\n",
              "    <tr>\n",
              "      <th>2</th>\n",
              "      <td>From: twillis@ec.ecn.purdue.edu (Thomas E Will...</td>\n",
              "      <td>4</td>\n",
              "      <td>comp.sys.mac.hardware</td>\n",
              "      <td>/root/scikit_learn_data/20news_home/20news-byd...</td>\n",
              "    </tr>\n",
              "    <tr>\n",
              "      <th>3</th>\n",
              "      <td>From: jgreen@amber (Joe Green)\\nSubject: Re: W...</td>\n",
              "      <td>1</td>\n",
              "      <td>comp.graphics</td>\n",
              "      <td>/root/scikit_learn_data/20news_home/20news-byd...</td>\n",
              "    </tr>\n",
              "    <tr>\n",
              "      <th>4</th>\n",
              "      <td>From: jcm@head-cfa.harvard.edu (Jonathan McDow...</td>\n",
              "      <td>14</td>\n",
              "      <td>sci.space</td>\n",
              "      <td>/root/scikit_learn_data/20news_home/20news-byd...</td>\n",
              "    </tr>\n",
              "  </tbody>\n",
              "</table>\n",
              "</div>\n",
              "    <div class=\"colab-df-buttons\">\n",
              "\n",
              "  <div class=\"colab-df-container\">\n",
              "    <button class=\"colab-df-convert\" onclick=\"convertToInteractive('df-784a43f3-8933-43ef-b139-74ef9aedd04a')\"\n",
              "            title=\"Convert this dataframe to an interactive table.\"\n",
              "            style=\"display:none;\">\n",
              "\n",
              "  <svg xmlns=\"http://www.w3.org/2000/svg\" height=\"24px\" viewBox=\"0 -960 960 960\">\n",
              "    <path d=\"M120-120v-720h720v720H120Zm60-500h600v-160H180v160Zm220 220h160v-160H400v160Zm0 220h160v-160H400v160ZM180-400h160v-160H180v160Zm440 0h160v-160H620v160ZM180-180h160v-160H180v160Zm440 0h160v-160H620v160Z\"/>\n",
              "  </svg>\n",
              "    </button>\n",
              "\n",
              "  <style>\n",
              "    .colab-df-container {\n",
              "      display:flex;\n",
              "      gap: 12px;\n",
              "    }\n",
              "\n",
              "    .colab-df-convert {\n",
              "      background-color: #E8F0FE;\n",
              "      border: none;\n",
              "      border-radius: 50%;\n",
              "      cursor: pointer;\n",
              "      display: none;\n",
              "      fill: #1967D2;\n",
              "      height: 32px;\n",
              "      padding: 0 0 0 0;\n",
              "      width: 32px;\n",
              "    }\n",
              "\n",
              "    .colab-df-convert:hover {\n",
              "      background-color: #E2EBFA;\n",
              "      box-shadow: 0px 1px 2px rgba(60, 64, 67, 0.3), 0px 1px 3px 1px rgba(60, 64, 67, 0.15);\n",
              "      fill: #174EA6;\n",
              "    }\n",
              "\n",
              "    .colab-df-buttons div {\n",
              "      margin-bottom: 4px;\n",
              "    }\n",
              "\n",
              "    [theme=dark] .colab-df-convert {\n",
              "      background-color: #3B4455;\n",
              "      fill: #D2E3FC;\n",
              "    }\n",
              "\n",
              "    [theme=dark] .colab-df-convert:hover {\n",
              "      background-color: #434B5C;\n",
              "      box-shadow: 0px 1px 3px 1px rgba(0, 0, 0, 0.15);\n",
              "      filter: drop-shadow(0px 1px 2px rgba(0, 0, 0, 0.3));\n",
              "      fill: #FFFFFF;\n",
              "    }\n",
              "  </style>\n",
              "\n",
              "    <script>\n",
              "      const buttonEl =\n",
              "        document.querySelector('#df-784a43f3-8933-43ef-b139-74ef9aedd04a button.colab-df-convert');\n",
              "      buttonEl.style.display =\n",
              "        google.colab.kernel.accessAllowed ? 'block' : 'none';\n",
              "\n",
              "      async function convertToInteractive(key) {\n",
              "        const element = document.querySelector('#df-784a43f3-8933-43ef-b139-74ef9aedd04a');\n",
              "        const dataTable =\n",
              "          await google.colab.kernel.invokeFunction('convertToInteractive',\n",
              "                                                    [key], {});\n",
              "        if (!dataTable) return;\n",
              "\n",
              "        const docLinkHtml = 'Like what you see? Visit the ' +\n",
              "          '<a target=\"_blank\" href=https://colab.research.google.com/notebooks/data_table.ipynb>data table notebook</a>'\n",
              "          + ' to learn more about interactive tables.';\n",
              "        element.innerHTML = '';\n",
              "        dataTable['output_type'] = 'display_data';\n",
              "        await google.colab.output.renderOutput(dataTable, element);\n",
              "        const docLink = document.createElement('div');\n",
              "        docLink.innerHTML = docLinkHtml;\n",
              "        element.appendChild(docLink);\n",
              "      }\n",
              "    </script>\n",
              "  </div>\n",
              "\n",
              "\n",
              "<div id=\"df-3252f4fa-2357-42a1-bdd3-a6acf77734a2\">\n",
              "  <button class=\"colab-df-quickchart\" onclick=\"quickchart('df-3252f4fa-2357-42a1-bdd3-a6acf77734a2')\"\n",
              "            title=\"Suggest charts\"\n",
              "            style=\"display:none;\">\n",
              "\n",
              "<svg xmlns=\"http://www.w3.org/2000/svg\" height=\"24px\"viewBox=\"0 0 24 24\"\n",
              "     width=\"24px\">\n",
              "    <g>\n",
              "        <path d=\"M19 3H5c-1.1 0-2 .9-2 2v14c0 1.1.9 2 2 2h14c1.1 0 2-.9 2-2V5c0-1.1-.9-2-2-2zM9 17H7v-7h2v7zm4 0h-2V7h2v10zm4 0h-2v-4h2v4z\"/>\n",
              "    </g>\n",
              "</svg>\n",
              "  </button>\n",
              "\n",
              "<style>\n",
              "  .colab-df-quickchart {\n",
              "      --bg-color: #E8F0FE;\n",
              "      --fill-color: #1967D2;\n",
              "      --hover-bg-color: #E2EBFA;\n",
              "      --hover-fill-color: #174EA6;\n",
              "      --disabled-fill-color: #AAA;\n",
              "      --disabled-bg-color: #DDD;\n",
              "  }\n",
              "\n",
              "  [theme=dark] .colab-df-quickchart {\n",
              "      --bg-color: #3B4455;\n",
              "      --fill-color: #D2E3FC;\n",
              "      --hover-bg-color: #434B5C;\n",
              "      --hover-fill-color: #FFFFFF;\n",
              "      --disabled-bg-color: #3B4455;\n",
              "      --disabled-fill-color: #666;\n",
              "  }\n",
              "\n",
              "  .colab-df-quickchart {\n",
              "    background-color: var(--bg-color);\n",
              "    border: none;\n",
              "    border-radius: 50%;\n",
              "    cursor: pointer;\n",
              "    display: none;\n",
              "    fill: var(--fill-color);\n",
              "    height: 32px;\n",
              "    padding: 0;\n",
              "    width: 32px;\n",
              "  }\n",
              "\n",
              "  .colab-df-quickchart:hover {\n",
              "    background-color: var(--hover-bg-color);\n",
              "    box-shadow: 0 1px 2px rgba(60, 64, 67, 0.3), 0 1px 3px 1px rgba(60, 64, 67, 0.15);\n",
              "    fill: var(--button-hover-fill-color);\n",
              "  }\n",
              "\n",
              "  .colab-df-quickchart-complete:disabled,\n",
              "  .colab-df-quickchart-complete:disabled:hover {\n",
              "    background-color: var(--disabled-bg-color);\n",
              "    fill: var(--disabled-fill-color);\n",
              "    box-shadow: none;\n",
              "  }\n",
              "\n",
              "  .colab-df-spinner {\n",
              "    border: 2px solid var(--fill-color);\n",
              "    border-color: transparent;\n",
              "    border-bottom-color: var(--fill-color);\n",
              "    animation:\n",
              "      spin 1s steps(1) infinite;\n",
              "  }\n",
              "\n",
              "  @keyframes spin {\n",
              "    0% {\n",
              "      border-color: transparent;\n",
              "      border-bottom-color: var(--fill-color);\n",
              "      border-left-color: var(--fill-color);\n",
              "    }\n",
              "    20% {\n",
              "      border-color: transparent;\n",
              "      border-left-color: var(--fill-color);\n",
              "      border-top-color: var(--fill-color);\n",
              "    }\n",
              "    30% {\n",
              "      border-color: transparent;\n",
              "      border-left-color: var(--fill-color);\n",
              "      border-top-color: var(--fill-color);\n",
              "      border-right-color: var(--fill-color);\n",
              "    }\n",
              "    40% {\n",
              "      border-color: transparent;\n",
              "      border-right-color: var(--fill-color);\n",
              "      border-top-color: var(--fill-color);\n",
              "    }\n",
              "    60% {\n",
              "      border-color: transparent;\n",
              "      border-right-color: var(--fill-color);\n",
              "    }\n",
              "    80% {\n",
              "      border-color: transparent;\n",
              "      border-right-color: var(--fill-color);\n",
              "      border-bottom-color: var(--fill-color);\n",
              "    }\n",
              "    90% {\n",
              "      border-color: transparent;\n",
              "      border-bottom-color: var(--fill-color);\n",
              "    }\n",
              "  }\n",
              "</style>\n",
              "\n",
              "  <script>\n",
              "    async function quickchart(key) {\n",
              "      const quickchartButtonEl =\n",
              "        document.querySelector('#' + key + ' button');\n",
              "      quickchartButtonEl.disabled = true;  // To prevent multiple clicks.\n",
              "      quickchartButtonEl.classList.add('colab-df-spinner');\n",
              "      try {\n",
              "        const charts = await google.colab.kernel.invokeFunction(\n",
              "            'suggestCharts', [key], {});\n",
              "      } catch (error) {\n",
              "        console.error('Error during call to suggestCharts:', error);\n",
              "      }\n",
              "      quickchartButtonEl.classList.remove('colab-df-spinner');\n",
              "      quickchartButtonEl.classList.add('colab-df-quickchart-complete');\n",
              "    }\n",
              "    (() => {\n",
              "      let quickchartButtonEl =\n",
              "        document.querySelector('#df-3252f4fa-2357-42a1-bdd3-a6acf77734a2 button');\n",
              "      quickchartButtonEl.style.display =\n",
              "        google.colab.kernel.accessAllowed ? 'block' : 'none';\n",
              "    })();\n",
              "  </script>\n",
              "</div>\n",
              "\n",
              "    </div>\n",
              "  </div>\n"
            ],
            "application/vnd.google.colaboratory.intrinsic+json": {
              "type": "dataframe",
              "variable_name": "df",
              "summary": "{\n  \"name\": \"df\",\n  \"rows\": 11314,\n  \"fields\": [\n    {\n      \"column\": \"text\",\n      \"properties\": {\n        \"dtype\": \"string\",\n        \"num_unique_values\": 11314,\n        \"samples\": [\n          \"From: rrn@po.CWRU.Edu (Robert R. Novitskey)\\nSubject: CYCLONE AND TEMPEST?????\\nArticle-I.D.: usenet.1pskav$qtu\\nReply-To: rrn@po.CWRU.Edu (Robert R. Novitskey)\\nOrganization: Case Western Reserve University, Cleveland, OH (USA)\\nLines: 10\\nNNTP-Posting-Host: thor.ins.cwru.edu\\n\\n\\nCould someone please post any info on these systems.\\n\\nThanks.\\nBoB\\n-- \\n---------------------------------------------------------------------- \\nRobert Novitskey | \\\"Pursuing women is similar to banging one's head\\nrrn@po.cwru.edu  |  against a wall...with less opportunity for reward\\\" \\n---------------------------------------------------------------------- \\n\",\n          \"From: ardie@ux1.cso.uiuc.edu (Ardie Mack)\\nSubject: Re: does dos6 defragment??\\nArticle-I.D.: ux1.ardie.272.734097933\\nOrganization: Department of Plant Pathology\\nLines: 30\\n\\nIn article <1993Apr6.040254.8443@cs.brown.edu> ksl@engin1.NoSubdomain.NoDomain (Kiseok Lee  ) writes:\\n>From: ksl@engin1.NoSubdomain.NoDomain (Kiseok Lee  )\\n>Subject: Re: does dos6 defragment??\\n>Date: Tue, 6 Apr 1993 04:02:54 GMT\\n>In article <C51H9M.46p@news.cso.uiuc.edu>, rhc52134@uxa.cso.uiuc.edu (Richard) writes:\\n>|> Geoffrey S. Elbo writes:\\n>|> \\n>|> >Yes, and it is the fastest defrag I've ever watched.  It did a 170MB \\n>|> >hard disk in 20 minutes.\\n>|> \\n>|> \\tI found the MS defrag looks very much like Norton Speedisk.\\n>|> Is it just a strip-down version of the later?\\n>|> \\n>|> \\tI have both Norton Speedisk and Backup, so I was wondering \\n>|> if I need to install MS Backup?\\n>|> \\n>|> Richard\\n>|> \\n>\\n>Yes, defragger IS come from Norton.\\n>If you have Norton Utility, don't bother.\\n\\n\\n     Don't bother if you have CPBackup or Fastback.  They all offer options \\nnot available in the stripped-down MS version (FROM CPS!).  Examples - no \\nproprietary format (to save space), probably no direct DMA access, and no \\ntape drive!\\n\\n     You NEED MS Defrag if you use doublespace to work on the compressed \\nvolume.\\n\",\n          \"From: tsa@cellar.org (The Silent Assassin)\\nSubject: For Sale:  Misc IBM stuff\\nOrganization: The Cellar BBS and public access system\\nLines: 10\\n\\n5.25\\\" Internal Low density disk drive.\\n\\nMonochrome monitor\\n\\n8088 motherboard, built in parallel and serial ports, built in mono and\\ncolor output, 7Mhz.\\n\\nLibertarian, atheist, semi-anarchal Techno-Rat.\\n\\nI define myself--tsa@cellar.org\\n\"\n        ],\n        \"semantic_type\": \"\",\n        \"description\": \"\"\n      }\n    },\n    {\n      \"column\": \"target\",\n      \"properties\": {\n        \"dtype\": \"number\",\n        \"std\": 5,\n        \"min\": 0,\n        \"max\": 19,\n        \"num_unique_values\": 20,\n        \"samples\": [\n          7,\n          17,\n          9\n        ],\n        \"semantic_type\": \"\",\n        \"description\": \"\"\n      }\n    },\n    {\n      \"column\": \"category\",\n      \"properties\": {\n        \"dtype\": \"category\",\n        \"num_unique_values\": 20,\n        \"samples\": [\n          \"rec.autos\",\n          \"talk.politics.mideast\",\n          \"rec.sport.baseball\"\n        ],\n        \"semantic_type\": \"\",\n        \"description\": \"\"\n      }\n    },\n    {\n      \"column\": \"filenames\",\n      \"properties\": {\n        \"dtype\": \"string\",\n        \"num_unique_values\": 11314,\n        \"samples\": [\n          \"/root/scikit_learn_data/20news_home/20news-bydate-train/comp.sys.mac.hardware/50500\",\n          \"/root/scikit_learn_data/20news_home/20news-bydate-train/comp.os.ms-windows.misc/9150\",\n          \"/root/scikit_learn_data/20news_home/20news-bydate-train/misc.forsale/76329\"\n        ],\n        \"semantic_type\": \"\",\n        \"description\": \"\"\n      }\n    }\n  ]\n}"
            }
          },
          "metadata": {},
          "execution_count": 5
        }
      ],
      "source": [
        "import pandas as pd # Library to manipulate dataframes\n",
        "\n",
        "df = pd.DataFrame() # Initialize a new dataframe\n",
        "\n",
        "df[\"text\"] = newsgroup_data.data # Extract the text\n",
        "df[\"target\"] = newsgroup_data.target # Extract the target labels\n",
        "\n",
        "# Map the target labels to the corresponding category\n",
        "df[\"category\"] = df[\"target\"].apply(lambda x: newsgroup_data.target_names[x])\n",
        "df[\"filenames\"] = newsgroup_data.filenames # Extract the file locations\n",
        "\n",
        "df.head() #View the first five rows in the dataset\n"
      ]
    },
    {
      "cell_type": "code",
      "source": [
        "#To view how the text transforms, let's examine a row at each step\n",
        "df.text[0]"
      ],
      "metadata": {
        "id": "ru7MrDGgQByw",
        "colab": {
          "base_uri": "https://localhost:8080/",
          "height": 108
        },
        "outputId": "288aa3a1-5923-4fc9-a41b-fb562a321ce7"
      },
      "execution_count": null,
      "outputs": [
        {
          "output_type": "execute_result",
          "data": {
            "text/plain": [
              "\"From: lerxst@wam.umd.edu (where's my thing)\\nSubject: WHAT car is this!?\\nNntp-Posting-Host: rac3.wam.umd.edu\\nOrganization: University of Maryland, College Park\\nLines: 15\\n\\n I was wondering if anyone out there could enlighten me on this car I saw\\nthe other day. It was a 2-door sports car, looked to be from the late 60s/\\nearly 70s. It was called a Bricklin. The doors were really small. In addition,\\nthe front bumper was separate from the rest of the body. This is \\nall I know. If anyone can tellme a model name, engine specs, years\\nof production, where this car is made, history, or whatever info you\\nhave on this funky looking car, please e-mail.\\n\\nThanks,\\n- IL\\n   ---- brought to you by your neighborhood Lerxst ----\\n\\n\\n\\n\\n\""
            ],
            "application/vnd.google.colaboratory.intrinsic+json": {
              "type": "string"
            }
          },
          "metadata": {},
          "execution_count": 6
        }
      ]
    },
    {
      "cell_type": "markdown",
      "metadata": {
        "id": "4RFNA5K-QzZJ"
      },
      "source": [
        "Clean the text by replacing irrelevent information with blank spaces - using regular expressions, we look for specific patterns in the text."
      ]
    },
    {
      "cell_type": "code",
      "execution_count": null,
      "metadata": {
        "id": "Ko_ySTKTQzZK",
        "colab": {
          "base_uri": "https://localhost:8080/",
          "height": 206
        },
        "outputId": "7a55b9be-028b-41d8-fefe-24d5d5b58085"
      },
      "outputs": [
        {
          "output_type": "execute_result",
          "data": {
            "text/plain": [
              "                                                text  target  \\\n",
              "0  I was wondering if anyone out there could enli...       7   \n",
              "1  NNTP-Posting-Host: carson.u.washington.edu A f...       4   \n",
              "2  well folks, my mac plus finally gave up the gh...       4   \n",
              "3  Distribution: world NNTP-Posting-Host: amber.s...       1   \n",
              "4  From article by (Tom A Baker): >>In article (P...      14   \n",
              "\n",
              "                category                                          filenames  \n",
              "0              rec.autos  /root/scikit_learn_data/20news_home/20news-byd...  \n",
              "1  comp.sys.mac.hardware  /root/scikit_learn_data/20news_home/20news-byd...  \n",
              "2  comp.sys.mac.hardware  /root/scikit_learn_data/20news_home/20news-byd...  \n",
              "3          comp.graphics  /root/scikit_learn_data/20news_home/20news-byd...  \n",
              "4              sci.space  /root/scikit_learn_data/20news_home/20news-byd...  "
            ],
            "text/html": [
              "\n",
              "  <div id=\"df-b751911b-0290-4bad-b017-fca5bd4c46ed\" class=\"colab-df-container\">\n",
              "    <div>\n",
              "<style scoped>\n",
              "    .dataframe tbody tr th:only-of-type {\n",
              "        vertical-align: middle;\n",
              "    }\n",
              "\n",
              "    .dataframe tbody tr th {\n",
              "        vertical-align: top;\n",
              "    }\n",
              "\n",
              "    .dataframe thead th {\n",
              "        text-align: right;\n",
              "    }\n",
              "</style>\n",
              "<table border=\"1\" class=\"dataframe\">\n",
              "  <thead>\n",
              "    <tr style=\"text-align: right;\">\n",
              "      <th></th>\n",
              "      <th>text</th>\n",
              "      <th>target</th>\n",
              "      <th>category</th>\n",
              "      <th>filenames</th>\n",
              "    </tr>\n",
              "  </thead>\n",
              "  <tbody>\n",
              "    <tr>\n",
              "      <th>0</th>\n",
              "      <td>I was wondering if anyone out there could enli...</td>\n",
              "      <td>7</td>\n",
              "      <td>rec.autos</td>\n",
              "      <td>/root/scikit_learn_data/20news_home/20news-byd...</td>\n",
              "    </tr>\n",
              "    <tr>\n",
              "      <th>1</th>\n",
              "      <td>NNTP-Posting-Host: carson.u.washington.edu A f...</td>\n",
              "      <td>4</td>\n",
              "      <td>comp.sys.mac.hardware</td>\n",
              "      <td>/root/scikit_learn_data/20news_home/20news-byd...</td>\n",
              "    </tr>\n",
              "    <tr>\n",
              "      <th>2</th>\n",
              "      <td>well folks, my mac plus finally gave up the gh...</td>\n",
              "      <td>4</td>\n",
              "      <td>comp.sys.mac.hardware</td>\n",
              "      <td>/root/scikit_learn_data/20news_home/20news-byd...</td>\n",
              "    </tr>\n",
              "    <tr>\n",
              "      <th>3</th>\n",
              "      <td>Distribution: world NNTP-Posting-Host: amber.s...</td>\n",
              "      <td>1</td>\n",
              "      <td>comp.graphics</td>\n",
              "      <td>/root/scikit_learn_data/20news_home/20news-byd...</td>\n",
              "    </tr>\n",
              "    <tr>\n",
              "      <th>4</th>\n",
              "      <td>From article by (Tom A Baker): &gt;&gt;In article (P...</td>\n",
              "      <td>14</td>\n",
              "      <td>sci.space</td>\n",
              "      <td>/root/scikit_learn_data/20news_home/20news-byd...</td>\n",
              "    </tr>\n",
              "  </tbody>\n",
              "</table>\n",
              "</div>\n",
              "    <div class=\"colab-df-buttons\">\n",
              "\n",
              "  <div class=\"colab-df-container\">\n",
              "    <button class=\"colab-df-convert\" onclick=\"convertToInteractive('df-b751911b-0290-4bad-b017-fca5bd4c46ed')\"\n",
              "            title=\"Convert this dataframe to an interactive table.\"\n",
              "            style=\"display:none;\">\n",
              "\n",
              "  <svg xmlns=\"http://www.w3.org/2000/svg\" height=\"24px\" viewBox=\"0 -960 960 960\">\n",
              "    <path d=\"M120-120v-720h720v720H120Zm60-500h600v-160H180v160Zm220 220h160v-160H400v160Zm0 220h160v-160H400v160ZM180-400h160v-160H180v160Zm440 0h160v-160H620v160ZM180-180h160v-160H180v160Zm440 0h160v-160H620v160Z\"/>\n",
              "  </svg>\n",
              "    </button>\n",
              "\n",
              "  <style>\n",
              "    .colab-df-container {\n",
              "      display:flex;\n",
              "      gap: 12px;\n",
              "    }\n",
              "\n",
              "    .colab-df-convert {\n",
              "      background-color: #E8F0FE;\n",
              "      border: none;\n",
              "      border-radius: 50%;\n",
              "      cursor: pointer;\n",
              "      display: none;\n",
              "      fill: #1967D2;\n",
              "      height: 32px;\n",
              "      padding: 0 0 0 0;\n",
              "      width: 32px;\n",
              "    }\n",
              "\n",
              "    .colab-df-convert:hover {\n",
              "      background-color: #E2EBFA;\n",
              "      box-shadow: 0px 1px 2px rgba(60, 64, 67, 0.3), 0px 1px 3px 1px rgba(60, 64, 67, 0.15);\n",
              "      fill: #174EA6;\n",
              "    }\n",
              "\n",
              "    .colab-df-buttons div {\n",
              "      margin-bottom: 4px;\n",
              "    }\n",
              "\n",
              "    [theme=dark] .colab-df-convert {\n",
              "      background-color: #3B4455;\n",
              "      fill: #D2E3FC;\n",
              "    }\n",
              "\n",
              "    [theme=dark] .colab-df-convert:hover {\n",
              "      background-color: #434B5C;\n",
              "      box-shadow: 0px 1px 3px 1px rgba(0, 0, 0, 0.15);\n",
              "      filter: drop-shadow(0px 1px 2px rgba(0, 0, 0, 0.3));\n",
              "      fill: #FFFFFF;\n",
              "    }\n",
              "  </style>\n",
              "\n",
              "    <script>\n",
              "      const buttonEl =\n",
              "        document.querySelector('#df-b751911b-0290-4bad-b017-fca5bd4c46ed button.colab-df-convert');\n",
              "      buttonEl.style.display =\n",
              "        google.colab.kernel.accessAllowed ? 'block' : 'none';\n",
              "\n",
              "      async function convertToInteractive(key) {\n",
              "        const element = document.querySelector('#df-b751911b-0290-4bad-b017-fca5bd4c46ed');\n",
              "        const dataTable =\n",
              "          await google.colab.kernel.invokeFunction('convertToInteractive',\n",
              "                                                    [key], {});\n",
              "        if (!dataTable) return;\n",
              "\n",
              "        const docLinkHtml = 'Like what you see? Visit the ' +\n",
              "          '<a target=\"_blank\" href=https://colab.research.google.com/notebooks/data_table.ipynb>data table notebook</a>'\n",
              "          + ' to learn more about interactive tables.';\n",
              "        element.innerHTML = '';\n",
              "        dataTable['output_type'] = 'display_data';\n",
              "        await google.colab.output.renderOutput(dataTable, element);\n",
              "        const docLink = document.createElement('div');\n",
              "        docLink.innerHTML = docLinkHtml;\n",
              "        element.appendChild(docLink);\n",
              "      }\n",
              "    </script>\n",
              "  </div>\n",
              "\n",
              "\n",
              "<div id=\"df-b20bdc49-c484-49e1-bbf9-b6d025b71e53\">\n",
              "  <button class=\"colab-df-quickchart\" onclick=\"quickchart('df-b20bdc49-c484-49e1-bbf9-b6d025b71e53')\"\n",
              "            title=\"Suggest charts\"\n",
              "            style=\"display:none;\">\n",
              "\n",
              "<svg xmlns=\"http://www.w3.org/2000/svg\" height=\"24px\"viewBox=\"0 0 24 24\"\n",
              "     width=\"24px\">\n",
              "    <g>\n",
              "        <path d=\"M19 3H5c-1.1 0-2 .9-2 2v14c0 1.1.9 2 2 2h14c1.1 0 2-.9 2-2V5c0-1.1-.9-2-2-2zM9 17H7v-7h2v7zm4 0h-2V7h2v10zm4 0h-2v-4h2v4z\"/>\n",
              "    </g>\n",
              "</svg>\n",
              "  </button>\n",
              "\n",
              "<style>\n",
              "  .colab-df-quickchart {\n",
              "      --bg-color: #E8F0FE;\n",
              "      --fill-color: #1967D2;\n",
              "      --hover-bg-color: #E2EBFA;\n",
              "      --hover-fill-color: #174EA6;\n",
              "      --disabled-fill-color: #AAA;\n",
              "      --disabled-bg-color: #DDD;\n",
              "  }\n",
              "\n",
              "  [theme=dark] .colab-df-quickchart {\n",
              "      --bg-color: #3B4455;\n",
              "      --fill-color: #D2E3FC;\n",
              "      --hover-bg-color: #434B5C;\n",
              "      --hover-fill-color: #FFFFFF;\n",
              "      --disabled-bg-color: #3B4455;\n",
              "      --disabled-fill-color: #666;\n",
              "  }\n",
              "\n",
              "  .colab-df-quickchart {\n",
              "    background-color: var(--bg-color);\n",
              "    border: none;\n",
              "    border-radius: 50%;\n",
              "    cursor: pointer;\n",
              "    display: none;\n",
              "    fill: var(--fill-color);\n",
              "    height: 32px;\n",
              "    padding: 0;\n",
              "    width: 32px;\n",
              "  }\n",
              "\n",
              "  .colab-df-quickchart:hover {\n",
              "    background-color: var(--hover-bg-color);\n",
              "    box-shadow: 0 1px 2px rgba(60, 64, 67, 0.3), 0 1px 3px 1px rgba(60, 64, 67, 0.15);\n",
              "    fill: var(--button-hover-fill-color);\n",
              "  }\n",
              "\n",
              "  .colab-df-quickchart-complete:disabled,\n",
              "  .colab-df-quickchart-complete:disabled:hover {\n",
              "    background-color: var(--disabled-bg-color);\n",
              "    fill: var(--disabled-fill-color);\n",
              "    box-shadow: none;\n",
              "  }\n",
              "\n",
              "  .colab-df-spinner {\n",
              "    border: 2px solid var(--fill-color);\n",
              "    border-color: transparent;\n",
              "    border-bottom-color: var(--fill-color);\n",
              "    animation:\n",
              "      spin 1s steps(1) infinite;\n",
              "  }\n",
              "\n",
              "  @keyframes spin {\n",
              "    0% {\n",
              "      border-color: transparent;\n",
              "      border-bottom-color: var(--fill-color);\n",
              "      border-left-color: var(--fill-color);\n",
              "    }\n",
              "    20% {\n",
              "      border-color: transparent;\n",
              "      border-left-color: var(--fill-color);\n",
              "      border-top-color: var(--fill-color);\n",
              "    }\n",
              "    30% {\n",
              "      border-color: transparent;\n",
              "      border-left-color: var(--fill-color);\n",
              "      border-top-color: var(--fill-color);\n",
              "      border-right-color: var(--fill-color);\n",
              "    }\n",
              "    40% {\n",
              "      border-color: transparent;\n",
              "      border-right-color: var(--fill-color);\n",
              "      border-top-color: var(--fill-color);\n",
              "    }\n",
              "    60% {\n",
              "      border-color: transparent;\n",
              "      border-right-color: var(--fill-color);\n",
              "    }\n",
              "    80% {\n",
              "      border-color: transparent;\n",
              "      border-right-color: var(--fill-color);\n",
              "      border-bottom-color: var(--fill-color);\n",
              "    }\n",
              "    90% {\n",
              "      border-color: transparent;\n",
              "      border-bottom-color: var(--fill-color);\n",
              "    }\n",
              "  }\n",
              "</style>\n",
              "\n",
              "  <script>\n",
              "    async function quickchart(key) {\n",
              "      const quickchartButtonEl =\n",
              "        document.querySelector('#' + key + ' button');\n",
              "      quickchartButtonEl.disabled = true;  // To prevent multiple clicks.\n",
              "      quickchartButtonEl.classList.add('colab-df-spinner');\n",
              "      try {\n",
              "        const charts = await google.colab.kernel.invokeFunction(\n",
              "            'suggestCharts', [key], {});\n",
              "      } catch (error) {\n",
              "        console.error('Error during call to suggestCharts:', error);\n",
              "      }\n",
              "      quickchartButtonEl.classList.remove('colab-df-spinner');\n",
              "      quickchartButtonEl.classList.add('colab-df-quickchart-complete');\n",
              "    }\n",
              "    (() => {\n",
              "      let quickchartButtonEl =\n",
              "        document.querySelector('#df-b20bdc49-c484-49e1-bbf9-b6d025b71e53 button');\n",
              "      quickchartButtonEl.style.display =\n",
              "        google.colab.kernel.accessAllowed ? 'block' : 'none';\n",
              "    })();\n",
              "  </script>\n",
              "</div>\n",
              "\n",
              "    </div>\n",
              "  </div>\n"
            ],
            "application/vnd.google.colaboratory.intrinsic+json": {
              "type": "dataframe",
              "variable_name": "df",
              "summary": "{\n  \"name\": \"df\",\n  \"rows\": 11314,\n  \"fields\": [\n    {\n      \"column\": \"text\",\n      \"properties\": {\n        \"dtype\": \"string\",\n        \"num_unique_values\": 11275,\n        \"samples\": [\n          \"In article (Peter Tryndoch) writes: > >So when you turn on the power, this causes the bulb to work like a neon, >heating up and shorting out, thus providing a loop to power the heaters in >the main tube. When the tube fires, insufficient current runs through the >starter to keep the heat up and the bi-metalic strip straightens out >(O/C). Imprecise. This description 1. ignores the role of the ballast, 2. misrepresents the heating effects in the starter. The bimetalic strip cools down immediately after the contacts short circuit, because the neon discharge stops, and much less heat is generated from the I^2R loss in the metal as compared to the neon discharge. The starter contacts open before the tube fires. Actually, the tube fires as a result of the back-emf generated in the ballast because of this immediate opening of the starters contacts. A capacitor is connected in parallel with the contacts to prevent excessive arcing during the firing. The neon reionizes but does not draw sufficient current to prevent firing of the tube itself. -- Mustafa Kocaturk EE Dept., Room 305A, Caruth Bldg. Home: 214-706-5954 Office: 214-768-1475 SMU Box 753190, Dallas, TX 75275 \",\n          \"can anyone give me more information regarding endometriosis? i heard its a very common disease among women and if anyone can provide names of a specialist/surgeon in the north carolina research triangle park area (raleigh/durham/chapel hill) who is familiar with the condition, i would really appreciate it. thanks. --Naomi -- Naomi L.T. Courter Network Services Specialist MCNC - Center for Communications CONCERT Network \",\n          \">In article (John Joseph Deltuvia) writes: > >>There was a story a few weeks ago on a network news show about some sort >>of fungus which supposedly attacks the bone structure and is somewhat >>widespread in California. Anybody hear anything about this one? > The only fungus I know of from California is Coccidiomycosis. I hadnt heard that it attacked bone. It attacks lung and if you are especially unlucky, the central nervous system. Nothing new about it. Its been around for years. THey call it \\\"valley fever\\\", since it is found in the inland valleys, not on the coast. -- ---------------------------------------------------------------------------- Gordon Banks N3JXP | \\\"Skepticism is the chastity of the intellect, and | it is shameful to surrender it too soon.\\\" ---------------------------------------------------------------------------- \"\n        ],\n        \"semantic_type\": \"\",\n        \"description\": \"\"\n      }\n    },\n    {\n      \"column\": \"target\",\n      \"properties\": {\n        \"dtype\": \"number\",\n        \"std\": 5,\n        \"min\": 0,\n        \"max\": 19,\n        \"num_unique_values\": 20,\n        \"samples\": [\n          7,\n          17,\n          9\n        ],\n        \"semantic_type\": \"\",\n        \"description\": \"\"\n      }\n    },\n    {\n      \"column\": \"category\",\n      \"properties\": {\n        \"dtype\": \"category\",\n        \"num_unique_values\": 20,\n        \"samples\": [\n          \"rec.autos\",\n          \"talk.politics.mideast\",\n          \"rec.sport.baseball\"\n        ],\n        \"semantic_type\": \"\",\n        \"description\": \"\"\n      }\n    },\n    {\n      \"column\": \"filenames\",\n      \"properties\": {\n        \"dtype\": \"string\",\n        \"num_unique_values\": 11314,\n        \"samples\": [\n          \"/root/scikit_learn_data/20news_home/20news-bydate-train/comp.sys.mac.hardware/50500\",\n          \"/root/scikit_learn_data/20news_home/20news-bydate-train/comp.os.ms-windows.misc/9150\",\n          \"/root/scikit_learn_data/20news_home/20news-bydate-train/misc.forsale/76329\"\n        ],\n        \"semantic_type\": \"\",\n        \"description\": \"\"\n      }\n    }\n  ]\n}"
            }
          },
          "metadata": {},
          "execution_count": 7
        }
      ],
      "source": [
        "import re # Package to use regular expressions\n",
        "\n",
        "# Define a function to clean the input text\n",
        "def clean(text):\n",
        "    text = re.sub(r'\\S*@\\S*\\s?', '', text) # Remove email ids\n",
        "    text = re.sub(r'\\s+', ' ', text) # Remove newline (\\n)\n",
        "    text = re.sub(r\"\\'\", \"\", text) # Remove quotes\n",
        "    # Remove the header metadata\n",
        "    text = re.sub(r\"(From:).*(Lines: )\\d*?( )\", \"\", text)\n",
        "    return text\n",
        "\n",
        "\n",
        "df[\"text\"] = df[\"text\"].apply(clean) # Apply function to all the rows\n",
        "df.head()"
      ]
    },
    {
      "cell_type": "code",
      "source": [
        "df.text[0]"
      ],
      "metadata": {
        "id": "cA0td3IKP_Fo",
        "colab": {
          "base_uri": "https://localhost:8080/",
          "height": 72
        },
        "outputId": "3927ab21-9f27-4b6b-848c-5660c57c588a"
      },
      "execution_count": null,
      "outputs": [
        {
          "output_type": "execute_result",
          "data": {
            "text/plain": [
              "'I was wondering if anyone out there could enlighten me on this car I saw the other day. It was a 2-door sports car, looked to be from the late 60s/ early 70s. It was called a Bricklin. The doors were really small. In addition, the front bumper was separate from the rest of the body. This is all I know. If anyone can tellme a model name, engine specs, years of production, where this car is made, history, or whatever info you have on this funky looking car, please e-mail. Thanks, - IL ---- brought to you by your neighborhood Lerxst ---- '"
            ],
            "application/vnd.google.colaboratory.intrinsic+json": {
              "type": "string"
            }
          },
          "metadata": {},
          "execution_count": 8
        }
      ]
    },
    {
      "cell_type": "markdown",
      "source": [
        "There are two packages to demonstrate the use of LDA for topic modeling:\n",
        "\n",
        "1. Gensim: https://radimrehurek.com/gensim/intro.html\n",
        "2. Sci-kit learn (SKLearn): https://scikit-learn.org/stable/index.html\n",
        "\n",
        "We will use Gensim package in class"
      ],
      "metadata": {
        "id": "jdywWWS7MZg8"
      }
    },
    {
      "cell_type": "markdown",
      "metadata": {
        "id": "aaWFLmP8QzZL"
      },
      "source": [
        "# LDA using Gensim\n",
        "\n",
        "## Let's use a library called Gensim for topic modeling. We start with text preprocessing over a number of steps as shown below:"
      ]
    },
    {
      "cell_type": "markdown",
      "metadata": {
        "id": "9n33MlRaQzZL"
      },
      "source": [
        "### Tokenization"
      ]
    },
    {
      "cell_type": "code",
      "execution_count": null,
      "metadata": {
        "id": "FhcMH5lnQzZL",
        "colab": {
          "base_uri": "https://localhost:8080/"
        },
        "outputId": "03660601-20e0-4091-d7cf-4fba232cd572"
      },
      "outputs": [
        {
          "output_type": "stream",
          "name": "stdout",
          "text": [
            "Sample tokenized text:\n",
            "was wondering if anyone out there could enlighten me on this car saw the other day it was door sports car looked to be from the late early it was called bricklin the doors were really small in addition the front bumper was separate from the rest of the body this is all know if anyone can tellme model name engine specs years of production where this car is made history or whatever info you have on this funky looking car please mail thanks il brought to you by your neighborhood lerxst\n"
          ]
        }
      ],
      "source": [
        "# Import function to convert a document into a list of tokens\n",
        "# This lowercases, tokenizes, and optionally de-accents the text\n",
        "# The output are tokens (unicode strings)\n",
        "from gensim.utils import simple_preprocess\n",
        "\n",
        "# Function to tokenize the text\n",
        "def tokenize(text):\n",
        "    # Apply the simple_preprocess function\n",
        "    text = simple_preprocess(str(text), deacc=True)\n",
        "    return text\n",
        "\n",
        "# Tokenize all texts and store it in a variable\n",
        "tokenized_data = df[\"text\"].apply(tokenize)\n",
        "\n",
        "print(\"Sample tokenized text:\")\n",
        "print(\" \".join(tokenized_data[0]))"
      ]
    },
    {
      "cell_type": "markdown",
      "metadata": {
        "id": "nEuH6Y75QzZM"
      },
      "source": [
        "### Building Bigram & Trigram Models"
      ]
    },
    {
      "cell_type": "code",
      "execution_count": null,
      "metadata": {
        "id": "LtLPrJkdQzZM",
        "colab": {
          "base_uri": "https://localhost:8080/"
        },
        "outputId": "6288e512-5e50-4604-bb1d-ba3b708b5c5b"
      },
      "outputs": [
        {
          "output_type": "stream",
          "name": "stdout",
          "text": [
            "Sample bigrams:\n",
            "front_bumper, nntp_posting, posting_host, host_carson, carson_washington\n",
            "Sample trigrams:\n",
            "front_bumper, nntp_posting, host_carson, nntp_posting_host_carson, washington_edu\n"
          ]
        }
      ],
      "source": [
        "# Function to detect phrases, based on collected collocation counts\n",
        "from gensim.models import Phrases\n",
        "from gensim.models.phrases import Phraser\n",
        "\n",
        "# Collect the bigrams\n",
        "bigram = Phrases(tokenized_data, min_count=3, threshold=100)\n",
        "bigram_model = Phraser(bigram)\n",
        "\n",
        "print(\"Sample bigrams:\")\n",
        "print(\", \".join(list(bigram.export_phrases().keys())[:5]))\n",
        "\n",
        "# Collect the trigrams\n",
        "trigram = Phrases(bigram[tokenized_data], threshold=100)\n",
        "trigram_model = Phraser(trigram)\n",
        "\n",
        "print(\"Sample trigrams:\")\n",
        "print(\", \".join(list(trigram.export_phrases().keys())[:5]))\n",
        "\n",
        "# Function to create bigrams\n",
        "def create_bigrams(text):\n",
        "    return bigram_model[text]\n",
        "\n",
        "# Function to create trigrams\n",
        "def create_trigrams(text):\n",
        "    return trigram_model[bigram_model[text]]"
      ]
    },
    {
      "cell_type": "markdown",
      "metadata": {
        "id": "ktxhzl1BQzZM"
      },
      "source": [
        "### Stopword Removal"
      ]
    },
    {
      "cell_type": "code",
      "execution_count": null,
      "metadata": {
        "id": "loC66l8TQzZN",
        "colab": {
          "base_uri": "https://localhost:8080/"
        },
        "outputId": "0efb0874-de6e-4a04-e365-c0e1f2b01634"
      },
      "outputs": [
        {
          "output_type": "stream",
          "name": "stderr",
          "text": [
            "[nltk_data] Downloading package stopwords to /root/nltk_data...\n",
            "[nltk_data]   Unzipping corpora/stopwords.zip.\n"
          ]
        }
      ],
      "source": [
        "import nltk # Library with access to corpora and lexical resources\n",
        "# Download the required files from nltk\n",
        "nltk.download('stopwords')\n",
        "# Module to access stopwords list\n",
        "from nltk.corpus import stopwords\n",
        "# Extract the list of english stopwords\n",
        "stop_words = stopwords.words('english')\n",
        "\n",
        "# Function to remove stopwords\n",
        "def remove_stopword(text):\n",
        "    tokens = []\n",
        "    for token in text:\n",
        "        if token not in stop_words:\n",
        "            # If the token is not in the list of stopwords\n",
        "            # then keep it, else discard it\n",
        "            tokens.append(token)\n",
        "    return tokens"
      ]
    },
    {
      "cell_type": "markdown",
      "metadata": {
        "id": "iDAoO-WkQzZN"
      },
      "source": [
        "### Lemmatization"
      ]
    },
    {
      "cell_type": "code",
      "execution_count": null,
      "metadata": {
        "id": "gK5Xw0UIQzZN"
      },
      "outputs": [],
      "source": [
        "import spacy # Library for NLP\n",
        "# Load the spacy trained pipeline to tokenize the text\n",
        "nlp = spacy.load('en_core_web_sm', disable=['parser', 'ner'])\n",
        "\n",
        "# Function to lemmatize the tokens\n",
        "def lemmatize(tokens, allowed_postags=[\"NOUN\", \"ADJ\", \"VERB\"]):\n",
        "    text = \" \".join(tokens)\n",
        "    text = nlp(text)\n",
        "    lemmatized_tokens = []\n",
        "\n",
        "    for token in text:\n",
        "        if token.pos_ in allowed_postags:\n",
        "            lemmatized_tokens.append(token.lemma_)\n",
        "\n",
        "    return lemmatized_tokens"
      ]
    },
    {
      "cell_type": "markdown",
      "metadata": {
        "id": "8nFy-0DvQzZO"
      },
      "source": [
        "### Building the Corpus"
      ]
    },
    {
      "cell_type": "code",
      "execution_count": null,
      "metadata": {
        "id": "RFSTzdG2QzZO"
      },
      "outputs": [],
      "source": [
        "from tqdm import tqdm # Function to display progress bars\n",
        "\n",
        "# Apply function to remove the stopwords\n",
        "tokenized_data = [remove_stopword(text) for text in tokenized_data]\n",
        "\n",
        "# Create the bigrams\n",
        "bigram_data = [create_bigrams(text) for text in tokenized_data]\n",
        "\n",
        "# Lemmatize the text\n",
        "lemmatized_data = [lemmatize(text) for text in bigram_data]"
      ]
    },
    {
      "cell_type": "code",
      "execution_count": null,
      "metadata": {
        "id": "E4vYs8kvQzZO",
        "colab": {
          "base_uri": "https://localhost:8080/"
        },
        "outputId": "0bc0ef94-fc41-4d63-9166-8b2bed2a4e5f"
      },
      "outputs": [
        {
          "output_type": "stream",
          "name": "stdout",
          "text": [
            "Lemmatized data:\n",
            "1. wonder enlighten car see day door sport car look call door small addition separate rest body know model name engine spec year production car make history info funky look car mail thank bring neighborhood lerxst\n",
            "2. nntp_poste fair number brave soul upgrade clock_oscillator share experience poll send brief message detail experience procedure top speed attain cpu rate speed add card adapter heat_sink hour usage day floppy_disk functionality floppy request summarize day add network knowledge base do clock upgrade answer poll thank\n",
            "3. folk give ghost weekend start life sooo m market new machine bit intend m look pick powerbook bunch question answer know dirt next round powerbook introduction expect hear suppose make appearence summer hear access macleak wonder info heard_rumor price drop powerbook line one duos go s impression display swing get disk feel well display yea look great store good solicit opinion people use day day worth take disk size money hit get active display realize subjective question ve play machine computer store breifly figure opinion use machine prove helpful hellcat perform thank bunch advance info email ill post summary news reading time premium final corner purdue electrical_engineere conviction dangerous_enemie truth lie\n"
          ]
        }
      ],
      "source": [
        "# Print the lemmatized data\n",
        "print(\"Lemmatized data:\")\n",
        "print(f\"1. {' '.join(lemmatized_data[0])}\")\n",
        "print(f\"2. {' '.join(lemmatized_data[1])}\")\n",
        "print(f\"3. {' '.join(lemmatized_data[2])}\")"
      ]
    },
    {
      "cell_type": "code",
      "execution_count": null,
      "metadata": {
        "id": "YG7XpVEJQzZP",
        "colab": {
          "base_uri": "https://localhost:8080/"
        },
        "outputId": "feec2065-6835-4cfb-ec79-0af25df30a5b"
      },
      "outputs": [
        {
          "output_type": "stream",
          "name": "stdout",
          "text": [
            "Sample dictionary mapping:\n",
            "addition => 0\n",
            "body => 1\n",
            "bring => 2\n",
            "call => 3\n",
            "car => 4\n"
          ]
        }
      ],
      "source": [
        "# This module implements the concept of a Dictionary\n",
        "# i.e. a mapping between words and their integer ids\n",
        "from gensim.corpora import Dictionary\n",
        "\n",
        "# Create a dictionary\n",
        "dictionary = Dictionary(lemmatized_data)\n",
        "\n",
        "# Print sample mapping\n",
        "keys = list(dictionary.token2id.keys())[:5]\n",
        "vals = list(dictionary.token2id.values())[:5]\n",
        "print(\"Sample dictionary mapping:\")\n",
        "for (key, val) in zip(keys, vals):\n",
        "    print(f\"{key} => {val}\")"
      ]
    },
    {
      "cell_type": "code",
      "execution_count": null,
      "metadata": {
        "id": "fIFOtHrMQzZP",
        "colab": {
          "base_uri": "https://localhost:8080/"
        },
        "outputId": "118497bc-3c86-4d43-c077-856847d87e0b"
      },
      "outputs": [
        {
          "output_type": "stream",
          "name": "stdout",
          "text": [
            "Text: wonder enlighten car see day door sport car look call door small addition separate rest body know model name engine spec year production car make history info funky look car mail thank bring neighborhood lerxst\n",
            "Corpus: [(0, 1), (1, 1), (2, 1), (3, 1), (4, 4), (5, 1), (6, 2), (7, 1), (8, 1), (9, 1), (10, 1), (11, 1), (12, 1), (13, 1), (14, 2), (15, 1), (16, 1), (17, 1), (18, 1), (19, 1), (20, 1), (21, 1), (22, 1), (23, 1), (24, 1), (25, 1), (26, 1), (27, 1), (28, 1), (29, 1)]\n"
          ]
        }
      ],
      "source": [
        "# Build a corpus for the topic model\n",
        "\n",
        "# Convert the document into a Bag-Of-Words format by producing\n",
        "# a list of tuples in (token_id, token_count) format\n",
        "corpus = [dictionary.doc2bow(text) for text in lemmatized_data]\n",
        "\n",
        "# Print a sample from the created corpus\n",
        "print(f\"Text: {' '.join(lemmatized_data[0])}\")\n",
        "print(f\"Corpus: {corpus[0]}\")"
      ]
    },
    {
      "cell_type": "markdown",
      "metadata": {
        "id": "6MgpSTGVQzZP"
      },
      "source": [
        "### Creating the Model"
      ]
    },
    {
      "cell_type": "code",
      "execution_count": null,
      "metadata": {
        "id": "BzC3fESCQzZP"
      },
      "outputs": [],
      "source": [
        "# Module to train and use the Latent Dirichlet Allocation model\n",
        "from gensim.models.ldamodel import LdaModel\n",
        "\n",
        "# Initialize the model with the corpus and dictionary - this will take a while to run, be patient!\n",
        "lda_model = LdaModel(\n",
        "   corpus=corpus, id2word=dictionary, num_topics=20,\n",
        "   random_state=100, update_every=1, chunksize=100,\n",
        "   passes=10, alpha='auto', per_word_topics=True\n",
        ")\n",
        "\n",
        "#You may fine tune parameters from the documentation here: https://radimrehurek.com/gensim/models/ldamodel.html. Try them out."
      ]
    },
    {
      "cell_type": "code",
      "execution_count": null,
      "metadata": {
        "id": "z4aH1vW0QzZQ"
      },
      "outputs": [],
      "source": [
        "# Save the model\n",
        "\n",
        "lda_model.save(\"lda_model\") # Save the model as lda_model\n",
        "del lda_model # Delete the model and free up the space used by it"
      ]
    },
    {
      "cell_type": "code",
      "execution_count": null,
      "metadata": {
        "id": "e-83XSRVQzZQ"
      },
      "outputs": [],
      "source": [
        "# Load the model\n",
        "lda_model = LdaModel.load(\"lda_model\") # Load it by passing the name"
      ]
    },
    {
      "cell_type": "markdown",
      "metadata": {
        "id": "697x65d6QzZQ"
      },
      "source": [
        "### Visualize with pyLDAvis"
      ]
    },
    {
      "cell_type": "code",
      "execution_count": null,
      "metadata": {
        "id": "kLEFNhjKQzZQ",
        "colab": {
          "base_uri": "https://localhost:8080/",
          "height": 399
        },
        "outputId": "8791634b-dbd7-4ee8-e611-42124aa58d76"
      },
      "outputs": [
        {
          "output_type": "error",
          "ename": "ModuleNotFoundError",
          "evalue": "No module named 'pyLDAvis'",
          "traceback": [
            "\u001b[0;31m---------------------------------------------------------------------------\u001b[0m",
            "\u001b[0;31mModuleNotFoundError\u001b[0m                       Traceback (most recent call last)",
            "\u001b[0;32m<ipython-input-20-2ebbe2d6f49d>\u001b[0m in \u001b[0;36m<cell line: 0>\u001b[0;34m()\u001b[0m\n\u001b[0;32m----> 1\u001b[0;31m \u001b[0;32mimport\u001b[0m \u001b[0mpyLDAvis\u001b[0m \u001b[0;31m# Module for interactive topic model visualization\u001b[0m\u001b[0;34m\u001b[0m\u001b[0;34m\u001b[0m\u001b[0m\n\u001b[0m\u001b[1;32m      2\u001b[0m \u001b[0;31m# Function to prepare LDA model for visualiztion\u001b[0m\u001b[0;34m\u001b[0m\u001b[0;34m\u001b[0m\u001b[0m\n\u001b[1;32m      3\u001b[0m \u001b[0;32mfrom\u001b[0m \u001b[0mpyLDAvis\u001b[0m\u001b[0;34m.\u001b[0m\u001b[0mgensim\u001b[0m \u001b[0;32mimport\u001b[0m \u001b[0mprepare\u001b[0m\u001b[0;34m\u001b[0m\u001b[0;34m\u001b[0m\u001b[0m\n\u001b[1;32m      4\u001b[0m \u001b[0;34m\u001b[0m\u001b[0m\n\u001b[1;32m      5\u001b[0m \u001b[0;31m# Enable the display of visualizations in IPython Notebooks\u001b[0m\u001b[0;34m\u001b[0m\u001b[0;34m\u001b[0m\u001b[0m\n",
            "\u001b[0;31mModuleNotFoundError\u001b[0m: No module named 'pyLDAvis'",
            "",
            "\u001b[0;31m---------------------------------------------------------------------------\u001b[0;32m\nNOTE: If your import is failing due to a missing package, you can\nmanually install dependencies using either !pip or !apt.\n\nTo view examples of installing some common dependencies, click the\n\"Open Examples\" button below.\n\u001b[0;31m---------------------------------------------------------------------------\u001b[0m\n"
          ],
          "errorDetails": {
            "actions": [
              {
                "action": "open_url",
                "actionText": "Open Examples",
                "url": "/notebooks/snippets/importing_libraries.ipynb"
              }
            ]
          }
        }
      ],
      "source": [
        "import pyLDAvis # Module for interactive topic model visualization\n",
        "# Function to prepare LDA model for visualiztion\n",
        "from pyLDAvis.gensim import prepare\n",
        "\n",
        "# Enable the display of visualizations in IPython Notebooks\n",
        "pyLDAvis.enable_notebook()\n",
        "\n",
        "# Prepare and transform and LDA model\n",
        "pyLDAvis_data = prepare(lda_model, corpus, dictionary)"
      ]
    },
    {
      "cell_type": "code",
      "execution_count": null,
      "metadata": {
        "id": "4slSgrWvQzZQ"
      },
      "outputs": [],
      "source": [
        "pyLDAvis.display(pyLDAvis_data)"
      ]
    },
    {
      "cell_type": "markdown",
      "source": [
        "## Term frequency Inverse Document Frequency (Tf-Idf) for topic modeling\n"
      ],
      "metadata": {
        "id": "REX_HXfTM7IA"
      }
    },
    {
      "cell_type": "markdown",
      "source": [
        "### Let's try re-doing topic modeling using tf-idf instead of word counts in the DTM and create other visualisations!"
      ],
      "metadata": {
        "id": "Hgtm0xtqJ0Eh"
      }
    },
    {
      "cell_type": "code",
      "source": [
        "from gensim.models import LdaMulticore\n",
        "from gensim.models import TfidfModel\n",
        "import matplotlib.pyplot as plt\n",
        "import math\n",
        "\n",
        "# Create TF-IDF model using the same pre-processed corpus\n",
        "tfidf = TfidfModel(corpus)\n",
        "corpus_tfidf = tfidf[corpus]\n",
        "\n",
        "# Train the LDA model\n",
        "num_topics = 20  # You can adjust this number\n",
        "lda_model = LdaMulticore(corpus=corpus_tfidf, id2word=dictionary, num_topics=num_topics, random_state=42)\n",
        "\n",
        "# Print the topics\n",
        "print(\"Topics:\")\n",
        "for idx, topic in lda_model.print_topics(-1):\n",
        "    print(f\"Topic: {idx} \\nWords: {topic}\\n\")\n",
        "\n",
        "# Visualize the topics in bar plots\n",
        "def plot_top_words(model, feature_names, n_top_words, title):\n",
        "    # Get the number of topics\n",
        "    num_topics = len(model.print_topics(-1))\n",
        "\n",
        "    # Calculate the number of rows and columns for subplots\n",
        "    num_cols = min(4, num_topics)  # Maximum 4 columns\n",
        "    num_rows = math.ceil(num_topics / num_cols)\n",
        "\n",
        "    # Create subplots\n",
        "    fig, axes = plt.subplots(num_rows, num_cols, figsize=(5*num_cols, 4*num_rows), sharex=True)\n",
        "    axes = axes.flatten() if num_topics > 1 else [axes]\n",
        "\n",
        "    for topic_idx, topic in model.print_topics(-1):\n",
        "        # Use regex to extract words and weights\n",
        "        words_weights = re.findall(r'(0\\.\\d+)\\*\"(.+?)\"', topic)\n",
        "\n",
        "        if words_weights:\n",
        "            weights, words = zip(*words_weights)\n",
        "            weights = [float(w) for w in weights]\n",
        "        else:\n",
        "            print(f\"No matches found for topic {topic_idx}\")\n",
        "            continue\n",
        "\n",
        "        ax = axes[topic_idx]\n",
        "        ax.barh(words[:n_top_words], weights[:n_top_words])\n",
        "        ax.set_title(f'Topic {topic_idx + 1}')\n",
        "        ax.invert_yaxis()\n",
        "        ax.tick_params(axis='both', which='major', labelsize=8)\n",
        "        for i in 'top right left'.split():\n",
        "            ax.spines[i].set_visible(False)\n",
        "\n",
        "    # Hide any unused subplots\n",
        "    for idx in range(num_topics, len(axes)):\n",
        "        axes[idx].set_visible(False)\n",
        "\n",
        "    fig.suptitle(title, fontsize=16)\n",
        "    plt.tight_layout()\n",
        "    plt.subplots_adjust(top=0.95)  # Adjust to prevent title overlap\n",
        "    plt.show()\n",
        "\n",
        "plot_top_words(lda_model, dictionary.values(), n_top_words=10, title='Topics in the LDA model using tf-idf')\n",
        "\n",
        "# Assign topics to documents\n",
        "def format_topics_sentences(ldamodel, corpus):\n",
        "    topics_df = []\n",
        "\n",
        "    for i, row in enumerate(ldamodel[corpus]):\n",
        "        row = sorted(row, key=lambda x: (x[1]), reverse=True)\n",
        "        # Get the Dominant topic, Perc Contribution and Keywords for each document\n",
        "        for j, (topic_num, prop_topic) in enumerate(row):\n",
        "            if j == 0:  # => dominant topic\n",
        "                wp = ldamodel.show_topic(topic_num)\n",
        "                topic_keywords = \", \".join([word for word, prop in wp])\n",
        "                topics_df.append([int(topic_num), round(prop_topic,4), topic_keywords])\n",
        "            else:\n",
        "                break\n",
        "\n",
        "    return pd.DataFrame(topics_df, columns=['Dominant_Topic', 'Perc_Contribution', 'Topic_Keywords'])\n",
        "\n",
        "# Use the function\n",
        "df_topic_sents_keywords = format_topics_sentences(ldamodel=lda_model, corpus=corpus_tfidf)\n",
        "\n",
        "# Combine original dataframe with the topic dataframe\n",
        "df_dominant_topic = pd.concat([df_topic_sents_keywords, df.reset_index()], axis=1)\n",
        "print(df_dominant_topic)"
      ],
      "metadata": {
        "colab": {
          "base_uri": "https://localhost:8080/",
          "height": 1000
        },
        "id": "w5UnDjCQJyL_",
        "outputId": "3af0a21c-e7f6-460a-9cfe-1c0ccf8a8dab"
      },
      "execution_count": null,
      "outputs": [
        {
          "output_type": "stream",
          "name": "stderr",
          "text": [
            "WARNING:gensim.models.ldamulticore:too few updates, training might not converge; consider increasing the number of passes or iterations to improve accuracy\n"
          ]
        },
        {
          "output_type": "stream",
          "name": "stdout",
          "text": [
            "Topics:\n",
            "Topic: 0 \n",
            "Words: 0.002*\"get\" + 0.002*\"go\" + 0.002*\"use\" + 0.002*\"say\" + 0.002*\"good\" + 0.002*\"think\" + 0.002*\"know\" + 0.001*\"article\" + 0.001*\"mouse\" + 0.001*\"nntp_poste\"\n",
            "\n",
            "Topic: 1 \n",
            "Words: 0.002*\"card\" + 0.002*\"get\" + 0.002*\"scsi\" + 0.002*\"thank\" + 0.002*\"use\" + 0.002*\"drive\" + 0.002*\"article\" + 0.002*\"driver\" + 0.002*\"work\" + 0.001*\"buy\"\n",
            "\n",
            "Topic: 2 \n",
            "Words: 0.002*\"key\" + 0.002*\"get\" + 0.002*\"know\" + 0.002*\"say\" + 0.002*\"window\" + 0.002*\"make\" + 0.002*\"use\" + 0.002*\"system\" + 0.001*\"write\" + 0.001*\"people\"\n",
            "\n",
            "Topic: 3 \n",
            "Words: 0.002*\"get\" + 0.002*\"use\" + 0.002*\"thank\" + 0.002*\"duo\" + 0.002*\"know\" + 0.001*\"system\" + 0.001*\"work\" + 0.001*\"program\" + 0.001*\"make\" + 0.001*\"image\"\n",
            "\n",
            "Topic: 4 \n",
            "Words: 0.002*\"m\" + 0.002*\"car\" + 0.002*\"thank\" + 0.002*\"use\" + 0.002*\"window\" + 0.001*\"file\" + 0.001*\"good\" + 0.001*\"write\" + 0.001*\"article\" + 0.001*\"know\"\n",
            "\n",
            "Topic: 5 \n",
            "Words: 0.002*\"team\" + 0.002*\"use\" + 0.002*\"game\" + 0.001*\"go\" + 0.001*\"get\" + 0.001*\"window\" + 0.001*\"host\" + 0.001*\"move\" + 0.001*\"nntp_poste\" + 0.001*\"thank\"\n",
            "\n",
            "Topic: 6 \n",
            "Words: 0.002*\"system\" + 0.002*\"use\" + 0.002*\"people\" + 0.002*\"get\" + 0.002*\"know\" + 0.002*\"chip\" + 0.002*\"need\" + 0.001*\"window\" + 0.001*\"m\" + 0.001*\"tell\"\n",
            "\n",
            "Topic: 7 \n",
            "Words: 0.002*\"people\" + 0.002*\"say\" + 0.002*\"time\" + 0.002*\"use\" + 0.002*\"know\" + 0.002*\"think\" + 0.002*\"article\" + 0.002*\"look\" + 0.001*\"get\" + 0.001*\"make\"\n",
            "\n",
            "Topic: 8 \n",
            "Words: 0.001*\"make\" + 0.001*\"trade\" + 0.001*\"use\" + 0.001*\"people\" + 0.001*\"article\" + 0.001*\"get\" + 0.001*\"arab\" + 0.001*\"say\" + 0.001*\"know\" + 0.001*\"call\"\n",
            "\n",
            "Topic: 9 \n",
            "Words: 0.002*\"think\" + 0.001*\"people\" + 0.001*\"font\" + 0.001*\"use\" + 0.001*\"say\" + 0.001*\"nntp_poste\" + 0.001*\"article\" + 0.001*\"write\" + 0.001*\"system\" + 0.001*\"want\"\n",
            "\n",
            "Topic: 10 \n",
            "Words: 0.001*\"engine\" + 0.001*\"get\" + 0.001*\"thank\" + 0.001*\"use\" + 0.001*\"ff\" + 0.001*\"ride\" + 0.001*\"server\" + 0.001*\"nntp_poste\" + 0.001*\"bike\" + 0.001*\"mail\"\n",
            "\n",
            "Topic: 11 \n",
            "Words: 0.002*\"file\" + 0.002*\"driver\" + 0.001*\"window\" + 0.001*\"say\" + 0.001*\"get\" + 0.001*\"thank\" + 0.001*\"drive\" + 0.001*\"email\" + 0.001*\"m\" + 0.001*\"card\"\n",
            "\n",
            "Topic: 12 \n",
            "Words: 0.001*\"use\" + 0.001*\"article\" + 0.001*\"say\" + 0.001*\"thank\" + 0.001*\"nntp_poste\" + 0.001*\"host\" + 0.001*\"write\" + 0.001*\"include\" + 0.001*\"encrypt\" + 0.001*\"game\"\n",
            "\n",
            "Topic: 13 \n",
            "Words: 0.001*\"marriage\" + 0.001*\"people\" + 0.001*\"say\" + 0.001*\"write\" + 0.001*\"think\" + 0.001*\"see\" + 0.001*\"article\" + 0.001*\"know\" + 0.001*\"make\" + 0.001*\"go\"\n",
            "\n",
            "Topic: 14 \n",
            "Words: 0.002*\"program\" + 0.002*\"use\" + 0.001*\"ripem\" + 0.001*\"key\" + 0.001*\"window\" + 0.001*\"run\" + 0.001*\"hawk\" + 0.001*\"motif\" + 0.001*\"know\" + 0.001*\"nntp_poste\"\n",
            "\n",
            "Topic: 15 \n",
            "Words: 0.001*\"post\" + 0.001*\"nickname\" + 0.001*\"get\" + 0.001*\"use\" + 0.001*\"say\" + 0.001*\"window\" + 0.001*\"m\" + 0.001*\"checker\" + 0.001*\"spice\" + 0.001*\"make\"\n",
            "\n",
            "Topic: 16 \n",
            "Words: 0.002*\"use\" + 0.002*\"get\" + 0.001*\"know\" + 0.001*\"people\" + 0.001*\"year\" + 0.001*\"gateway\" + 0.001*\"system\" + 0.001*\"think\" + 0.001*\"say\" + 0.001*\"good\"\n",
            "\n",
            "Topic: 17 \n",
            "Words: 0.002*\"people\" + 0.002*\"go\" + 0.002*\"m\" + 0.002*\"think\" + 0.002*\"know\" + 0.002*\"see\" + 0.002*\"day\" + 0.002*\"drug\" + 0.002*\"article\" + 0.001*\"use\"\n",
            "\n",
            "Topic: 18 \n",
            "Words: 0.002*\"say\" + 0.002*\"group\" + 0.002*\"people\" + 0.002*\"good\" + 0.002*\"m\" + 0.002*\"know\" + 0.002*\"think\" + 0.002*\"use\" + 0.001*\"go\" + 0.001*\"believe\"\n",
            "\n",
            "Topic: 19 \n",
            "Words: 0.001*\"penguin\" + 0.001*\"islander\" + 0.001*\"window\" + 0.001*\"nntp_poste\" + 0.001*\"score\" + 0.001*\"write\" + 0.001*\"use\" + 0.001*\"file\" + 0.001*\"devil\" + 0.001*\"thank\"\n",
            "\n"
          ]
        },
        {
          "output_type": "display_data",
          "data": {
            "text/plain": [
              "<Figure size 2000x2000 with 20 Axes>"
            ],
            "image/png": "[encoded data removed]"
          },
          "metadata": {}
        },
        {
          "output_type": "stream",
          "name": "stdout",
          "text": [
            "       Dominant_Topic  Perc_Contribution  \\\n",
            "0                  17             0.6760   \n",
            "1                   7             0.8539   \n",
            "2                  17             0.6884   \n",
            "3                   6             0.4759   \n",
            "4                   2             0.4429   \n",
            "...               ...                ...   \n",
            "11309               3             0.3785   \n",
            "11310               7             0.7153   \n",
            "11311              16             0.5204   \n",
            "11312              13             0.8007   \n",
            "11313              12             0.4006   \n",
            "\n",
            "                                          Topic_Keywords  index  \\\n",
            "0      people, go, m, think, know, see, day, drug, ar...      0   \n",
            "1      people, say, time, use, know, think, article, ...      1   \n",
            "2      people, go, m, think, know, see, day, drug, ar...      2   \n",
            "3      system, use, people, get, know, chip, need, wi...      3   \n",
            "4      key, get, know, say, window, make, use, system...      4   \n",
            "...                                                  ...    ...   \n",
            "11309  get, use, thank, duo, know, system, work, prog...  11309   \n",
            "11310  people, say, time, use, know, think, article, ...  11310   \n",
            "11311  use, get, know, people, year, gateway, system,...  11311   \n",
            "11312  marriage, people, say, write, think, see, arti...  11312   \n",
            "11313  use, article, say, thank, nntp_poste, host, wr...  11313   \n",
            "\n",
            "                                                    text  target  \\\n",
            "0      I was wondering if anyone out there could enli...       7   \n",
            "1      NNTP-Posting-Host: carson.u.washington.edu A f...       4   \n",
            "2      well folks, my mac plus finally gave up the gh...       4   \n",
            "3      Distribution: world NNTP-Posting-Host: amber.s...       1   \n",
            "4      From article by (Tom A Baker): >>In article (P...      14   \n",
            "...                                                  ...     ...   \n",
            "11309  DN> From: (David Nye) DN> A neurology DN> cons...      13   \n",
            "11310  Organization: Tufts University - Medford, MA I...       4   \n",
            "11311  I just installed a DX2-66 CPU in a clone mothe...       3   \n",
            "11312  Nntp-Posting-Host: hcrlgw In article (Edward B...       1   \n",
            "11313  Distribution: usa NNTP-Posting-Host: alumni.ca...       8   \n",
            "\n",
            "                       category  \\\n",
            "0                     rec.autos   \n",
            "1         comp.sys.mac.hardware   \n",
            "2         comp.sys.mac.hardware   \n",
            "3                 comp.graphics   \n",
            "4                     sci.space   \n",
            "...                         ...   \n",
            "11309                   sci.med   \n",
            "11310     comp.sys.mac.hardware   \n",
            "11311  comp.sys.ibm.pc.hardware   \n",
            "11312             comp.graphics   \n",
            "11313           rec.motorcycles   \n",
            "\n",
            "                                               filenames  \n",
            "0      /root/scikit_learn_data/20news_home/20news-byd...  \n",
            "1      /root/scikit_learn_data/20news_home/20news-byd...  \n",
            "2      /root/scikit_learn_data/20news_home/20news-byd...  \n",
            "3      /root/scikit_learn_data/20news_home/20news-byd...  \n",
            "4      /root/scikit_learn_data/20news_home/20news-byd...  \n",
            "...                                                  ...  \n",
            "11309  /root/scikit_learn_data/20news_home/20news-byd...  \n",
            "11310  /root/scikit_learn_data/20news_home/20news-byd...  \n",
            "11311  /root/scikit_learn_data/20news_home/20news-byd...  \n",
            "11312  /root/scikit_learn_data/20news_home/20news-byd...  \n",
            "11313  /root/scikit_learn_data/20news_home/20news-byd...  \n",
            "\n",
            "[11314 rows x 8 columns]\n"
          ]
        }
      ]
    }
  ],
  "metadata": {
    "kernelspec": {
      "display_name": "venv",
      "language": "python",
      "name": "python3"
    },
    "language_info": {
      "codemirror_mode": {
        "name": "ipython",
        "version": 3
      },
      "file_extension": ".py",
      "mimetype": "text/x-python",
      "name": "python",
      "nbconvert_exporter": "python",
      "pygments_lexer": "ipython3",
      "version": "3.11.2"
    },
    "orig_nbformat": 4,
    "colab": {
      "provenance": []
    }
  },
  "nbformat": 4,
  "nbformat_minor": 0
}
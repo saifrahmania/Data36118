{
  "nbformat": 4,
  "nbformat_minor": 0,
  "metadata": {
    "colab": {
      "provenance": []
    },
    "kernelspec": {
      "name": "python3",
      "display_name": "Python 3"
    },
    "language_info": {
      "name": "python"
    }
  },
  "cells": [
    {
      "cell_type": "markdown",
      "source": [
        "Use the following lists to find open source data sets to complete take-home exercises. You can also apply these in the data set provided for AT1.\n",
        "\n",
        "[Open Data Sets](https://canvas.uts.edu.au/courses/32341/pages/open-data-sets-for-nlp-and-text-analysis?module_item_id=1878922)"
      ],
      "metadata": {
        "id": "zwEukFd8AJE7"
      }
    },
    {
      "cell_type": "markdown",
      "source": [
        "### Pre-processing\n",
        "\n",
        "1.   Calculate word associations in a large data set; try different methods to calculate it (e.g. pmi, chi-square test, etc.)\n",
        "2.  Compare lemmatization and stemming results\n",
        "3.   Try adding another pre-processing step to remove all numbers/ digits from text\n",
        "\n",
        "\n"
      ],
      "metadata": {
        "id": "jT3X0RuyndZi"
      }
    },
    {
      "cell_type": "code",
      "source": [],
      "metadata": {
        "id": "ER80G_dwRkij"
      },
      "execution_count": null,
      "outputs": []
    },
    {
      "cell_type": "markdown",
      "source": [
        "### Topic Modeling\n",
        "\n",
        "Try out Topic Modeling using the Sci-kit learn (SKLearn) package. There are different algorithms you can read about and experiment with - Latent Semantic Analysis (LSA), Latent Dirichlet Allocation (LDA), Non-negative Matrix Factorization (NMF)"
      ],
      "metadata": {
        "id": "iQSBeMtujknV"
      }
    },
    {
      "cell_type": "code",
      "source": [],
      "metadata": {
        "id": "iI5xT7o8Rlcf"
      },
      "execution_count": null,
      "outputs": []
    },
    {
      "cell_type": "markdown",
      "source": [
        "### Text Clustering\n",
        "\n",
        "Try out text clustering with a different dataset and build an optimized model by re-evaluating the number of clusters."
      ],
      "metadata": {
        "id": "tBIAVwtV_cvw"
      }
    },
    {
      "cell_type": "code",
      "source": [],
      "metadata": {
        "id": "n5f6rgjHXWaa"
      },
      "execution_count": null,
      "outputs": []
    }
  ]
}
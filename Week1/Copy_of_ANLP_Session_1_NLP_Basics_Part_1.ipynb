{
  "nbformat": 4,
  "nbformat_minor": 0,
  "metadata": {
    "colab": {
      "provenance": []
    },
    "kernelspec": {
      "name": "python3",
      "display_name": "Python 3"
    },
    "language_info": {
      "name": "python"
    }
  },
  "cells": [
    {
      "cell_type": "markdown",
      "source": [
        "# tinyurl.com/ANLPcolab1"
      ],
      "metadata": {
        "id": "bFZV-SOzr6vq"
      }
    },
    {
      "cell_type": "markdown",
      "source": [
        "# Basics of Natural Language Processing (NLP) #\n",
        "\n",
        "*CoLab Tutorial*\n",
        "\n",
        "This notebook demonstrates some basic NLP tasks to get you started on text analysis.\n",
        "\n",
        "Read through the code to understand its functions. Run each block one by one in order of occurence to get the results. Have a play with the cells by editing the code and examining the new output(s)."
      ],
      "metadata": {
        "id": "8AhFOUj6iCWG"
      }
    },
    {
      "cell_type": "markdown",
      "source": [
        "# Run this code in the beginning to limit the output size of the cells\n",
        "\n",
        "This is just an initial set up to make sure our cells are displayed properly"
      ],
      "metadata": {
        "id": "fxBFGZ8DadFp"
      }
    },
    {
      "cell_type": "code",
      "source": [
        "from IPython.display import display, Javascript\n",
        "\n",
        "def resize_colab_cell():\n",
        "  # Change the maxHeight variable to change the max height of the output\n",
        "   display(Javascript('google.colab.output.setIframeHeight(0, true, {maxHeight: 400})'))\n",
        "  #Change output size for the entire notebook (set to call function on cell run)\n",
        "   get_ipython().events.register('pre_run_cell', resize_colab_cell)"
      ],
      "metadata": {
        "id": "8HBE7ck1XPX_"
      },
      "execution_count": null,
      "outputs": []
    },
    {
      "cell_type": "markdown",
      "source": [
        "## 1. Input Text\n",
        "\n",
        "There are many ways we can provide an input text for analysis. We will go through three ways in this notebook\n",
        "\n",
        "\n",
        "1.   Define input text in a variable\n",
        "2.   Scrape text from a web source\n",
        "3.   Read from a file\n",
        "\n",
        "Defining input text in a variable and scraping text from a web source will be demonstrated in class.\n",
        "\n",
        "To get started, we provide a sample text for analysis. We analyse the **components of the text** to teach the machine to make sense of it.\n"
      ],
      "metadata": {
        "id": "jT3X0RuyndZi"
      }
    },
    {
      "cell_type": "code",
      "source": [
        "# Assign text (in the form of a multiline string) to a variable 'mytext'\n",
        "\n",
        "mytext = \"\"\"\n",
        "Have we reached (hu)man-machine symbiosis where we do not simply use technology but are enmeshed with technology in “socio-cyborgian activity systems,” as Bazerman notes?\n",
        "\n",
        "While we are certainly in an age where technology plays an increasingly important role in our daily lives, we have not yet fully reached a state of human-machine symbiosis. However, there are certainly elements of symbiosis that can be seen in certain domains.\n",
        "\n",
        "For example, in some professions such as medicine or aviation, technology plays an integral role in supporting human decision-making and action. In these domains, technology and humans work together to achieve a common goal, and the relationship between the two can be seen as a kind of symbiosis.\n",
        "\n",
        "However, in other domains such as social media or gaming, the relationship between humans and technology is more complex and often less symbiotic. In these domains, technology can sometimes be seen as a distraction or even a hindrance to human activity, rather than a support.\n",
        "\n",
        "Overall, while the relationship between humans and technology is undoubtedly becoming more intertwined, it is still evolving and we have not yet reached a full state of symbiosis in all areas of our lives\n",
        "\"\"\".strip()\n",
        "\n",
        "# Check if the variable contains the intended text\n",
        "print(mytext)"
      ],
      "metadata": {
        "id": "z_GujJQgg8Qn",
        "colab": {
          "base_uri": "https://localhost:8080/"
        },
        "outputId": "ccf24e88-2682-4961-c808-00a28793f404"
      },
      "execution_count": null,
      "outputs": [
        {
          "output_type": "stream",
          "name": "stdout",
          "text": [
            "Have we reached (hu)man-machine symbiosis where we do not simply use technology but are enmeshed with technology in “socio-cyborgian activity systems,” as Bazerman notes?\n",
            "\n",
            "While we are certainly in an age where technology plays an increasingly important role in our daily lives, we have not yet fully reached a state of human-machine symbiosis. However, there are certainly elements of symbiosis that can be seen in certain domains.\n",
            "\n",
            "For example, in some professions such as medicine or aviation, technology plays an integral role in supporting human decision-making and action. In these domains, technology and humans work together to achieve a common goal, and the relationship between the two can be seen as a kind of symbiosis.\n",
            "\n",
            "However, in other domains such as social media or gaming, the relationship between humans and technology is more complex and often less symbiotic. In these domains, technology can sometimes be seen as a distraction or even a hindrance to human activity, rather than a support.\n",
            "\n",
            "Overall, while the relationship between humans and technology is undoubtedly becoming more intertwined, it is still evolving and we have not yet reached a full state of symbiosis in all areas of our lives\n"
          ]
        }
      ]
    },
    {
      "cell_type": "markdown",
      "source": [
        "Activity: Check out what happens when you don't use \" \" \"  for multi-line texts. Learn more about Python strings here and try different inputs: https://www.w3schools.com/python/python_strings.asp"
      ],
      "metadata": {
        "id": "TMeVOWZ2udAM"
      }
    },
    {
      "cell_type": "markdown",
      "source": [
        "### Using web scraping"
      ],
      "metadata": {
        "id": "PnRqbRfLzq-k"
      }
    },
    {
      "cell_type": "markdown",
      "source": [
        "Web scraping is the process of automatically extracting data from websites. It can be used for gathering large amounts of data from the web, which can then be used for various NLP tasks.\n",
        "\n",
        "The following code demonstrates the use of a web scraping library called BeautifulSoup. You may try different Web scraping methods from [here](https://realpython.com/python-web-scraping-practical-introduction/) if you are interested, but the code shows a simple example to extract data from a web page using the page's HTML tags and attributes.\n",
        "\n",
        "Note: You should first use browser tools to inspect the HTML structure of the web page and identify the elements (like tags, classes, or IDs) that contain the data you need."
      ],
      "metadata": {
        "id": "5rWTYRGO6x30"
      }
    },
    {
      "cell_type": "code",
      "source": [
        "import requests\n",
        "from bs4 import BeautifulSoup\n",
        "\n",
        "# Send a GET request to the website\n",
        "response = requests.get('https://www.uts.edu.au/study/transdisciplinary-innovation/data-science-and-innovation-0/data-science-and-innovation')\n",
        "\n",
        "# Parse the HTML content of the page\n",
        "soup = BeautifulSoup(response.text, 'html.parser')\n",
        "#The above line creates a BeautifulSoup object from the HTML content of the response. It uses the 'html.parser' to parse the HTML\n",
        "\n",
        "# Find the required information using HTML tags and attributes\n",
        "title = soup.find_all('h1')[0].text  # finds all <h1> tags in the HTML and takes the text of the first one (index 0) - assumed to be the title of the page\n",
        "\n",
        "introduction = soup.find_all('p')[0].text  # finds all <p> tags in the HTML and takes the text of the first one (index 0) - assumed to be the introduction of the page\n",
        "\n",
        "course_options = soup.find_all('div', class_=\"field-item\")[1].find_all(\"h3\")[1:6]  #takes the second div tags with class \"field-item\" and takes 2nd to 6th h3 tags within the div\n",
        "course_options_list = \", \".join(option.text for option in course_options) #Extracts the texts of h3 elements and converts to a comma separated string\n",
        "\n",
        "MDSI_description = soup.find_all(\"section\", class_=\"collapsible\")[1].text #takes the second section with the class \"collapsible\" and extracts it's text\n",
        "# Print the scraped information\n",
        "print(f\"Page Title: {title}\")\n",
        "print(f\"Introduction: {introduction}\")\n",
        "print(f\"Course Options: {course_options_list}\")\n",
        "print(f\"MDSI Description: {MDSI_description}\")"
      ],
      "metadata": {
        "id": "oBu9Dk8tIJwA",
        "colab": {
          "base_uri": "https://localhost:8080/"
        },
        "outputId": "1bbf0537-7ef1-4045-901a-8228defd693a"
      },
      "execution_count": null,
      "outputs": [
        {
          "output_type": "stream",
          "name": "stdout",
          "text": [
            "Page Title: Data Science and Innovation\n",
            "Introduction: From microcredentials to Master degrees, our range of flexible learning options in data science and innovation allows you to focus on developing the specific skills you need, when you need them.\n",
            "Course Options: Executive Master of Data Science and Innovation, Master of Data Science and Innovation, Graduate Diploma of Data Science and Innovation, Graduate Certificate of Data Science and Innovation, Microcredentials\n",
            "MDSI Description: Master of Data Science and InnovationUTS offers a Master of Data Science and Innovation (C04372) and an Executive Master of Data Science and Innovation (C04370)The Master of Data Science and Innovation (C04372) can be completed in either 1.5 years full-time (3 years part-time) OR 2 years full-time (4 years part-time).The Executive Master of Data Science and Innovation (C04370) is a 1-year full-time (or 2-year part-time) course with different entry requirements. This listing details the Master of Data Science and Innovation (C04372).___Explore how to analyse and interpret complex socio-technical systems using data science frameworks and models with a human-centric lens.  Learn to critically assess contemporary data science trends, deal with ambiguity, and extract valuable insights from data. In a transdisciplinary environment – working with peers from all professions – you will develop problem-solving strategies, design data investigations, and communicate findings to diverse audiences. Collaboration, ethical responsibility, and leadership are emphasised. Skills that will empower you to solve problems in innovative ways and drive positive change in the field of data science. In addition to the necessary technical and analytical skills, this course is unique in its focus on valuable soft skills:TechnicalCritical thinkingCollaborationInnovationCommunicationLeadership.Taking applications nowLearn more\n"
          ]
        }
      ]
    },
    {
      "cell_type": "markdown",
      "source": [
        "Note: This code assumes a very specific HTML structure. If the structure changes, the code might break. For more robust parsing, you might want to use more specific selectors (like IDs or classes) if they're available in the HTML, or add error handling to deal with cases where the expected structure isn't found."
      ],
      "metadata": {
        "id": "vSrrTGBryVIU"
      }
    },
    {
      "cell_type": "markdown",
      "source": [
        "### Text representation"
      ],
      "metadata": {
        "id": "b80-n7nUzKoL"
      }
    },
    {
      "cell_type": "markdown",
      "source": [
        "Low level computer representations of text do not equate to simple human understandings of text. A simple illustration can be seen by how much difference it makes to distinguish between words, sentences and paragraphs.\n",
        "\n",
        "*This is a sample sentence I wrote*\n",
        "\n",
        "Notice that as this is just a **string** of characters, it doesn't include any of the normal formatting that we associate with text.\n",
        "To make it more readable, we can display the text as HTML in the output of the cell - the browser will parse it in a way that makes it easier to see the whole text. This is basic text visualisation in the browser."
      ],
      "metadata": {
        "id": "Lt8UK74sjgqn"
      }
    },
    {
      "cell_type": "code",
      "source": [
        "# import display.HTML and use it display the text as HTML\n",
        "from IPython.display import HTML\n",
        "HTML(mytext)"
      ],
      "metadata": {
        "id": "9s5E5xBWh28_",
        "colab": {
          "base_uri": "https://localhost:8080/",
          "height": 156
        },
        "outputId": "ab975f9d-c326-4c7f-8102-0b2969341b58"
      },
      "execution_count": null,
      "outputs": [
        {
          "output_type": "execute_result",
          "data": {
            "text/plain": [
              "<IPython.core.display.HTML object>"
            ],
            "text/html": [
              "Have we reached (hu)man-machine symbiosis where we do not simply use technology but are enmeshed with technology in “socio-cyborgian activity systems,” as Bazerman notes?\n",
              "\n",
              "While we are certainly in an age where technology plays an increasingly important role in our daily lives, we have not yet fully reached a state of human-machine symbiosis. However, there are certainly elements of symbiosis that can be seen in certain domains.\n",
              "\n",
              "For example, in some professions such as medicine or aviation, technology plays an integral role in supporting human decision-making and action. In these domains, technology and humans work together to achieve a common goal, and the relationship between the two can be seen as a kind of symbiosis.\n",
              "\n",
              "However, in other domains such as social media or gaming, the relationship between humans and technology is more complex and often less symbiotic. In these domains, technology can sometimes be seen as a distraction or even a hindrance to human activity, rather than a support.\n",
              "\n",
              "Overall, while the relationship between humans and technology is undoubtedly becoming more intertwined, it is still evolving and we have not yet reached a full state of symbiosis in all areas of our lives"
            ]
          },
          "metadata": {},
          "execution_count": 4
        }
      ]
    },
    {
      "cell_type": "markdown",
      "source": [
        "\n",
        "We could make it more readable still by turning the text into a list of paragraphs and displaying each with a space between."
      ],
      "metadata": {
        "id": "1lU5LtTUkRJd"
      }
    },
    {
      "cell_type": "code",
      "source": [
        "# create a list of paragraphs\n",
        "\n",
        "mytext_paras = mytext.split('\\n')\n",
        "\n",
        "# wrap each paragraph in html <p> tags and separate with a </br> tag\n",
        "html_mytext = '</br>'.join(map(lambda x: '<p>'+x+'</p>', mytext_paras))\n",
        "\n",
        "HTML(html_mytext)"
      ],
      "metadata": {
        "id": "3TrJN19UkrF-",
        "colab": {
          "base_uri": "https://localhost:8080/",
          "height": 413
        },
        "outputId": "9f373656-fe5f-4b18-f740-d46b433ebb16"
      },
      "execution_count": null,
      "outputs": [
        {
          "output_type": "execute_result",
          "data": {
            "text/plain": [
              "<IPython.core.display.HTML object>"
            ],
            "text/html": [
              "<p>Have we reached (hu)man-machine symbiosis where we do not simply use technology but are enmeshed with technology in “socio-cyborgian activity systems,” as Bazerman notes?</p></br><p></p></br><p>While we are certainly in an age where technology plays an increasingly important role in our daily lives, we have not yet fully reached a state of human-machine symbiosis. However, there are certainly elements of symbiosis that can be seen in certain domains.</p></br><p></p></br><p>For example, in some professions such as medicine or aviation, technology plays an integral role in supporting human decision-making and action. In these domains, technology and humans work together to achieve a common goal, and the relationship between the two can be seen as a kind of symbiosis.</p></br><p></p></br><p>However, in other domains such as social media or gaming, the relationship between humans and technology is more complex and often less symbiotic. In these domains, technology can sometimes be seen as a distraction or even a hindrance to human activity, rather than a support.</p></br><p></p></br><p>Overall, while the relationship between humans and technology is undoubtedly becoming more intertwined, it is still evolving and we have not yet reached a full state of symbiosis in all areas of our lives</p>"
            ]
          },
          "metadata": {},
          "execution_count": 5
        }
      ]
    },
    {
      "cell_type": "markdown",
      "source": [
        "## 2. Basic Analysis\n",
        "\n",
        "To perform analysis on text, we generally make use of NLP libraries. Two of the most common libraries for the Python language are `Spacy` and `NLTK`. We will use NLTK for our first analysis."
      ],
      "metadata": {
        "id": "UI_3GXkzn5U9"
      }
    },
    {
      "cell_type": "code",
      "source": [
        "#Import and load the NLTK library\n",
        "import nltk\n",
        "from  nltk.tokenize  import  sent_tokenize ,  word_tokenize\n",
        "#nltk.download('punkt')\n",
        "nltk.download('punkt_tab') #Resource for sentence tokenization\n",
        "#nltk.download('tagsets_json', 'averaged_perceptron_tagger_eng') #Resources for POS tagging"
      ],
      "metadata": {
        "id": "LA1TsIq3dFCI",
        "colab": {
          "base_uri": "https://localhost:8080/"
        },
        "outputId": "f49dd0e4-7c98-4f58-acf7-07e45a96ddcb"
      },
      "execution_count": null,
      "outputs": [
        {
          "output_type": "stream",
          "name": "stderr",
          "text": [
            "[nltk_data] Downloading package punkt_tab to /root/nltk_data...\n",
            "[nltk_data]   Unzipping tokenizers/punkt_tab.zip.\n"
          ]
        },
        {
          "output_type": "execute_result",
          "data": {
            "text/plain": [
              "True"
            ]
          },
          "metadata": {},
          "execution_count": 6
        }
      ]
    },
    {
      "cell_type": "markdown",
      "source": [
        "### Tokenization"
      ],
      "metadata": {
        "id": "QUGUdF6U0CWY"
      }
    },
    {
      "cell_type": "markdown",
      "source": [
        "We're now ready to process our text with NLTK. For this exercise, we'll just do simple analysis starting with tokenization."
      ],
      "metadata": {
        "id": "SR2HwGvtqURV"
      }
    },
    {
      "cell_type": "code",
      "source": [
        "mytextsents = sent_tokenize(mytext)\n",
        "mytextsents"
      ],
      "metadata": {
        "id": "cIr35TVu58tu",
        "colab": {
          "base_uri": "https://localhost:8080/"
        },
        "outputId": "87379315-e688-4e0b-dbaa-855e68f7e6eb"
      },
      "execution_count": null,
      "outputs": [
        {
          "output_type": "execute_result",
          "data": {
            "text/plain": [
              "['Have we reached (hu)man-machine symbiosis where we do not simply use technology but are enmeshed with technology in “socio-cyborgian activity systems,” as Bazerman notes?',\n",
              " 'While we are certainly in an age where technology plays an increasingly important role in our daily lives, we have not yet fully reached a state of human-machine symbiosis.',\n",
              " 'However, there are certainly elements of symbiosis that can be seen in certain domains.',\n",
              " 'For example, in some professions such as medicine or aviation, technology plays an integral role in supporting human decision-making and action.',\n",
              " 'In these domains, technology and humans work together to achieve a common goal, and the relationship between the two can be seen as a kind of symbiosis.',\n",
              " 'However, in other domains such as social media or gaming, the relationship between humans and technology is more complex and often less symbiotic.',\n",
              " 'In these domains, technology can sometimes be seen as a distraction or even a hindrance to human activity, rather than a support.',\n",
              " 'Overall, while the relationship between humans and technology is undoubtedly becoming more intertwined, it is still evolving and we have not yet reached a full state of symbiosis in all areas of our lives']"
            ]
          },
          "metadata": {},
          "execution_count": 7
        }
      ]
    },
    {
      "cell_type": "code",
      "source": [
        "mytextwords = word_tokenize(mytext)\n",
        "mytextwords"
      ],
      "metadata": {
        "id": "r8rxsUZv7xRy",
        "colab": {
          "base_uri": "https://localhost:8080/"
        },
        "outputId": "89316ec6-168f-4ea2-a25e-480660e88ced"
      },
      "execution_count": null,
      "outputs": [
        {
          "output_type": "execute_result",
          "data": {
            "text/plain": [
              "['Have',\n",
              " 'we',\n",
              " 'reached',\n",
              " '(',\n",
              " 'hu',\n",
              " ')',\n",
              " 'man-machine',\n",
              " 'symbiosis',\n",
              " 'where',\n",
              " 'we',\n",
              " 'do',\n",
              " 'not',\n",
              " 'simply',\n",
              " 'use',\n",
              " 'technology',\n",
              " 'but',\n",
              " 'are',\n",
              " 'enmeshed',\n",
              " 'with',\n",
              " 'technology',\n",
              " 'in',\n",
              " '“',\n",
              " 'socio-cyborgian',\n",
              " 'activity',\n",
              " 'systems',\n",
              " ',',\n",
              " '”',\n",
              " 'as',\n",
              " 'Bazerman',\n",
              " 'notes',\n",
              " '?',\n",
              " 'While',\n",
              " 'we',\n",
              " 'are',\n",
              " 'certainly',\n",
              " 'in',\n",
              " 'an',\n",
              " 'age',\n",
              " 'where',\n",
              " 'technology',\n",
              " 'plays',\n",
              " 'an',\n",
              " 'increasingly',\n",
              " 'important',\n",
              " 'role',\n",
              " 'in',\n",
              " 'our',\n",
              " 'daily',\n",
              " 'lives',\n",
              " ',',\n",
              " 'we',\n",
              " 'have',\n",
              " 'not',\n",
              " 'yet',\n",
              " 'fully',\n",
              " 'reached',\n",
              " 'a',\n",
              " 'state',\n",
              " 'of',\n",
              " 'human-machine',\n",
              " 'symbiosis',\n",
              " '.',\n",
              " 'However',\n",
              " ',',\n",
              " 'there',\n",
              " 'are',\n",
              " 'certainly',\n",
              " 'elements',\n",
              " 'of',\n",
              " 'symbiosis',\n",
              " 'that',\n",
              " 'can',\n",
              " 'be',\n",
              " 'seen',\n",
              " 'in',\n",
              " 'certain',\n",
              " 'domains',\n",
              " '.',\n",
              " 'For',\n",
              " 'example',\n",
              " ',',\n",
              " 'in',\n",
              " 'some',\n",
              " 'professions',\n",
              " 'such',\n",
              " 'as',\n",
              " 'medicine',\n",
              " 'or',\n",
              " 'aviation',\n",
              " ',',\n",
              " 'technology',\n",
              " 'plays',\n",
              " 'an',\n",
              " 'integral',\n",
              " 'role',\n",
              " 'in',\n",
              " 'supporting',\n",
              " 'human',\n",
              " 'decision-making',\n",
              " 'and',\n",
              " 'action',\n",
              " '.',\n",
              " 'In',\n",
              " 'these',\n",
              " 'domains',\n",
              " ',',\n",
              " 'technology',\n",
              " 'and',\n",
              " 'humans',\n",
              " 'work',\n",
              " 'together',\n",
              " 'to',\n",
              " 'achieve',\n",
              " 'a',\n",
              " 'common',\n",
              " 'goal',\n",
              " ',',\n",
              " 'and',\n",
              " 'the',\n",
              " 'relationship',\n",
              " 'between',\n",
              " 'the',\n",
              " 'two',\n",
              " 'can',\n",
              " 'be',\n",
              " 'seen',\n",
              " 'as',\n",
              " 'a',\n",
              " 'kind',\n",
              " 'of',\n",
              " 'symbiosis',\n",
              " '.',\n",
              " 'However',\n",
              " ',',\n",
              " 'in',\n",
              " 'other',\n",
              " 'domains',\n",
              " 'such',\n",
              " 'as',\n",
              " 'social',\n",
              " 'media',\n",
              " 'or',\n",
              " 'gaming',\n",
              " ',',\n",
              " 'the',\n",
              " 'relationship',\n",
              " 'between',\n",
              " 'humans',\n",
              " 'and',\n",
              " 'technology',\n",
              " 'is',\n",
              " 'more',\n",
              " 'complex',\n",
              " 'and',\n",
              " 'often',\n",
              " 'less',\n",
              " 'symbiotic',\n",
              " '.',\n",
              " 'In',\n",
              " 'these',\n",
              " 'domains',\n",
              " ',',\n",
              " 'technology',\n",
              " 'can',\n",
              " 'sometimes',\n",
              " 'be',\n",
              " 'seen',\n",
              " 'as',\n",
              " 'a',\n",
              " 'distraction',\n",
              " 'or',\n",
              " 'even',\n",
              " 'a',\n",
              " 'hindrance',\n",
              " 'to',\n",
              " 'human',\n",
              " 'activity',\n",
              " ',',\n",
              " 'rather',\n",
              " 'than',\n",
              " 'a',\n",
              " 'support',\n",
              " '.',\n",
              " 'Overall',\n",
              " ',',\n",
              " 'while',\n",
              " 'the',\n",
              " 'relationship',\n",
              " 'between',\n",
              " 'humans',\n",
              " 'and',\n",
              " 'technology',\n",
              " 'is',\n",
              " 'undoubtedly',\n",
              " 'becoming',\n",
              " 'more',\n",
              " 'intertwined',\n",
              " ',',\n",
              " 'it',\n",
              " 'is',\n",
              " 'still',\n",
              " 'evolving',\n",
              " 'and',\n",
              " 'we',\n",
              " 'have',\n",
              " 'not',\n",
              " 'yet',\n",
              " 'reached',\n",
              " 'a',\n",
              " 'full',\n",
              " 'state',\n",
              " 'of',\n",
              " 'symbiosis',\n",
              " 'in',\n",
              " 'all',\n",
              " 'areas',\n",
              " 'of',\n",
              " 'our',\n",
              " 'lives']"
            ]
          },
          "metadata": {},
          "execution_count": 8
        }
      ]
    },
    {
      "cell_type": "markdown",
      "source": [
        "### Parts of Speech (POS) tagging"
      ],
      "metadata": {
        "id": "CTxoeIuF-Ow7"
      }
    },
    {
      "cell_type": "markdown",
      "source": [
        "We can also identify the parts-of-speech in the text using NLTK predefined taggers"
      ],
      "metadata": {
        "id": "6W8He74Q-Mzc"
      }
    },
    {
      "cell_type": "code",
      "source": [
        "nltk.download('averaged_perceptron_tagger_eng')#Resources for POS tagging\n",
        "nltk.download('tagsets_json')#Resources for POS tagging\n",
        "nltk.help.upenn_tagset()\n",
        "\n",
        "mytextpos = nltk.pos_tag(mytextwords)\n",
        "mytextpos"
      ],
      "metadata": {
        "id": "gqWpQChz8Yxk",
        "outputId": "2ea6d510-5908-4305-f534-37ed073e1d46",
        "colab": {
          "base_uri": "https://localhost:8080/"
        }
      },
      "execution_count": null,
      "outputs": [
        {
          "output_type": "stream",
          "name": "stderr",
          "text": [
            "[nltk_data] Downloading package averaged_perceptron_tagger_eng to\n",
            "[nltk_data]     /root/nltk_data...\n",
            "[nltk_data]   Unzipping taggers/averaged_perceptron_tagger_eng.zip.\n",
            "[nltk_data] Downloading package tagsets_json to /root/nltk_data...\n"
          ]
        },
        {
          "output_type": "stream",
          "name": "stdout",
          "text": [
            "$: dollar\n",
            "    $ -$ --$ A$ C$ HK$ M$ NZ$ S$ U.S.$ US$\n",
            "'': closing quotation mark\n",
            "    ' ''\n",
            "(: opening parenthesis\n",
            "    ( [ {\n",
            "): closing parenthesis\n",
            "    ) ] }\n",
            ",: comma\n",
            "    ,\n",
            "--: dash\n",
            "    --\n",
            ".: sentence terminator\n",
            "    . ! ?\n",
            ":: colon or ellipsis\n",
            "    : ; ...\n",
            "CC: conjunction, coordinating\n",
            "    & 'n and both but either et for less minus neither nor or plus so\n",
            "    therefore times v. versus vs. whether yet\n",
            "CD: numeral, cardinal\n",
            "    mid-1890 nine-thirty forty-two one-tenth ten million 0.5 one forty-\n",
            "    seven 1987 twenty '79 zero two 78-degrees eighty-four IX '60s .025\n",
            "    fifteen 271,124 dozen quintillion DM2,000 ...\n",
            "DT: determiner\n",
            "    all an another any both del each either every half la many much nary\n",
            "    neither no some such that the them these this those\n",
            "EX: existential there\n",
            "    there\n",
            "FW: foreign word\n",
            "    gemeinschaft hund ich jeux habeas Haementeria Herr K'ang-si vous\n",
            "    lutihaw alai je jour objets salutaris fille quibusdam pas trop Monte\n",
            "    terram fiche oui corporis ...\n",
            "IN: preposition or conjunction, subordinating\n",
            "    astride among uppon whether out inside pro despite on by throughout\n",
            "    below within for towards near behind atop around if like until below\n",
            "    next into if beside ...\n",
            "JJ: adjective or numeral, ordinal\n",
            "    third ill-mannered pre-war regrettable oiled calamitous first separable\n",
            "    ectoplasmic battery-powered participatory fourth still-to-be-named\n",
            "    multilingual multi-disciplinary ...\n",
            "JJR: adjective, comparative\n",
            "    bleaker braver breezier briefer brighter brisker broader bumper busier\n",
            "    calmer cheaper choosier cleaner clearer closer colder commoner costlier\n",
            "    cozier creamier crunchier cuter ...\n",
            "JJS: adjective, superlative\n",
            "    calmest cheapest choicest classiest cleanest clearest closest commonest\n",
            "    corniest costliest crassest creepiest crudest cutest darkest deadliest\n",
            "    dearest deepest densest dinkiest ...\n",
            "LS: list item marker\n",
            "    A A. B B. C C. D E F First G H I J K One SP-44001 SP-44002 SP-44005\n",
            "    SP-44007 Second Third Three Two * a b c d first five four one six three\n",
            "    two\n",
            "MD: modal auxiliary\n",
            "    can cannot could couldn't dare may might must need ought shall should\n",
            "    shouldn't will would\n",
            "NN: noun, common, singular or mass\n",
            "    common-carrier cabbage knuckle-duster Casino afghan shed thermostat\n",
            "    investment slide humour falloff slick wind hyena override subhumanity\n",
            "    machinist ...\n",
            "NNP: noun, proper, singular\n",
            "    Motown Venneboerger Czestochwa Ranzer Conchita Trumplane Christos\n",
            "    Oceanside Escobar Kreisler Sawyer Cougar Yvette Ervin ODI Darryl CTCA\n",
            "    Shannon A.K.C. Meltex Liverpool ...\n",
            "NNPS: noun, proper, plural\n",
            "    Americans Americas Amharas Amityvilles Amusements Anarcho-Syndicalists\n",
            "    Andalusians Andes Andruses Angels Animals Anthony Antilles Antiques\n",
            "    Apache Apaches Apocrypha ...\n",
            "NNS: noun, common, plural\n",
            "    undergraduates scotches bric-a-brac products bodyguards facets coasts\n",
            "    divestitures storehouses designs clubs fragrances averages\n",
            "    subjectivists apprehensions muses factory-jobs ...\n",
            "PDT: pre-determiner\n",
            "    all both half many quite such sure this\n",
            "POS: genitive marker\n",
            "    ' 's\n",
            "PRP: pronoun, personal\n",
            "    hers herself him himself hisself it itself me myself one oneself ours\n",
            "    ourselves ownself self she thee theirs them themselves they thou thy us\n",
            "PRP$: pronoun, possessive\n",
            "    her his mine my our ours their thy your\n",
            "RB: adverb\n",
            "    occasionally unabatingly maddeningly adventurously professedly\n",
            "    stirringly prominently technologically magisterially predominately\n",
            "    swiftly fiscally pitilessly ...\n",
            "RBR: adverb, comparative\n",
            "    further gloomier grander graver greater grimmer harder harsher\n",
            "    healthier heavier higher however larger later leaner lengthier less-\n",
            "    perfectly lesser lonelier longer louder lower more ...\n",
            "RBS: adverb, superlative\n",
            "    best biggest bluntest earliest farthest first furthest hardest\n",
            "    heartiest highest largest least less most nearest second tightest worst\n",
            "RP: particle\n",
            "    aboard about across along apart around aside at away back before behind\n",
            "    by crop down ever fast for forth from go high i.e. in into just later\n",
            "    low more off on open out over per pie raising start teeth that through\n",
            "    under unto up up-pp upon whole with you\n",
            "SYM: symbol\n",
            "    % & ' '' ''. ) ). * + ,. < = > @ A[fj] U.S U.S.S.R * ** ***\n",
            "TO: \"to\" as preposition or infinitive marker\n",
            "    to\n",
            "UH: interjection\n",
            "    Goodbye Goody Gosh Wow Jeepers Jee-sus Hubba Hey Kee-reist Oops amen\n",
            "    huh howdy uh dammit whammo shucks heck anyways whodunnit honey golly\n",
            "    man baby diddle hush sonuvabitch ...\n",
            "VB: verb, base form\n",
            "    ask assemble assess assign assume atone attention avoid bake balkanize\n",
            "    bank begin behold believe bend benefit bevel beware bless boil bomb\n",
            "    boost brace break bring broil brush build ...\n",
            "VBD: verb, past tense\n",
            "    dipped pleaded swiped regummed soaked tidied convened halted registered\n",
            "    cushioned exacted snubbed strode aimed adopted belied figgered\n",
            "    speculated wore appreciated contemplated ...\n",
            "VBG: verb, present participle or gerund\n",
            "    telegraphing stirring focusing angering judging stalling lactating\n",
            "    hankerin' alleging veering capping approaching traveling besieging\n",
            "    encrypting interrupting erasing wincing ...\n",
            "VBN: verb, past participle\n",
            "    multihulled dilapidated aerosolized chaired languished panelized used\n",
            "    experimented flourished imitated reunifed factored condensed sheared\n",
            "    unsettled primed dubbed desired ...\n",
            "VBP: verb, present tense, not 3rd person singular\n",
            "    predominate wrap resort sue twist spill cure lengthen brush terminate\n",
            "    appear tend stray glisten obtain comprise detest tease attract\n",
            "    emphasize mold postpone sever return wag ...\n",
            "VBZ: verb, present tense, 3rd person singular\n",
            "    bases reconstructs marks mixes displeases seals carps weaves snatches\n",
            "    slumps stretches authorizes smolders pictures emerges stockpiles\n",
            "    seduces fizzes uses bolsters slaps speaks pleads ...\n",
            "WDT: WH-determiner\n",
            "    that what whatever which whichever\n",
            "WP: WH-pronoun\n",
            "    that what whatever whatsoever which who whom whosoever\n",
            "WP$: WH-pronoun, possessive\n",
            "    whose\n",
            "WRB: Wh-adverb\n",
            "    how however whence whenever where whereby whereever wherein whereof why\n",
            "``: opening quotation mark\n",
            "    ` ``\n"
          ]
        },
        {
          "output_type": "stream",
          "name": "stderr",
          "text": [
            "[nltk_data]   Unzipping help/tagsets_json.zip.\n"
          ]
        },
        {
          "output_type": "execute_result",
          "data": {
            "text/plain": [
              "[('Have', 'VBP'),\n",
              " ('we', 'PRP'),\n",
              " ('reached', 'VBN'),\n",
              " ('(', '('),\n",
              " ('hu', 'NN'),\n",
              " (')', ')'),\n",
              " ('man-machine', 'NN'),\n",
              " ('symbiosis', 'NN'),\n",
              " ('where', 'WRB'),\n",
              " ('we', 'PRP'),\n",
              " ('do', 'VBP'),\n",
              " ('not', 'RB'),\n",
              " ('simply', 'RB'),\n",
              " ('use', 'JJ'),\n",
              " ('technology', 'NN'),\n",
              " ('but', 'CC'),\n",
              " ('are', 'VBP'),\n",
              " ('enmeshed', 'VBN'),\n",
              " ('with', 'IN'),\n",
              " ('technology', 'NN'),\n",
              " ('in', 'IN'),\n",
              " ('“', 'JJ'),\n",
              " ('socio-cyborgian', 'JJ'),\n",
              " ('activity', 'NN'),\n",
              " ('systems', 'NNS'),\n",
              " (',', ','),\n",
              " ('”', 'NNP'),\n",
              " ('as', 'IN'),\n",
              " ('Bazerman', 'NNP'),\n",
              " ('notes', 'NNS'),\n",
              " ('?', '.'),\n",
              " ('While', 'IN'),\n",
              " ('we', 'PRP'),\n",
              " ('are', 'VBP'),\n",
              " ('certainly', 'RB'),\n",
              " ('in', 'IN'),\n",
              " ('an', 'DT'),\n",
              " ('age', 'NN'),\n",
              " ('where', 'WRB'),\n",
              " ('technology', 'NN'),\n",
              " ('plays', 'VBZ'),\n",
              " ('an', 'DT'),\n",
              " ('increasingly', 'RB'),\n",
              " ('important', 'JJ'),\n",
              " ('role', 'NN'),\n",
              " ('in', 'IN'),\n",
              " ('our', 'PRP$'),\n",
              " ('daily', 'JJ'),\n",
              " ('lives', 'NNS'),\n",
              " (',', ','),\n",
              " ('we', 'PRP'),\n",
              " ('have', 'VBP'),\n",
              " ('not', 'RB'),\n",
              " ('yet', 'RB'),\n",
              " ('fully', 'RB'),\n",
              " ('reached', 'VBD'),\n",
              " ('a', 'DT'),\n",
              " ('state', 'NN'),\n",
              " ('of', 'IN'),\n",
              " ('human-machine', 'JJ'),\n",
              " ('symbiosis', 'NN'),\n",
              " ('.', '.'),\n",
              " ('However', 'RB'),\n",
              " (',', ','),\n",
              " ('there', 'EX'),\n",
              " ('are', 'VBP'),\n",
              " ('certainly', 'RB'),\n",
              " ('elements', 'NNS'),\n",
              " ('of', 'IN'),\n",
              " ('symbiosis', 'NN'),\n",
              " ('that', 'WDT'),\n",
              " ('can', 'MD'),\n",
              " ('be', 'VB'),\n",
              " ('seen', 'VBN'),\n",
              " ('in', 'IN'),\n",
              " ('certain', 'JJ'),\n",
              " ('domains', 'NNS'),\n",
              " ('.', '.'),\n",
              " ('For', 'IN'),\n",
              " ('example', 'NN'),\n",
              " (',', ','),\n",
              " ('in', 'IN'),\n",
              " ('some', 'DT'),\n",
              " ('professions', 'NNS'),\n",
              " ('such', 'JJ'),\n",
              " ('as', 'IN'),\n",
              " ('medicine', 'NN'),\n",
              " ('or', 'CC'),\n",
              " ('aviation', 'NN'),\n",
              " (',', ','),\n",
              " ('technology', 'NN'),\n",
              " ('plays', 'NNS'),\n",
              " ('an', 'DT'),\n",
              " ('integral', 'JJ'),\n",
              " ('role', 'NN'),\n",
              " ('in', 'IN'),\n",
              " ('supporting', 'VBG'),\n",
              " ('human', 'JJ'),\n",
              " ('decision-making', 'NN'),\n",
              " ('and', 'CC'),\n",
              " ('action', 'NN'),\n",
              " ('.', '.'),\n",
              " ('In', 'IN'),\n",
              " ('these', 'DT'),\n",
              " ('domains', 'NNS'),\n",
              " (',', ','),\n",
              " ('technology', 'NN'),\n",
              " ('and', 'CC'),\n",
              " ('humans', 'NNS'),\n",
              " ('work', 'VBP'),\n",
              " ('together', 'RB'),\n",
              " ('to', 'TO'),\n",
              " ('achieve', 'VB'),\n",
              " ('a', 'DT'),\n",
              " ('common', 'JJ'),\n",
              " ('goal', 'NN'),\n",
              " (',', ','),\n",
              " ('and', 'CC'),\n",
              " ('the', 'DT'),\n",
              " ('relationship', 'NN'),\n",
              " ('between', 'IN'),\n",
              " ('the', 'DT'),\n",
              " ('two', 'CD'),\n",
              " ('can', 'MD'),\n",
              " ('be', 'VB'),\n",
              " ('seen', 'VBN'),\n",
              " ('as', 'IN'),\n",
              " ('a', 'DT'),\n",
              " ('kind', 'NN'),\n",
              " ('of', 'IN'),\n",
              " ('symbiosis', 'NN'),\n",
              " ('.', '.'),\n",
              " ('However', 'RB'),\n",
              " (',', ','),\n",
              " ('in', 'IN'),\n",
              " ('other', 'JJ'),\n",
              " ('domains', 'NNS'),\n",
              " ('such', 'JJ'),\n",
              " ('as', 'IN'),\n",
              " ('social', 'JJ'),\n",
              " ('media', 'NNS'),\n",
              " ('or', 'CC'),\n",
              " ('gaming', 'NN'),\n",
              " (',', ','),\n",
              " ('the', 'DT'),\n",
              " ('relationship', 'NN'),\n",
              " ('between', 'IN'),\n",
              " ('humans', 'NNS'),\n",
              " ('and', 'CC'),\n",
              " ('technology', 'NN'),\n",
              " ('is', 'VBZ'),\n",
              " ('more', 'RBR'),\n",
              " ('complex', 'JJ'),\n",
              " ('and', 'CC'),\n",
              " ('often', 'RB'),\n",
              " ('less', 'RBR'),\n",
              " ('symbiotic', 'JJ'),\n",
              " ('.', '.'),\n",
              " ('In', 'IN'),\n",
              " ('these', 'DT'),\n",
              " ('domains', 'NNS'),\n",
              " (',', ','),\n",
              " ('technology', 'NN'),\n",
              " ('can', 'MD'),\n",
              " ('sometimes', 'RB'),\n",
              " ('be', 'VB'),\n",
              " ('seen', 'VBN'),\n",
              " ('as', 'IN'),\n",
              " ('a', 'DT'),\n",
              " ('distraction', 'NN'),\n",
              " ('or', 'CC'),\n",
              " ('even', 'RB'),\n",
              " ('a', 'DT'),\n",
              " ('hindrance', 'NN'),\n",
              " ('to', 'TO'),\n",
              " ('human', 'JJ'),\n",
              " ('activity', 'NN'),\n",
              " (',', ','),\n",
              " ('rather', 'RB'),\n",
              " ('than', 'IN'),\n",
              " ('a', 'DT'),\n",
              " ('support', 'NN'),\n",
              " ('.', '.'),\n",
              " ('Overall', 'JJ'),\n",
              " (',', ','),\n",
              " ('while', 'IN'),\n",
              " ('the', 'DT'),\n",
              " ('relationship', 'NN'),\n",
              " ('between', 'IN'),\n",
              " ('humans', 'NNS'),\n",
              " ('and', 'CC'),\n",
              " ('technology', 'NN'),\n",
              " ('is', 'VBZ'),\n",
              " ('undoubtedly', 'RB'),\n",
              " ('becoming', 'VBG'),\n",
              " ('more', 'RBR'),\n",
              " ('intertwined', 'JJ'),\n",
              " (',', ','),\n",
              " ('it', 'PRP'),\n",
              " ('is', 'VBZ'),\n",
              " ('still', 'RB'),\n",
              " ('evolving', 'VBG'),\n",
              " ('and', 'CC'),\n",
              " ('we', 'PRP'),\n",
              " ('have', 'VBP'),\n",
              " ('not', 'RB'),\n",
              " ('yet', 'RB'),\n",
              " ('reached', 'VBN'),\n",
              " ('a', 'DT'),\n",
              " ('full', 'JJ'),\n",
              " ('state', 'NN'),\n",
              " ('of', 'IN'),\n",
              " ('symbiosis', 'NN'),\n",
              " ('in', 'IN'),\n",
              " ('all', 'DT'),\n",
              " ('areas', 'NNS'),\n",
              " ('of', 'IN'),\n",
              " ('our', 'PRP$'),\n",
              " ('lives', 'NNS')]"
            ]
          },
          "metadata": {},
          "execution_count": 10
        }
      ]
    },
    {
      "cell_type": "markdown",
      "source": [
        "And display the dependency tree..."
      ],
      "metadata": {
        "id": "X9d86i_j0LD5"
      }
    },
    {
      "cell_type": "code",
      "source": [
        "!pip install svgling #The svgling package is a pure python package for doing single-pass rendering of linguistics-style constituent trees into SVG\n",
        "nltk.download(\"maxent_ne_chunker_tab\")\n",
        "nltk.download(\"words\")\n",
        "tree = nltk.ne_chunk(mytextpos)\n",
        "display(tree)"
      ],
      "metadata": {
        "id": "VQMIMd8A_Ycw",
        "outputId": "57d89de3-dbe9-41d1-f4df-e60f24e03b25",
        "colab": {
          "base_uri": "https://localhost:8080/",
          "height": 336
        }
      },
      "execution_count": null,
      "outputs": [
        {
          "output_type": "stream",
          "name": "stdout",
          "text": [
            "Requirement already satisfied: svgling in /usr/local/lib/python3.11/dist-packages (0.5.0)\n",
            "Requirement already satisfied: svgwrite in /usr/local/lib/python3.11/dist-packages (from svgling) (1.4.3)\n"
          ]
        },
        {
          "output_type": "stream",
          "name": "stderr",
          "text": [
            "[nltk_data] Downloading package maxent_ne_chunker_tab to\n",
            "[nltk_data]     /root/nltk_data...\n",
            "[nltk_data]   Package maxent_ne_chunker_tab is already up-to-date!\n",
            "[nltk_data] Downloading package words to /root/nltk_data...\n",
            "[nltk_data]   Package words is already up-to-date!\n"
          ]
        },
        {
          "output_type": "display_data",
          "data": {
            "text/plain": [
              "Tree('S', [('Have', 'VBP'), ('we', 'PRP'), ('reached', 'VBN'), ('(', '('), ('hu', 'NN'), (')', ')'), ('man-machine', 'NN'), ('symbiosis', 'NN'), ('where', 'WRB'), ('we', 'PRP'), ('do', 'VBP'), ('not', 'RB'), ('simply', 'RB'), ('use', 'JJ'), ('technology', 'NN'), ('but', 'CC'), ('are', 'VBP'), ('enmeshed', 'VBN'), ('with', 'IN'), ('technology', 'NN'), ('in', 'IN'), ('“', 'JJ'), ('socio-cyborgian', 'JJ'), ('activity', 'NN'), ('systems', 'NNS'), (',', ','), ('”', 'NNP'), ('as', 'IN'), Tree('ORGANIZATION', [('Bazerman', 'NNP')]), ('notes', 'NNS'), ('?', '.'), ('While', 'IN'), ('we', 'PRP'), ('are', 'VBP'), ('certainly', 'RB'), ('in', 'IN'), ('an', 'DT'), ('age', 'NN'), ('where', 'WRB'), ('technology', 'NN'), ('plays', 'VBZ'), ('an', 'DT'), ('increasingly', 'RB'), ('important', 'JJ'), ('role', 'NN'), ('in', 'IN'), ('our', 'PRP$'), ('daily', 'JJ'), ('lives', 'NNS'), (',', ','), ('we', 'PRP'), ('have', 'VBP'), ('not', 'RB'), ('yet', 'RB'), ('fully', 'RB'), ('reached', 'VBD'), ('a', 'DT'), ('state', 'NN'), ('of', 'IN'), ('human-machine', 'JJ'), ('symbiosis', 'NN'), ('.', '.'), ('However', 'RB'), (',', ','), ('there', 'EX'), ('are', 'VBP'), ('certainly', 'RB'), ('elements', 'NNS'), ('of', 'IN'), ('symbiosis', 'NN'), ('that', 'WDT'), ('can', 'MD'), ('be', 'VB'), ('seen', 'VBN'), ('in', 'IN'), ('certain', 'JJ'), ('domains', 'NNS'), ('.', '.'), ('For', 'IN'), ('example', 'NN'), (',', ','), ('in', 'IN'), ('some', 'DT'), ('professions', 'NNS'), ('such', 'JJ'), ('as', 'IN'), ('medicine', 'NN'), ('or', 'CC'), ('aviation', 'NN'), (',', ','), ('technology', 'NN'), ('plays', 'NNS'), ('an', 'DT'), ('integral', 'JJ'), ('role', 'NN'), ('in', 'IN'), ('supporting', 'VBG'), ('human', 'JJ'), ('decision-making', 'NN'), ('and', 'CC'), ('action', 'NN'), ('.', '.'), ('In', 'IN'), ('these', 'DT'), ('domains', 'NNS'), (',', ','), ('technology', 'NN'), ('and', 'CC'), ('humans', 'NNS'), ('work', 'VBP'), ('together', 'RB'), ('to', 'TO'), ('achieve', 'VB'), ('a', 'DT'), ('common', 'JJ'), ('goal', 'NN'), (',', ','), ('and', 'CC'), ('the', 'DT'), ('relationship', 'NN'), ('between', 'IN'), ('the', 'DT'), ('two', 'CD'), ('can', 'MD'), ('be', 'VB'), ('seen', 'VBN'), ('as', 'IN'), ('a', 'DT'), ('kind', 'NN'), ('of', 'IN'), ('symbiosis', 'NN'), ('.', '.'), ('However', 'RB'), (',', ','), ('in', 'IN'), ('other', 'JJ'), ('domains', 'NNS'), ('such', 'JJ'), ('as', 'IN'), ('social', 'JJ'), ('media', 'NNS'), ('or', 'CC'), ('gaming', 'NN'), (',', ','), ('the', 'DT'), ('relationship', 'NN'), ('between', 'IN'), ('humans', 'NNS'), ('and', 'CC'), ('technology', 'NN'), ('is', 'VBZ'), ('more', 'RBR'), ('complex', 'JJ'), ('and', 'CC'), ('often', 'RB'), ('less', 'RBR'), ('symbiotic', 'JJ'), ('.', '.'), ('In', 'IN'), ('these', 'DT'), ('domains', 'NNS'), (',', ','), ('technology', 'NN'), ('can', 'MD'), ('sometimes', 'RB'), ('be', 'VB'), ('seen', 'VBN'), ('as', 'IN'), ('a', 'DT'), ('distraction', 'NN'), ('or', 'CC'), ('even', 'RB'), ('a', 'DT'), ('hindrance', 'NN'), ('to', 'TO'), ('human', 'JJ'), ('activity', 'NN'), (',', ','), ('rather', 'RB'), ('than', 'IN'), ('a', 'DT'), ('support', 'NN'), ('.', '.'), ('Overall', 'JJ'), (',', ','), ('while', 'IN'), ('the', 'DT'), ('relationship', 'NN'), ('between', 'IN'), ('humans', 'NNS'), ('and', 'CC'), ('technology', 'NN'), ('is', 'VBZ'), ('undoubtedly', 'RB'), ('becoming', 'VBG'), ('more', 'RBR'), ('intertwined', 'JJ'), (',', ','), ('it', 'PRP'), ('is', 'VBZ'), ('still', 'RB'), ('evolving', 'VBG'), ('and', 'CC'), ('we', 'PRP'), ('have', 'VBP'), ('not', 'RB'), ('yet', 'RB'), ('reached', 'VBN'), ('a', 'DT'), ('full', 'JJ'), ('state', 'NN'), ('of', 'IN'), ('symbiosis', 'NN'), ('in', 'IN'), ('all', 'DT'), ('areas', 'NNS'), ('of', 'IN'), ('our', 'PRP$'), ('lives', 'NNS')])"
            ],
            "image/svg+xml": "<svg baseProfile=\"full\" height=\"168px\" preserveAspectRatio=\"xMidYMid meet\" style=\"font-family: times, serif; font-weight: normal; font-style: normal; font-size: 16px\" version=\"1.1\" viewBox=\"0,0,11856.0,168.0\" width=\"11856px\" xmlns=\"http://www.w3.org/2000/svg\" xmlns:ev=\"http://www.w3.org/2001/xml-events\" xmlns:xlink=\"http://www.w3.org/1999/xlink\"><defs /><svg width=\"100%\" x=\"0\" y=\"0px\"><defs /><text text-anchor=\"middle\" x=\"50%\" y=\"16px\">S</text></svg><svg width=\"0.404858%\" x=\"0%\" y=\"48px\"><defs /><svg width=\"100%\" x=\"0\" y=\"0px\"><defs /><text text-anchor=\"middle\" x=\"50%\" y=\"16px\">Have</text></svg><svg width=\"100%\" x=\"0%\" y=\"48px\"><defs /><svg width=\"100%\" x=\"0\" y=\"0px\"><defs /><text text-anchor=\"middle\" x=\"50%\" y=\"16px\">VBP</text></svg></svg><line stroke=\"black\" x1=\"50%\" x2=\"50%\" y1=\"20px\" y2=\"48px\" /></svg><line stroke=\"black\" x1=\"50%\" x2=\"0.202429%\" y1=\"20px\" y2=\"48px\" /><svg width=\"0.337382%\" x=\"0.404858%\" y=\"48px\"><defs /><svg width=\"100%\" x=\"0\" y=\"0px\"><defs /><text text-anchor=\"middle\" x=\"50%\" y=\"16px\">we</text></svg><svg width=\"100%\" x=\"0%\" y=\"48px\"><defs /><svg width=\"100%\" x=\"0\" y=\"0px\"><defs /><text text-anchor=\"middle\" x=\"50%\" y=\"16px\">PRP</text></svg></svg><line stroke=\"black\" x1=\"50%\" x2=\"50%\" y1=\"20px\" y2=\"48px\" /></svg><line stroke=\"black\" x1=\"50%\" x2=\"0.573549%\" y1=\"20px\" y2=\"48px\" /><svg width=\"0.607287%\" x=\"0.74224%\" y=\"48px\"><defs /><svg width=\"100%\" x=\"0\" y=\"0px\"><defs /><text text-anchor=\"middle\" x=\"50%\" y=\"16px\">reached</text></svg><svg width=\"100%\" x=\"0%\" y=\"48px\"><defs /><svg width=\"100%\" x=\"0\" y=\"0px\"><defs /><text text-anchor=\"middle\" x=\"50%\" y=\"16px\">VBN</text></svg></svg><line stroke=\"black\" x1=\"50%\" x2=\"50%\" y1=\"20px\" y2=\"48px\" /></svg><line stroke=\"black\" x1=\"50%\" x2=\"1.04588%\" y1=\"20px\" y2=\"48px\" /><svg width=\"0.202429%\" x=\"1.34953%\" y=\"48px\"><defs /><svg width=\"100%\" x=\"0\" y=\"0px\"><defs /><text text-anchor=\"middle\" x=\"50%\" y=\"16px\">(</text></svg><svg width=\"100%\" x=\"0%\" y=\"48px\"><defs /><svg width=\"100%\" x=\"0\" y=\"0px\"><defs /><text text-anchor=\"middle\" x=\"50%\" y=\"16px\">(</text></svg></svg><line stroke=\"black\" x1=\"50%\" x2=\"50%\" y1=\"20px\" y2=\"48px\" /></svg><line stroke=\"black\" x1=\"50%\" x2=\"1.45074%\" y1=\"20px\" y2=\"48px\" /><svg width=\"0.269906%\" x=\"1.55196%\" y=\"48px\"><defs /><svg width=\"100%\" x=\"0\" y=\"0px\"><defs /><text text-anchor=\"middle\" x=\"50%\" y=\"16px\">hu</text></svg><svg width=\"100%\" x=\"0%\" y=\"48px\"><defs /><svg width=\"100%\" x=\"0\" y=\"0px\"><defs /><text text-anchor=\"middle\" x=\"50%\" y=\"16px\">NN</text></svg></svg><line stroke=\"black\" x1=\"50%\" x2=\"50%\" y1=\"20px\" y2=\"48px\" /></svg><line stroke=\"black\" x1=\"50%\" x2=\"1.68691%\" y1=\"20px\" y2=\"48px\" /><svg width=\"0.202429%\" x=\"1.82186%\" y=\"48px\"><defs /><svg width=\"100%\" x=\"0\" y=\"0px\"><defs /><text text-anchor=\"middle\" x=\"50%\" y=\"16px\">)</text></svg><svg width=\"100%\" x=\"0%\" y=\"48px\"><defs /><svg width=\"100%\" x=\"0\" y=\"0px\"><defs /><text text-anchor=\"middle\" x=\"50%\" y=\"16px\">)</text></svg></svg><line stroke=\"black\" x1=\"50%\" x2=\"50%\" y1=\"20px\" y2=\"48px\" /></svg><line stroke=\"black\" x1=\"50%\" x2=\"1.92308%\" y1=\"20px\" y2=\"48px\" /><svg width=\"0.877193%\" x=\"2.02429%\" y=\"48px\"><defs /><svg width=\"100%\" x=\"0\" y=\"0px\"><defs /><text text-anchor=\"middle\" x=\"50%\" y=\"16px\">man-machine</text></svg><svg width=\"100%\" x=\"0%\" y=\"48px\"><defs /><svg width=\"100%\" x=\"0\" y=\"0px\"><defs /><text text-anchor=\"middle\" x=\"50%\" y=\"16px\">NN</text></svg></svg><line stroke=\"black\" x1=\"50%\" x2=\"50%\" y1=\"20px\" y2=\"48px\" /></svg><line stroke=\"black\" x1=\"50%\" x2=\"2.46289%\" y1=\"20px\" y2=\"48px\" /><svg width=\"0.74224%\" x=\"2.90148%\" y=\"48px\"><defs /><svg width=\"100%\" x=\"0\" y=\"0px\"><defs /><text text-anchor=\"middle\" x=\"50%\" y=\"16px\">symbiosis</text></svg><svg width=\"100%\" x=\"0%\" y=\"48px\"><defs /><svg width=\"100%\" x=\"0\" y=\"0px\"><defs /><text text-anchor=\"middle\" x=\"50%\" y=\"16px\">NN</text></svg></svg><line stroke=\"black\" x1=\"50%\" x2=\"50%\" y1=\"20px\" y2=\"48px\" /></svg><line stroke=\"black\" x1=\"50%\" x2=\"3.2726%\" y1=\"20px\" y2=\"48px\" /><svg width=\"0.472335%\" x=\"3.64372%\" y=\"48px\"><defs /><svg width=\"100%\" x=\"0\" y=\"0px\"><defs /><text text-anchor=\"middle\" x=\"50%\" y=\"16px\">where</text></svg><svg width=\"100%\" x=\"0%\" y=\"48px\"><defs /><svg width=\"100%\" x=\"0\" y=\"0px\"><defs /><text text-anchor=\"middle\" x=\"50%\" y=\"16px\">WRB</text></svg></svg><line stroke=\"black\" x1=\"50%\" x2=\"50%\" y1=\"20px\" y2=\"48px\" /></svg><line stroke=\"black\" x1=\"50%\" x2=\"3.87989%\" y1=\"20px\" y2=\"48px\" /><svg width=\"0.337382%\" x=\"4.11606%\" y=\"48px\"><defs /><svg width=\"100%\" x=\"0\" y=\"0px\"><defs /><text text-anchor=\"middle\" x=\"50%\" y=\"16px\">we</text></svg><svg width=\"100%\" x=\"0%\" y=\"48px\"><defs /><svg width=\"100%\" x=\"0\" y=\"0px\"><defs /><text text-anchor=\"middle\" x=\"50%\" y=\"16px\">PRP</text></svg></svg><line stroke=\"black\" x1=\"50%\" x2=\"50%\" y1=\"20px\" y2=\"48px\" /></svg><line stroke=\"black\" x1=\"50%\" x2=\"4.28475%\" y1=\"20px\" y2=\"48px\" /><svg width=\"0.337382%\" x=\"4.45344%\" y=\"48px\"><defs /><svg width=\"100%\" x=\"0\" y=\"0px\"><defs /><text text-anchor=\"middle\" x=\"50%\" y=\"16px\">do</text></svg><svg width=\"100%\" x=\"0%\" y=\"48px\"><defs /><svg width=\"100%\" x=\"0\" y=\"0px\"><defs /><text text-anchor=\"middle\" x=\"50%\" y=\"16px\">VBP</text></svg></svg><line stroke=\"black\" x1=\"50%\" x2=\"50%\" y1=\"20px\" y2=\"48px\" /></svg><line stroke=\"black\" x1=\"50%\" x2=\"4.62213%\" y1=\"20px\" y2=\"48px\" /><svg width=\"0.337382%\" x=\"4.79082%\" y=\"48px\"><defs /><svg width=\"100%\" x=\"0\" y=\"0px\"><defs /><text text-anchor=\"middle\" x=\"50%\" y=\"16px\">not</text></svg><svg width=\"100%\" x=\"0%\" y=\"48px\"><defs /><svg width=\"100%\" x=\"0\" y=\"0px\"><defs /><text text-anchor=\"middle\" x=\"50%\" y=\"16px\">RB</text></svg></svg><line stroke=\"black\" x1=\"50%\" x2=\"50%\" y1=\"20px\" y2=\"48px\" /></svg><line stroke=\"black\" x1=\"50%\" x2=\"4.95951%\" y1=\"20px\" y2=\"48px\" /><svg width=\"0.539811%\" x=\"5.12821%\" y=\"48px\"><defs /><svg width=\"100%\" x=\"0\" y=\"0px\"><defs /><text text-anchor=\"middle\" x=\"50%\" y=\"16px\">simply</text></svg><svg width=\"100%\" x=\"0%\" y=\"48px\"><defs /><svg width=\"100%\" x=\"0\" y=\"0px\"><defs /><text text-anchor=\"middle\" x=\"50%\" y=\"16px\">RB</text></svg></svg><line stroke=\"black\" x1=\"50%\" x2=\"50%\" y1=\"20px\" y2=\"48px\" /></svg><line stroke=\"black\" x1=\"50%\" x2=\"5.39811%\" y1=\"20px\" y2=\"48px\" /><svg width=\"0.337382%\" x=\"5.66802%\" y=\"48px\"><defs /><svg width=\"100%\" x=\"0\" y=\"0px\"><defs /><text text-anchor=\"middle\" x=\"50%\" y=\"16px\">use</text></svg><svg width=\"100%\" x=\"0%\" y=\"48px\"><defs /><svg width=\"100%\" x=\"0\" y=\"0px\"><defs /><text text-anchor=\"middle\" x=\"50%\" y=\"16px\">JJ</text></svg></svg><line stroke=\"black\" x1=\"50%\" x2=\"50%\" y1=\"20px\" y2=\"48px\" /></svg><line stroke=\"black\" x1=\"50%\" x2=\"5.83671%\" y1=\"20px\" y2=\"48px\" /><svg width=\"0.809717%\" x=\"6.0054%\" y=\"48px\"><defs /><svg width=\"100%\" x=\"0\" y=\"0px\"><defs /><text text-anchor=\"middle\" x=\"50%\" y=\"16px\">technology</text></svg><svg width=\"100%\" x=\"0%\" y=\"48px\"><defs /><svg width=\"100%\" x=\"0\" y=\"0px\"><defs /><text text-anchor=\"middle\" x=\"50%\" y=\"16px\">NN</text></svg></svg><line stroke=\"black\" x1=\"50%\" x2=\"50%\" y1=\"20px\" y2=\"48px\" /></svg><line stroke=\"black\" x1=\"50%\" x2=\"6.41026%\" y1=\"20px\" y2=\"48px\" /><svg width=\"0.337382%\" x=\"6.81511%\" y=\"48px\"><defs /><svg width=\"100%\" x=\"0\" y=\"0px\"><defs /><text text-anchor=\"middle\" x=\"50%\" y=\"16px\">but</text></svg><svg width=\"100%\" x=\"0%\" y=\"48px\"><defs /><svg width=\"100%\" x=\"0\" y=\"0px\"><defs /><text text-anchor=\"middle\" x=\"50%\" y=\"16px\">CC</text></svg></svg><line stroke=\"black\" x1=\"50%\" x2=\"50%\" y1=\"20px\" y2=\"48px\" /></svg><line stroke=\"black\" x1=\"50%\" x2=\"6.98381%\" y1=\"20px\" y2=\"48px\" /><svg width=\"0.337382%\" x=\"7.1525%\" y=\"48px\"><defs /><svg width=\"100%\" x=\"0\" y=\"0px\"><defs /><text text-anchor=\"middle\" x=\"50%\" y=\"16px\">are</text></svg><svg width=\"100%\" x=\"0%\" y=\"48px\"><defs /><svg width=\"100%\" x=\"0\" y=\"0px\"><defs /><text text-anchor=\"middle\" x=\"50%\" y=\"16px\">VBP</text></svg></svg><line stroke=\"black\" x1=\"50%\" x2=\"50%\" y1=\"20px\" y2=\"48px\" /></svg><line stroke=\"black\" x1=\"50%\" x2=\"7.32119%\" y1=\"20px\" y2=\"48px\" /><svg width=\"0.674764%\" x=\"7.48988%\" y=\"48px\"><defs /><svg width=\"100%\" x=\"0\" y=\"0px\"><defs /><text text-anchor=\"middle\" x=\"50%\" y=\"16px\">enmeshed</text></svg><svg width=\"100%\" x=\"0%\" y=\"48px\"><defs /><svg width=\"100%\" x=\"0\" y=\"0px\"><defs /><text text-anchor=\"middle\" x=\"50%\" y=\"16px\">VBN</text></svg></svg><line stroke=\"black\" x1=\"50%\" x2=\"50%\" y1=\"20px\" y2=\"48px\" /></svg><line stroke=\"black\" x1=\"50%\" x2=\"7.82726%\" y1=\"20px\" y2=\"48px\" /><svg width=\"0.404858%\" x=\"8.16464%\" y=\"48px\"><defs /><svg width=\"100%\" x=\"0\" y=\"0px\"><defs /><text text-anchor=\"middle\" x=\"50%\" y=\"16px\">with</text></svg><svg width=\"100%\" x=\"0%\" y=\"48px\"><defs /><svg width=\"100%\" x=\"0\" y=\"0px\"><defs /><text text-anchor=\"middle\" x=\"50%\" y=\"16px\">IN</text></svg></svg><line stroke=\"black\" x1=\"50%\" x2=\"50%\" y1=\"20px\" y2=\"48px\" /></svg><line stroke=\"black\" x1=\"50%\" x2=\"8.36707%\" y1=\"20px\" y2=\"48px\" /><svg width=\"0.809717%\" x=\"8.5695%\" y=\"48px\"><defs /><svg width=\"100%\" x=\"0\" y=\"0px\"><defs /><text text-anchor=\"middle\" x=\"50%\" y=\"16px\">technology</text></svg><svg width=\"100%\" x=\"0%\" y=\"48px\"><defs /><svg width=\"100%\" x=\"0\" y=\"0px\"><defs /><text text-anchor=\"middle\" x=\"50%\" y=\"16px\">NN</text></svg></svg><line stroke=\"black\" x1=\"50%\" x2=\"50%\" y1=\"20px\" y2=\"48px\" /></svg><line stroke=\"black\" x1=\"50%\" x2=\"8.97436%\" y1=\"20px\" y2=\"48px\" /><svg width=\"0.269906%\" x=\"9.37922%\" y=\"48px\"><defs /><svg width=\"100%\" x=\"0\" y=\"0px\"><defs /><text text-anchor=\"middle\" x=\"50%\" y=\"16px\">in</text></svg><svg width=\"100%\" x=\"0%\" y=\"48px\"><defs /><svg width=\"100%\" x=\"0\" y=\"0px\"><defs /><text text-anchor=\"middle\" x=\"50%\" y=\"16px\">IN</text></svg></svg><line stroke=\"black\" x1=\"50%\" x2=\"50%\" y1=\"20px\" y2=\"48px\" /></svg><line stroke=\"black\" x1=\"50%\" x2=\"9.51417%\" y1=\"20px\" y2=\"48px\" /><svg width=\"0.269906%\" x=\"9.64912%\" y=\"48px\"><defs /><svg width=\"100%\" x=\"0\" y=\"0px\"><defs /><text text-anchor=\"middle\" x=\"50%\" y=\"16px\">“</text></svg><svg width=\"100%\" x=\"0%\" y=\"48px\"><defs /><svg width=\"100%\" x=\"0\" y=\"0px\"><defs /><text text-anchor=\"middle\" x=\"50%\" y=\"16px\">JJ</text></svg></svg><line stroke=\"black\" x1=\"50%\" x2=\"50%\" y1=\"20px\" y2=\"48px\" /></svg><line stroke=\"black\" x1=\"50%\" x2=\"9.78408%\" y1=\"20px\" y2=\"48px\" /><svg width=\"1.1471%\" x=\"9.91903%\" y=\"48px\"><defs /><svg width=\"100%\" x=\"0\" y=\"0px\"><defs /><text text-anchor=\"middle\" x=\"50%\" y=\"16px\">socio-cyborgian</text></svg><svg width=\"100%\" x=\"0%\" y=\"48px\"><defs /><svg width=\"100%\" x=\"0\" y=\"0px\"><defs /><text text-anchor=\"middle\" x=\"50%\" y=\"16px\">JJ</text></svg></svg><line stroke=\"black\" x1=\"50%\" x2=\"50%\" y1=\"20px\" y2=\"48px\" /></svg><line stroke=\"black\" x1=\"50%\" x2=\"10.4926%\" y1=\"20px\" y2=\"48px\" /><svg width=\"0.674764%\" x=\"11.0661%\" y=\"48px\"><defs /><svg width=\"100%\" x=\"0\" y=\"0px\"><defs /><text text-anchor=\"middle\" x=\"50%\" y=\"16px\">activity</text></svg><svg width=\"100%\" x=\"0%\" y=\"48px\"><defs /><svg width=\"100%\" x=\"0\" y=\"0px\"><defs /><text text-anchor=\"middle\" x=\"50%\" y=\"16px\">NN</text></svg></svg><line stroke=\"black\" x1=\"50%\" x2=\"50%\" y1=\"20px\" y2=\"48px\" /></svg><line stroke=\"black\" x1=\"50%\" x2=\"11.4035%\" y1=\"20px\" y2=\"48px\" /><svg width=\"0.607287%\" x=\"11.7409%\" y=\"48px\"><defs /><svg width=\"100%\" x=\"0\" y=\"0px\"><defs /><text text-anchor=\"middle\" x=\"50%\" y=\"16px\">systems</text></svg><svg width=\"100%\" x=\"0%\" y=\"48px\"><defs /><svg width=\"100%\" x=\"0\" y=\"0px\"><defs /><text text-anchor=\"middle\" x=\"50%\" y=\"16px\">NNS</text></svg></svg><line stroke=\"black\" x1=\"50%\" x2=\"50%\" y1=\"20px\" y2=\"48px\" /></svg><line stroke=\"black\" x1=\"50%\" x2=\"12.0445%\" y1=\"20px\" y2=\"48px\" /><svg width=\"0.202429%\" x=\"12.3482%\" y=\"48px\"><defs /><svg width=\"100%\" x=\"0\" y=\"0px\"><defs /><text text-anchor=\"middle\" x=\"50%\" y=\"16px\">,</text></svg><svg width=\"100%\" x=\"0%\" y=\"48px\"><defs /><svg width=\"100%\" x=\"0\" y=\"0px\"><defs /><text text-anchor=\"middle\" x=\"50%\" y=\"16px\">,</text></svg></svg><line stroke=\"black\" x1=\"50%\" x2=\"50%\" y1=\"20px\" y2=\"48px\" /></svg><line stroke=\"black\" x1=\"50%\" x2=\"12.4494%\" y1=\"20px\" y2=\"48px\" /><svg width=\"0.337382%\" x=\"12.5506%\" y=\"48px\"><defs /><svg width=\"100%\" x=\"0\" y=\"0px\"><defs /><text text-anchor=\"middle\" x=\"50%\" y=\"16px\">”</text></svg><svg width=\"100%\" x=\"0%\" y=\"48px\"><defs /><svg width=\"100%\" x=\"0\" y=\"0px\"><defs /><text text-anchor=\"middle\" x=\"50%\" y=\"16px\">NNP</text></svg></svg><line stroke=\"black\" x1=\"50%\" x2=\"50%\" y1=\"20px\" y2=\"48px\" /></svg><line stroke=\"black\" x1=\"50%\" x2=\"12.7193%\" y1=\"20px\" y2=\"48px\" /><svg width=\"0.269906%\" x=\"12.888%\" y=\"48px\"><defs /><svg width=\"100%\" x=\"0\" y=\"0px\"><defs /><text text-anchor=\"middle\" x=\"50%\" y=\"16px\">as</text></svg><svg width=\"100%\" x=\"0%\" y=\"48px\"><defs /><svg width=\"100%\" x=\"0\" y=\"0px\"><defs /><text text-anchor=\"middle\" x=\"50%\" y=\"16px\">IN</text></svg></svg><line stroke=\"black\" x1=\"50%\" x2=\"50%\" y1=\"20px\" y2=\"48px\" /></svg><line stroke=\"black\" x1=\"50%\" x2=\"13.0229%\" y1=\"20px\" y2=\"48px\" /><svg width=\"0.944669%\" x=\"13.1579%\" y=\"48px\"><defs /><svg width=\"100%\" x=\"0\" y=\"0px\"><defs /><text text-anchor=\"middle\" x=\"50%\" y=\"16px\">ORGANIZATION</text></svg><svg width=\"100%\" x=\"0%\" y=\"48px\"><defs /><svg width=\"100%\" x=\"0\" y=\"0px\"><defs /><text text-anchor=\"middle\" x=\"50%\" y=\"16px\">Bazerman</text></svg><svg width=\"100%\" x=\"0%\" y=\"48px\"><defs /><svg width=\"100%\" x=\"0\" y=\"0px\"><defs /><text text-anchor=\"middle\" x=\"50%\" y=\"16px\">NNP</text></svg></svg><line stroke=\"black\" x1=\"50%\" x2=\"50%\" y1=\"20px\" y2=\"48px\" /></svg><line stroke=\"black\" x1=\"50%\" x2=\"50%\" y1=\"20px\" y2=\"48px\" /></svg><line stroke=\"black\" x1=\"50%\" x2=\"13.6302%\" y1=\"20px\" y2=\"48px\" /><svg width=\"0.472335%\" x=\"14.1026%\" y=\"48px\"><defs /><svg width=\"100%\" x=\"0\" y=\"0px\"><defs /><text text-anchor=\"middle\" x=\"50%\" y=\"16px\">notes</text></svg><svg width=\"100%\" x=\"0%\" y=\"48px\"><defs /><svg width=\"100%\" x=\"0\" y=\"0px\"><defs /><text text-anchor=\"middle\" x=\"50%\" y=\"16px\">NNS</text></svg></svg><line stroke=\"black\" x1=\"50%\" x2=\"50%\" y1=\"20px\" y2=\"48px\" /></svg><line stroke=\"black\" x1=\"50%\" x2=\"14.3387%\" y1=\"20px\" y2=\"48px\" /><svg width=\"0.202429%\" x=\"14.5749%\" y=\"48px\"><defs /><svg width=\"100%\" x=\"0\" y=\"0px\"><defs /><text text-anchor=\"middle\" x=\"50%\" y=\"16px\">?</text></svg><svg width=\"100%\" x=\"0%\" y=\"48px\"><defs /><svg width=\"100%\" x=\"0\" y=\"0px\"><defs /><text text-anchor=\"middle\" x=\"50%\" y=\"16px\">.</text></svg></svg><line stroke=\"black\" x1=\"50%\" x2=\"50%\" y1=\"20px\" y2=\"48px\" /></svg><line stroke=\"black\" x1=\"50%\" x2=\"14.6761%\" y1=\"20px\" y2=\"48px\" /><svg width=\"0.472335%\" x=\"14.7773%\" y=\"48px\"><defs /><svg width=\"100%\" x=\"0\" y=\"0px\"><defs /><text text-anchor=\"middle\" x=\"50%\" y=\"16px\">While</text></svg><svg width=\"100%\" x=\"0%\" y=\"48px\"><defs /><svg width=\"100%\" x=\"0\" y=\"0px\"><defs /><text text-anchor=\"middle\" x=\"50%\" y=\"16px\">IN</text></svg></svg><line stroke=\"black\" x1=\"50%\" x2=\"50%\" y1=\"20px\" y2=\"48px\" /></svg><line stroke=\"black\" x1=\"50%\" x2=\"15.0135%\" y1=\"20px\" y2=\"48px\" /><svg width=\"0.337382%\" x=\"15.2497%\" y=\"48px\"><defs /><svg width=\"100%\" x=\"0\" y=\"0px\"><defs /><text text-anchor=\"middle\" x=\"50%\" y=\"16px\">we</text></svg><svg width=\"100%\" x=\"0%\" y=\"48px\"><defs /><svg width=\"100%\" x=\"0\" y=\"0px\"><defs /><text text-anchor=\"middle\" x=\"50%\" y=\"16px\">PRP</text></svg></svg><line stroke=\"black\" x1=\"50%\" x2=\"50%\" y1=\"20px\" y2=\"48px\" /></svg><line stroke=\"black\" x1=\"50%\" x2=\"15.4184%\" y1=\"20px\" y2=\"48px\" /><svg width=\"0.337382%\" x=\"15.587%\" y=\"48px\"><defs /><svg width=\"100%\" x=\"0\" y=\"0px\"><defs /><text text-anchor=\"middle\" x=\"50%\" y=\"16px\">are</text></svg><svg width=\"100%\" x=\"0%\" y=\"48px\"><defs /><svg width=\"100%\" x=\"0\" y=\"0px\"><defs /><text text-anchor=\"middle\" x=\"50%\" y=\"16px\">VBP</text></svg></svg><line stroke=\"black\" x1=\"50%\" x2=\"50%\" y1=\"20px\" y2=\"48px\" /></svg><line stroke=\"black\" x1=\"50%\" x2=\"15.7557%\" y1=\"20px\" y2=\"48px\" /><svg width=\"0.74224%\" x=\"15.9244%\" y=\"48px\"><defs /><svg width=\"100%\" x=\"0\" y=\"0px\"><defs /><text text-anchor=\"middle\" x=\"50%\" y=\"16px\">certainly</text></svg><svg width=\"100%\" x=\"0%\" y=\"48px\"><defs /><svg width=\"100%\" x=\"0\" y=\"0px\"><defs /><text text-anchor=\"middle\" x=\"50%\" y=\"16px\">RB</text></svg></svg><line stroke=\"black\" x1=\"50%\" x2=\"50%\" y1=\"20px\" y2=\"48px\" /></svg><line stroke=\"black\" x1=\"50%\" x2=\"16.2955%\" y1=\"20px\" y2=\"48px\" /><svg width=\"0.269906%\" x=\"16.6667%\" y=\"48px\"><defs /><svg width=\"100%\" x=\"0\" y=\"0px\"><defs /><text text-anchor=\"middle\" x=\"50%\" y=\"16px\">in</text></svg><svg width=\"100%\" x=\"0%\" y=\"48px\"><defs /><svg width=\"100%\" x=\"0\" y=\"0px\"><defs /><text text-anchor=\"middle\" x=\"50%\" y=\"16px\">IN</text></svg></svg><line stroke=\"black\" x1=\"50%\" x2=\"50%\" y1=\"20px\" y2=\"48px\" /></svg><line stroke=\"black\" x1=\"50%\" x2=\"16.8016%\" y1=\"20px\" y2=\"48px\" /><svg width=\"0.269906%\" x=\"16.9366%\" y=\"48px\"><defs /><svg width=\"100%\" x=\"0\" y=\"0px\"><defs /><text text-anchor=\"middle\" x=\"50%\" y=\"16px\">an</text></svg><svg width=\"100%\" x=\"0%\" y=\"48px\"><defs /><svg width=\"100%\" x=\"0\" y=\"0px\"><defs /><text text-anchor=\"middle\" x=\"50%\" y=\"16px\">DT</text></svg></svg><line stroke=\"black\" x1=\"50%\" x2=\"50%\" y1=\"20px\" y2=\"48px\" /></svg><line stroke=\"black\" x1=\"50%\" x2=\"17.0715%\" y1=\"20px\" y2=\"48px\" /><svg width=\"0.337382%\" x=\"17.2065%\" y=\"48px\"><defs /><svg width=\"100%\" x=\"0\" y=\"0px\"><defs /><text text-anchor=\"middle\" x=\"50%\" y=\"16px\">age</text></svg><svg width=\"100%\" x=\"0%\" y=\"48px\"><defs /><svg width=\"100%\" x=\"0\" y=\"0px\"><defs /><text text-anchor=\"middle\" x=\"50%\" y=\"16px\">NN</text></svg></svg><line stroke=\"black\" x1=\"50%\" x2=\"50%\" y1=\"20px\" y2=\"48px\" /></svg><line stroke=\"black\" x1=\"50%\" x2=\"17.3752%\" y1=\"20px\" y2=\"48px\" /><svg width=\"0.472335%\" x=\"17.5439%\" y=\"48px\"><defs /><svg width=\"100%\" x=\"0\" y=\"0px\"><defs /><text text-anchor=\"middle\" x=\"50%\" y=\"16px\">where</text></svg><svg width=\"100%\" x=\"0%\" y=\"48px\"><defs /><svg width=\"100%\" x=\"0\" y=\"0px\"><defs /><text text-anchor=\"middle\" x=\"50%\" y=\"16px\">WRB</text></svg></svg><line stroke=\"black\" x1=\"50%\" x2=\"50%\" y1=\"20px\" y2=\"48px\" /></svg><line stroke=\"black\" x1=\"50%\" x2=\"17.78%\" y1=\"20px\" y2=\"48px\" /><svg width=\"0.809717%\" x=\"18.0162%\" y=\"48px\"><defs /><svg width=\"100%\" x=\"0\" y=\"0px\"><defs /><text text-anchor=\"middle\" x=\"50%\" y=\"16px\">technology</text></svg><svg width=\"100%\" x=\"0%\" y=\"48px\"><defs /><svg width=\"100%\" x=\"0\" y=\"0px\"><defs /><text text-anchor=\"middle\" x=\"50%\" y=\"16px\">NN</text></svg></svg><line stroke=\"black\" x1=\"50%\" x2=\"50%\" y1=\"20px\" y2=\"48px\" /></svg><line stroke=\"black\" x1=\"50%\" x2=\"18.4211%\" y1=\"20px\" y2=\"48px\" /><svg width=\"0.472335%\" x=\"18.8259%\" y=\"48px\"><defs /><svg width=\"100%\" x=\"0\" y=\"0px\"><defs /><text text-anchor=\"middle\" x=\"50%\" y=\"16px\">plays</text></svg><svg width=\"100%\" x=\"0%\" y=\"48px\"><defs /><svg width=\"100%\" x=\"0\" y=\"0px\"><defs /><text text-anchor=\"middle\" x=\"50%\" y=\"16px\">VBZ</text></svg></svg><line stroke=\"black\" x1=\"50%\" x2=\"50%\" y1=\"20px\" y2=\"48px\" /></svg><line stroke=\"black\" x1=\"50%\" x2=\"19.0621%\" y1=\"20px\" y2=\"48px\" /><svg width=\"0.269906%\" x=\"19.2982%\" y=\"48px\"><defs /><svg width=\"100%\" x=\"0\" y=\"0px\"><defs /><text text-anchor=\"middle\" x=\"50%\" y=\"16px\">an</text></svg><svg width=\"100%\" x=\"0%\" y=\"48px\"><defs /><svg width=\"100%\" x=\"0\" y=\"0px\"><defs /><text text-anchor=\"middle\" x=\"50%\" y=\"16px\">DT</text></svg></svg><line stroke=\"black\" x1=\"50%\" x2=\"50%\" y1=\"20px\" y2=\"48px\" /></svg><line stroke=\"black\" x1=\"50%\" x2=\"19.4332%\" y1=\"20px\" y2=\"48px\" /><svg width=\"0.944669%\" x=\"19.5682%\" y=\"48px\"><defs /><svg width=\"100%\" x=\"0\" y=\"0px\"><defs /><text text-anchor=\"middle\" x=\"50%\" y=\"16px\">increasingly</text></svg><svg width=\"100%\" x=\"0%\" y=\"48px\"><defs /><svg width=\"100%\" x=\"0\" y=\"0px\"><defs /><text text-anchor=\"middle\" x=\"50%\" y=\"16px\">RB</text></svg></svg><line stroke=\"black\" x1=\"50%\" x2=\"50%\" y1=\"20px\" y2=\"48px\" /></svg><line stroke=\"black\" x1=\"50%\" x2=\"20.0405%\" y1=\"20px\" y2=\"48px\" /><svg width=\"0.74224%\" x=\"20.5128%\" y=\"48px\"><defs /><svg width=\"100%\" x=\"0\" y=\"0px\"><defs /><text text-anchor=\"middle\" x=\"50%\" y=\"16px\">important</text></svg><svg width=\"100%\" x=\"0%\" y=\"48px\"><defs /><svg width=\"100%\" x=\"0\" y=\"0px\"><defs /><text text-anchor=\"middle\" x=\"50%\" y=\"16px\">JJ</text></svg></svg><line stroke=\"black\" x1=\"50%\" x2=\"50%\" y1=\"20px\" y2=\"48px\" /></svg><line stroke=\"black\" x1=\"50%\" x2=\"20.8839%\" y1=\"20px\" y2=\"48px\" /><svg width=\"0.404858%\" x=\"21.2551%\" y=\"48px\"><defs /><svg width=\"100%\" x=\"0\" y=\"0px\"><defs /><text text-anchor=\"middle\" x=\"50%\" y=\"16px\">role</text></svg><svg width=\"100%\" x=\"0%\" y=\"48px\"><defs /><svg width=\"100%\" x=\"0\" y=\"0px\"><defs /><text text-anchor=\"middle\" x=\"50%\" y=\"16px\">NN</text></svg></svg><line stroke=\"black\" x1=\"50%\" x2=\"50%\" y1=\"20px\" y2=\"48px\" /></svg><line stroke=\"black\" x1=\"50%\" x2=\"21.4575%\" y1=\"20px\" y2=\"48px\" /><svg width=\"0.269906%\" x=\"21.6599%\" y=\"48px\"><defs /><svg width=\"100%\" x=\"0\" y=\"0px\"><defs /><text text-anchor=\"middle\" x=\"50%\" y=\"16px\">in</text></svg><svg width=\"100%\" x=\"0%\" y=\"48px\"><defs /><svg width=\"100%\" x=\"0\" y=\"0px\"><defs /><text text-anchor=\"middle\" x=\"50%\" y=\"16px\">IN</text></svg></svg><line stroke=\"black\" x1=\"50%\" x2=\"50%\" y1=\"20px\" y2=\"48px\" /></svg><line stroke=\"black\" x1=\"50%\" x2=\"21.7949%\" y1=\"20px\" y2=\"48px\" /><svg width=\"0.404858%\" x=\"21.9298%\" y=\"48px\"><defs /><svg width=\"100%\" x=\"0\" y=\"0px\"><defs /><text text-anchor=\"middle\" x=\"50%\" y=\"16px\">our</text></svg><svg width=\"100%\" x=\"0%\" y=\"48px\"><defs /><svg width=\"100%\" x=\"0\" y=\"0px\"><defs /><text text-anchor=\"middle\" x=\"50%\" y=\"16px\">PRP$</text></svg></svg><line stroke=\"black\" x1=\"50%\" x2=\"50%\" y1=\"20px\" y2=\"48px\" /></svg><line stroke=\"black\" x1=\"50%\" x2=\"22.1323%\" y1=\"20px\" y2=\"48px\" /><svg width=\"0.472335%\" x=\"22.3347%\" y=\"48px\"><defs /><svg width=\"100%\" x=\"0\" y=\"0px\"><defs /><text text-anchor=\"middle\" x=\"50%\" y=\"16px\">daily</text></svg><svg width=\"100%\" x=\"0%\" y=\"48px\"><defs /><svg width=\"100%\" x=\"0\" y=\"0px\"><defs /><text text-anchor=\"middle\" x=\"50%\" y=\"16px\">JJ</text></svg></svg><line stroke=\"black\" x1=\"50%\" x2=\"50%\" y1=\"20px\" y2=\"48px\" /></svg><line stroke=\"black\" x1=\"50%\" x2=\"22.5709%\" y1=\"20px\" y2=\"48px\" /><svg width=\"0.472335%\" x=\"22.807%\" y=\"48px\"><defs /><svg width=\"100%\" x=\"0\" y=\"0px\"><defs /><text text-anchor=\"middle\" x=\"50%\" y=\"16px\">lives</text></svg><svg width=\"100%\" x=\"0%\" y=\"48px\"><defs /><svg width=\"100%\" x=\"0\" y=\"0px\"><defs /><text text-anchor=\"middle\" x=\"50%\" y=\"16px\">NNS</text></svg></svg><line stroke=\"black\" x1=\"50%\" x2=\"50%\" y1=\"20px\" y2=\"48px\" /></svg><line stroke=\"black\" x1=\"50%\" x2=\"23.0432%\" y1=\"20px\" y2=\"48px\" /><svg width=\"0.202429%\" x=\"23.2794%\" y=\"48px\"><defs /><svg width=\"100%\" x=\"0\" y=\"0px\"><defs /><text text-anchor=\"middle\" x=\"50%\" y=\"16px\">,</text></svg><svg width=\"100%\" x=\"0%\" y=\"48px\"><defs /><svg width=\"100%\" x=\"0\" y=\"0px\"><defs /><text text-anchor=\"middle\" x=\"50%\" y=\"16px\">,</text></svg></svg><line stroke=\"black\" x1=\"50%\" x2=\"50%\" y1=\"20px\" y2=\"48px\" /></svg><line stroke=\"black\" x1=\"50%\" x2=\"23.3806%\" y1=\"20px\" y2=\"48px\" /><svg width=\"0.337382%\" x=\"23.4818%\" y=\"48px\"><defs /><svg width=\"100%\" x=\"0\" y=\"0px\"><defs /><text text-anchor=\"middle\" x=\"50%\" y=\"16px\">we</text></svg><svg width=\"100%\" x=\"0%\" y=\"48px\"><defs /><svg width=\"100%\" x=\"0\" y=\"0px\"><defs /><text text-anchor=\"middle\" x=\"50%\" y=\"16px\">PRP</text></svg></svg><line stroke=\"black\" x1=\"50%\" x2=\"50%\" y1=\"20px\" y2=\"48px\" /></svg><line stroke=\"black\" x1=\"50%\" x2=\"23.6505%\" y1=\"20px\" y2=\"48px\" /><svg width=\"0.404858%\" x=\"23.8192%\" y=\"48px\"><defs /><svg width=\"100%\" x=\"0\" y=\"0px\"><defs /><text text-anchor=\"middle\" x=\"50%\" y=\"16px\">have</text></svg><svg width=\"100%\" x=\"0%\" y=\"48px\"><defs /><svg width=\"100%\" x=\"0\" y=\"0px\"><defs /><text text-anchor=\"middle\" x=\"50%\" y=\"16px\">VBP</text></svg></svg><line stroke=\"black\" x1=\"50%\" x2=\"50%\" y1=\"20px\" y2=\"48px\" /></svg><line stroke=\"black\" x1=\"50%\" x2=\"24.0216%\" y1=\"20px\" y2=\"48px\" /><svg width=\"0.337382%\" x=\"24.224%\" y=\"48px\"><defs /><svg width=\"100%\" x=\"0\" y=\"0px\"><defs /><text text-anchor=\"middle\" x=\"50%\" y=\"16px\">not</text></svg><svg width=\"100%\" x=\"0%\" y=\"48px\"><defs /><svg width=\"100%\" x=\"0\" y=\"0px\"><defs /><text text-anchor=\"middle\" x=\"50%\" y=\"16px\">RB</text></svg></svg><line stroke=\"black\" x1=\"50%\" x2=\"50%\" y1=\"20px\" y2=\"48px\" /></svg><line stroke=\"black\" x1=\"50%\" x2=\"24.3927%\" y1=\"20px\" y2=\"48px\" /><svg width=\"0.337382%\" x=\"24.5614%\" y=\"48px\"><defs /><svg width=\"100%\" x=\"0\" y=\"0px\"><defs /><text text-anchor=\"middle\" x=\"50%\" y=\"16px\">yet</text></svg><svg width=\"100%\" x=\"0%\" y=\"48px\"><defs /><svg width=\"100%\" x=\"0\" y=\"0px\"><defs /><text text-anchor=\"middle\" x=\"50%\" y=\"16px\">RB</text></svg></svg><line stroke=\"black\" x1=\"50%\" x2=\"50%\" y1=\"20px\" y2=\"48px\" /></svg><line stroke=\"black\" x1=\"50%\" x2=\"24.7301%\" y1=\"20px\" y2=\"48px\" /><svg width=\"0.472335%\" x=\"24.8988%\" y=\"48px\"><defs /><svg width=\"100%\" x=\"0\" y=\"0px\"><defs /><text text-anchor=\"middle\" x=\"50%\" y=\"16px\">fully</text></svg><svg width=\"100%\" x=\"0%\" y=\"48px\"><defs /><svg width=\"100%\" x=\"0\" y=\"0px\"><defs /><text text-anchor=\"middle\" x=\"50%\" y=\"16px\">RB</text></svg></svg><line stroke=\"black\" x1=\"50%\" x2=\"50%\" y1=\"20px\" y2=\"48px\" /></svg><line stroke=\"black\" x1=\"50%\" x2=\"25.135%\" y1=\"20px\" y2=\"48px\" /><svg width=\"0.607287%\" x=\"25.3711%\" y=\"48px\"><defs /><svg width=\"100%\" x=\"0\" y=\"0px\"><defs /><text text-anchor=\"middle\" x=\"50%\" y=\"16px\">reached</text></svg><svg width=\"100%\" x=\"0%\" y=\"48px\"><defs /><svg width=\"100%\" x=\"0\" y=\"0px\"><defs /><text text-anchor=\"middle\" x=\"50%\" y=\"16px\">VBD</text></svg></svg><line stroke=\"black\" x1=\"50%\" x2=\"50%\" y1=\"20px\" y2=\"48px\" /></svg><line stroke=\"black\" x1=\"50%\" x2=\"25.6748%\" y1=\"20px\" y2=\"48px\" /><svg width=\"0.269906%\" x=\"25.9784%\" y=\"48px\"><defs /><svg width=\"100%\" x=\"0\" y=\"0px\"><defs /><text text-anchor=\"middle\" x=\"50%\" y=\"16px\">a</text></svg><svg width=\"100%\" x=\"0%\" y=\"48px\"><defs /><svg width=\"100%\" x=\"0\" y=\"0px\"><defs /><text text-anchor=\"middle\" x=\"50%\" y=\"16px\">DT</text></svg></svg><line stroke=\"black\" x1=\"50%\" x2=\"50%\" y1=\"20px\" y2=\"48px\" /></svg><line stroke=\"black\" x1=\"50%\" x2=\"26.1134%\" y1=\"20px\" y2=\"48px\" /><svg width=\"0.472335%\" x=\"26.2483%\" y=\"48px\"><defs /><svg width=\"100%\" x=\"0\" y=\"0px\"><defs /><text text-anchor=\"middle\" x=\"50%\" y=\"16px\">state</text></svg><svg width=\"100%\" x=\"0%\" y=\"48px\"><defs /><svg width=\"100%\" x=\"0\" y=\"0px\"><defs /><text text-anchor=\"middle\" x=\"50%\" y=\"16px\">NN</text></svg></svg><line stroke=\"black\" x1=\"50%\" x2=\"50%\" y1=\"20px\" y2=\"48px\" /></svg><line stroke=\"black\" x1=\"50%\" x2=\"26.4845%\" y1=\"20px\" y2=\"48px\" /><svg width=\"0.269906%\" x=\"26.7206%\" y=\"48px\"><defs /><svg width=\"100%\" x=\"0\" y=\"0px\"><defs /><text text-anchor=\"middle\" x=\"50%\" y=\"16px\">of</text></svg><svg width=\"100%\" x=\"0%\" y=\"48px\"><defs /><svg width=\"100%\" x=\"0\" y=\"0px\"><defs /><text text-anchor=\"middle\" x=\"50%\" y=\"16px\">IN</text></svg></svg><line stroke=\"black\" x1=\"50%\" x2=\"50%\" y1=\"20px\" y2=\"48px\" /></svg><line stroke=\"black\" x1=\"50%\" x2=\"26.8556%\" y1=\"20px\" y2=\"48px\" /><svg width=\"1.01215%\" x=\"26.9906%\" y=\"48px\"><defs /><svg width=\"100%\" x=\"0\" y=\"0px\"><defs /><text text-anchor=\"middle\" x=\"50%\" y=\"16px\">human-machine</text></svg><svg width=\"100%\" x=\"0%\" y=\"48px\"><defs /><svg width=\"100%\" x=\"0\" y=\"0px\"><defs /><text text-anchor=\"middle\" x=\"50%\" y=\"16px\">JJ</text></svg></svg><line stroke=\"black\" x1=\"50%\" x2=\"50%\" y1=\"20px\" y2=\"48px\" /></svg><line stroke=\"black\" x1=\"50%\" x2=\"27.4966%\" y1=\"20px\" y2=\"48px\" /><svg width=\"0.74224%\" x=\"28.0027%\" y=\"48px\"><defs /><svg width=\"100%\" x=\"0\" y=\"0px\"><defs /><text text-anchor=\"middle\" x=\"50%\" y=\"16px\">symbiosis</text></svg><svg width=\"100%\" x=\"0%\" y=\"48px\"><defs /><svg width=\"100%\" x=\"0\" y=\"0px\"><defs /><text text-anchor=\"middle\" x=\"50%\" y=\"16px\">NN</text></svg></svg><line stroke=\"black\" x1=\"50%\" x2=\"50%\" y1=\"20px\" y2=\"48px\" /></svg><line stroke=\"black\" x1=\"50%\" x2=\"28.3738%\" y1=\"20px\" y2=\"48px\" /><svg width=\"0.202429%\" x=\"28.7449%\" y=\"48px\"><defs /><svg width=\"100%\" x=\"0\" y=\"0px\"><defs /><text text-anchor=\"middle\" x=\"50%\" y=\"16px\">.</text></svg><svg width=\"100%\" x=\"0%\" y=\"48px\"><defs /><svg width=\"100%\" x=\"0\" y=\"0px\"><defs /><text text-anchor=\"middle\" x=\"50%\" y=\"16px\">.</text></svg></svg><line stroke=\"black\" x1=\"50%\" x2=\"50%\" y1=\"20px\" y2=\"48px\" /></svg><line stroke=\"black\" x1=\"50%\" x2=\"28.8462%\" y1=\"20px\" y2=\"48px\" /><svg width=\"0.607287%\" x=\"28.9474%\" y=\"48px\"><defs /><svg width=\"100%\" x=\"0\" y=\"0px\"><defs /><text text-anchor=\"middle\" x=\"50%\" y=\"16px\">However</text></svg><svg width=\"100%\" x=\"0%\" y=\"48px\"><defs /><svg width=\"100%\" x=\"0\" y=\"0px\"><defs /><text text-anchor=\"middle\" x=\"50%\" y=\"16px\">RB</text></svg></svg><line stroke=\"black\" x1=\"50%\" x2=\"50%\" y1=\"20px\" y2=\"48px\" /></svg><line stroke=\"black\" x1=\"50%\" x2=\"29.251%\" y1=\"20px\" y2=\"48px\" /><svg width=\"0.202429%\" x=\"29.5547%\" y=\"48px\"><defs /><svg width=\"100%\" x=\"0\" y=\"0px\"><defs /><text text-anchor=\"middle\" x=\"50%\" y=\"16px\">,</text></svg><svg width=\"100%\" x=\"0%\" y=\"48px\"><defs /><svg width=\"100%\" x=\"0\" y=\"0px\"><defs /><text text-anchor=\"middle\" x=\"50%\" y=\"16px\">,</text></svg></svg><line stroke=\"black\" x1=\"50%\" x2=\"50%\" y1=\"20px\" y2=\"48px\" /></svg><line stroke=\"black\" x1=\"50%\" x2=\"29.6559%\" y1=\"20px\" y2=\"48px\" /><svg width=\"0.472335%\" x=\"29.7571%\" y=\"48px\"><defs /><svg width=\"100%\" x=\"0\" y=\"0px\"><defs /><text text-anchor=\"middle\" x=\"50%\" y=\"16px\">there</text></svg><svg width=\"100%\" x=\"0%\" y=\"48px\"><defs /><svg width=\"100%\" x=\"0\" y=\"0px\"><defs /><text text-anchor=\"middle\" x=\"50%\" y=\"16px\">EX</text></svg></svg><line stroke=\"black\" x1=\"50%\" x2=\"50%\" y1=\"20px\" y2=\"48px\" /></svg><line stroke=\"black\" x1=\"50%\" x2=\"29.9933%\" y1=\"20px\" y2=\"48px\" /><svg width=\"0.337382%\" x=\"30.2294%\" y=\"48px\"><defs /><svg width=\"100%\" x=\"0\" y=\"0px\"><defs /><text text-anchor=\"middle\" x=\"50%\" y=\"16px\">are</text></svg><svg width=\"100%\" x=\"0%\" y=\"48px\"><defs /><svg width=\"100%\" x=\"0\" y=\"0px\"><defs /><text text-anchor=\"middle\" x=\"50%\" y=\"16px\">VBP</text></svg></svg><line stroke=\"black\" x1=\"50%\" x2=\"50%\" y1=\"20px\" y2=\"48px\" /></svg><line stroke=\"black\" x1=\"50%\" x2=\"30.3981%\" y1=\"20px\" y2=\"48px\" /><svg width=\"0.74224%\" x=\"30.5668%\" y=\"48px\"><defs /><svg width=\"100%\" x=\"0\" y=\"0px\"><defs /><text text-anchor=\"middle\" x=\"50%\" y=\"16px\">certainly</text></svg><svg width=\"100%\" x=\"0%\" y=\"48px\"><defs /><svg width=\"100%\" x=\"0\" y=\"0px\"><defs /><text text-anchor=\"middle\" x=\"50%\" y=\"16px\">RB</text></svg></svg><line stroke=\"black\" x1=\"50%\" x2=\"50%\" y1=\"20px\" y2=\"48px\" /></svg><line stroke=\"black\" x1=\"50%\" x2=\"30.9379%\" y1=\"20px\" y2=\"48px\" /><svg width=\"0.674764%\" x=\"31.309%\" y=\"48px\"><defs /><svg width=\"100%\" x=\"0\" y=\"0px\"><defs /><text text-anchor=\"middle\" x=\"50%\" y=\"16px\">elements</text></svg><svg width=\"100%\" x=\"0%\" y=\"48px\"><defs /><svg width=\"100%\" x=\"0\" y=\"0px\"><defs /><text text-anchor=\"middle\" x=\"50%\" y=\"16px\">NNS</text></svg></svg><line stroke=\"black\" x1=\"50%\" x2=\"50%\" y1=\"20px\" y2=\"48px\" /></svg><line stroke=\"black\" x1=\"50%\" x2=\"31.6464%\" y1=\"20px\" y2=\"48px\" /><svg width=\"0.269906%\" x=\"31.9838%\" y=\"48px\"><defs /><svg width=\"100%\" x=\"0\" y=\"0px\"><defs /><text text-anchor=\"middle\" x=\"50%\" y=\"16px\">of</text></svg><svg width=\"100%\" x=\"0%\" y=\"48px\"><defs /><svg width=\"100%\" x=\"0\" y=\"0px\"><defs /><text text-anchor=\"middle\" x=\"50%\" y=\"16px\">IN</text></svg></svg><line stroke=\"black\" x1=\"50%\" x2=\"50%\" y1=\"20px\" y2=\"48px\" /></svg><line stroke=\"black\" x1=\"50%\" x2=\"32.1188%\" y1=\"20px\" y2=\"48px\" /><svg width=\"0.74224%\" x=\"32.2537%\" y=\"48px\"><defs /><svg width=\"100%\" x=\"0\" y=\"0px\"><defs /><text text-anchor=\"middle\" x=\"50%\" y=\"16px\">symbiosis</text></svg><svg width=\"100%\" x=\"0%\" y=\"48px\"><defs /><svg width=\"100%\" x=\"0\" y=\"0px\"><defs /><text text-anchor=\"middle\" x=\"50%\" y=\"16px\">NN</text></svg></svg><line stroke=\"black\" x1=\"50%\" x2=\"50%\" y1=\"20px\" y2=\"48px\" /></svg><line stroke=\"black\" x1=\"50%\" x2=\"32.6248%\" y1=\"20px\" y2=\"48px\" /><svg width=\"0.404858%\" x=\"32.996%\" y=\"48px\"><defs /><svg width=\"100%\" x=\"0\" y=\"0px\"><defs /><text text-anchor=\"middle\" x=\"50%\" y=\"16px\">that</text></svg><svg width=\"100%\" x=\"0%\" y=\"48px\"><defs /><svg width=\"100%\" x=\"0\" y=\"0px\"><defs /><text text-anchor=\"middle\" x=\"50%\" y=\"16px\">WDT</text></svg></svg><line stroke=\"black\" x1=\"50%\" x2=\"50%\" y1=\"20px\" y2=\"48px\" /></svg><line stroke=\"black\" x1=\"50%\" x2=\"33.1984%\" y1=\"20px\" y2=\"48px\" /><svg width=\"0.337382%\" x=\"33.4008%\" y=\"48px\"><defs /><svg width=\"100%\" x=\"0\" y=\"0px\"><defs /><text text-anchor=\"middle\" x=\"50%\" y=\"16px\">can</text></svg><svg width=\"100%\" x=\"0%\" y=\"48px\"><defs /><svg width=\"100%\" x=\"0\" y=\"0px\"><defs /><text text-anchor=\"middle\" x=\"50%\" y=\"16px\">MD</text></svg></svg><line stroke=\"black\" x1=\"50%\" x2=\"50%\" y1=\"20px\" y2=\"48px\" /></svg><line stroke=\"black\" x1=\"50%\" x2=\"33.5695%\" y1=\"20px\" y2=\"48px\" /><svg width=\"0.269906%\" x=\"33.7382%\" y=\"48px\"><defs /><svg width=\"100%\" x=\"0\" y=\"0px\"><defs /><text text-anchor=\"middle\" x=\"50%\" y=\"16px\">be</text></svg><svg width=\"100%\" x=\"0%\" y=\"48px\"><defs /><svg width=\"100%\" x=\"0\" y=\"0px\"><defs /><text text-anchor=\"middle\" x=\"50%\" y=\"16px\">VB</text></svg></svg><line stroke=\"black\" x1=\"50%\" x2=\"50%\" y1=\"20px\" y2=\"48px\" /></svg><line stroke=\"black\" x1=\"50%\" x2=\"33.8731%\" y1=\"20px\" y2=\"48px\" /><svg width=\"0.404858%\" x=\"34.0081%\" y=\"48px\"><defs /><svg width=\"100%\" x=\"0\" y=\"0px\"><defs /><text text-anchor=\"middle\" x=\"50%\" y=\"16px\">seen</text></svg><svg width=\"100%\" x=\"0%\" y=\"48px\"><defs /><svg width=\"100%\" x=\"0\" y=\"0px\"><defs /><text text-anchor=\"middle\" x=\"50%\" y=\"16px\">VBN</text></svg></svg><line stroke=\"black\" x1=\"50%\" x2=\"50%\" y1=\"20px\" y2=\"48px\" /></svg><line stroke=\"black\" x1=\"50%\" x2=\"34.2105%\" y1=\"20px\" y2=\"48px\" /><svg width=\"0.269906%\" x=\"34.413%\" y=\"48px\"><defs /><svg width=\"100%\" x=\"0\" y=\"0px\"><defs /><text text-anchor=\"middle\" x=\"50%\" y=\"16px\">in</text></svg><svg width=\"100%\" x=\"0%\" y=\"48px\"><defs /><svg width=\"100%\" x=\"0\" y=\"0px\"><defs /><text text-anchor=\"middle\" x=\"50%\" y=\"16px\">IN</text></svg></svg><line stroke=\"black\" x1=\"50%\" x2=\"50%\" y1=\"20px\" y2=\"48px\" /></svg><line stroke=\"black\" x1=\"50%\" x2=\"34.5479%\" y1=\"20px\" y2=\"48px\" /><svg width=\"0.607287%\" x=\"34.6829%\" y=\"48px\"><defs /><svg width=\"100%\" x=\"0\" y=\"0px\"><defs /><text text-anchor=\"middle\" x=\"50%\" y=\"16px\">certain</text></svg><svg width=\"100%\" x=\"0%\" y=\"48px\"><defs /><svg width=\"100%\" x=\"0\" y=\"0px\"><defs /><text text-anchor=\"middle\" x=\"50%\" y=\"16px\">JJ</text></svg></svg><line stroke=\"black\" x1=\"50%\" x2=\"50%\" y1=\"20px\" y2=\"48px\" /></svg><line stroke=\"black\" x1=\"50%\" x2=\"34.9865%\" y1=\"20px\" y2=\"48px\" /><svg width=\"0.607287%\" x=\"35.2901%\" y=\"48px\"><defs /><svg width=\"100%\" x=\"0\" y=\"0px\"><defs /><text text-anchor=\"middle\" x=\"50%\" y=\"16px\">domains</text></svg><svg width=\"100%\" x=\"0%\" y=\"48px\"><defs /><svg width=\"100%\" x=\"0\" y=\"0px\"><defs /><text text-anchor=\"middle\" x=\"50%\" y=\"16px\">NNS</text></svg></svg><line stroke=\"black\" x1=\"50%\" x2=\"50%\" y1=\"20px\" y2=\"48px\" /></svg><line stroke=\"black\" x1=\"50%\" x2=\"35.5938%\" y1=\"20px\" y2=\"48px\" /><svg width=\"0.202429%\" x=\"35.8974%\" y=\"48px\"><defs /><svg width=\"100%\" x=\"0\" y=\"0px\"><defs /><text text-anchor=\"middle\" x=\"50%\" y=\"16px\">.</text></svg><svg width=\"100%\" x=\"0%\" y=\"48px\"><defs /><svg width=\"100%\" x=\"0\" y=\"0px\"><defs /><text text-anchor=\"middle\" x=\"50%\" y=\"16px\">.</text></svg></svg><line stroke=\"black\" x1=\"50%\" x2=\"50%\" y1=\"20px\" y2=\"48px\" /></svg><line stroke=\"black\" x1=\"50%\" x2=\"35.9987%\" y1=\"20px\" y2=\"48px\" /><svg width=\"0.337382%\" x=\"36.0999%\" y=\"48px\"><defs /><svg width=\"100%\" x=\"0\" y=\"0px\"><defs /><text text-anchor=\"middle\" x=\"50%\" y=\"16px\">For</text></svg><svg width=\"100%\" x=\"0%\" y=\"48px\"><defs /><svg width=\"100%\" x=\"0\" y=\"0px\"><defs /><text text-anchor=\"middle\" x=\"50%\" y=\"16px\">IN</text></svg></svg><line stroke=\"black\" x1=\"50%\" x2=\"50%\" y1=\"20px\" y2=\"48px\" /></svg><line stroke=\"black\" x1=\"50%\" x2=\"36.2686%\" y1=\"20px\" y2=\"48px\" /><svg width=\"0.607287%\" x=\"36.4372%\" y=\"48px\"><defs /><svg width=\"100%\" x=\"0\" y=\"0px\"><defs /><text text-anchor=\"middle\" x=\"50%\" y=\"16px\">example</text></svg><svg width=\"100%\" x=\"0%\" y=\"48px\"><defs /><svg width=\"100%\" x=\"0\" y=\"0px\"><defs /><text text-anchor=\"middle\" x=\"50%\" y=\"16px\">NN</text></svg></svg><line stroke=\"black\" x1=\"50%\" x2=\"50%\" y1=\"20px\" y2=\"48px\" /></svg><line stroke=\"black\" x1=\"50%\" x2=\"36.7409%\" y1=\"20px\" y2=\"48px\" /><svg width=\"0.202429%\" x=\"37.0445%\" y=\"48px\"><defs /><svg width=\"100%\" x=\"0\" y=\"0px\"><defs /><text text-anchor=\"middle\" x=\"50%\" y=\"16px\">,</text></svg><svg width=\"100%\" x=\"0%\" y=\"48px\"><defs /><svg width=\"100%\" x=\"0\" y=\"0px\"><defs /><text text-anchor=\"middle\" x=\"50%\" y=\"16px\">,</text></svg></svg><line stroke=\"black\" x1=\"50%\" x2=\"50%\" y1=\"20px\" y2=\"48px\" /></svg><line stroke=\"black\" x1=\"50%\" x2=\"37.1457%\" y1=\"20px\" y2=\"48px\" /><svg width=\"0.269906%\" x=\"37.247%\" y=\"48px\"><defs /><svg width=\"100%\" x=\"0\" y=\"0px\"><defs /><text text-anchor=\"middle\" x=\"50%\" y=\"16px\">in</text></svg><svg width=\"100%\" x=\"0%\" y=\"48px\"><defs /><svg width=\"100%\" x=\"0\" y=\"0px\"><defs /><text text-anchor=\"middle\" x=\"50%\" y=\"16px\">IN</text></svg></svg><line stroke=\"black\" x1=\"50%\" x2=\"50%\" y1=\"20px\" y2=\"48px\" /></svg><line stroke=\"black\" x1=\"50%\" x2=\"37.3819%\" y1=\"20px\" y2=\"48px\" /><svg width=\"0.404858%\" x=\"37.5169%\" y=\"48px\"><defs /><svg width=\"100%\" x=\"0\" y=\"0px\"><defs /><text text-anchor=\"middle\" x=\"50%\" y=\"16px\">some</text></svg><svg width=\"100%\" x=\"0%\" y=\"48px\"><defs /><svg width=\"100%\" x=\"0\" y=\"0px\"><defs /><text text-anchor=\"middle\" x=\"50%\" y=\"16px\">DT</text></svg></svg><line stroke=\"black\" x1=\"50%\" x2=\"50%\" y1=\"20px\" y2=\"48px\" /></svg><line stroke=\"black\" x1=\"50%\" x2=\"37.7193%\" y1=\"20px\" y2=\"48px\" /><svg width=\"0.877193%\" x=\"37.9217%\" y=\"48px\"><defs /><svg width=\"100%\" x=\"0\" y=\"0px\"><defs /><text text-anchor=\"middle\" x=\"50%\" y=\"16px\">professions</text></svg><svg width=\"100%\" x=\"0%\" y=\"48px\"><defs /><svg width=\"100%\" x=\"0\" y=\"0px\"><defs /><text text-anchor=\"middle\" x=\"50%\" y=\"16px\">NNS</text></svg></svg><line stroke=\"black\" x1=\"50%\" x2=\"50%\" y1=\"20px\" y2=\"48px\" /></svg><line stroke=\"black\" x1=\"50%\" x2=\"38.3603%\" y1=\"20px\" y2=\"48px\" /><svg width=\"0.404858%\" x=\"38.7989%\" y=\"48px\"><defs /><svg width=\"100%\" x=\"0\" y=\"0px\"><defs /><text text-anchor=\"middle\" x=\"50%\" y=\"16px\">such</text></svg><svg width=\"100%\" x=\"0%\" y=\"48px\"><defs /><svg width=\"100%\" x=\"0\" y=\"0px\"><defs /><text text-anchor=\"middle\" x=\"50%\" y=\"16px\">JJ</text></svg></svg><line stroke=\"black\" x1=\"50%\" x2=\"50%\" y1=\"20px\" y2=\"48px\" /></svg><line stroke=\"black\" x1=\"50%\" x2=\"39.0013%\" y1=\"20px\" y2=\"48px\" /><svg width=\"0.269906%\" x=\"39.2038%\" y=\"48px\"><defs /><svg width=\"100%\" x=\"0\" y=\"0px\"><defs /><text text-anchor=\"middle\" x=\"50%\" y=\"16px\">as</text></svg><svg width=\"100%\" x=\"0%\" y=\"48px\"><defs /><svg width=\"100%\" x=\"0\" y=\"0px\"><defs /><text text-anchor=\"middle\" x=\"50%\" y=\"16px\">IN</text></svg></svg><line stroke=\"black\" x1=\"50%\" x2=\"50%\" y1=\"20px\" y2=\"48px\" /></svg><line stroke=\"black\" x1=\"50%\" x2=\"39.3387%\" y1=\"20px\" y2=\"48px\" /><svg width=\"0.674764%\" x=\"39.4737%\" y=\"48px\"><defs /><svg width=\"100%\" x=\"0\" y=\"0px\"><defs /><text text-anchor=\"middle\" x=\"50%\" y=\"16px\">medicine</text></svg><svg width=\"100%\" x=\"0%\" y=\"48px\"><defs /><svg width=\"100%\" x=\"0\" y=\"0px\"><defs /><text text-anchor=\"middle\" x=\"50%\" y=\"16px\">NN</text></svg></svg><line stroke=\"black\" x1=\"50%\" x2=\"50%\" y1=\"20px\" y2=\"48px\" /></svg><line stroke=\"black\" x1=\"50%\" x2=\"39.8111%\" y1=\"20px\" y2=\"48px\" /><svg width=\"0.269906%\" x=\"40.1484%\" y=\"48px\"><defs /><svg width=\"100%\" x=\"0\" y=\"0px\"><defs /><text text-anchor=\"middle\" x=\"50%\" y=\"16px\">or</text></svg><svg width=\"100%\" x=\"0%\" y=\"48px\"><defs /><svg width=\"100%\" x=\"0\" y=\"0px\"><defs /><text text-anchor=\"middle\" x=\"50%\" y=\"16px\">CC</text></svg></svg><line stroke=\"black\" x1=\"50%\" x2=\"50%\" y1=\"20px\" y2=\"48px\" /></svg><line stroke=\"black\" x1=\"50%\" x2=\"40.2834%\" y1=\"20px\" y2=\"48px\" /><svg width=\"0.674764%\" x=\"40.4184%\" y=\"48px\"><defs /><svg width=\"100%\" x=\"0\" y=\"0px\"><defs /><text text-anchor=\"middle\" x=\"50%\" y=\"16px\">aviation</text></svg><svg width=\"100%\" x=\"0%\" y=\"48px\"><defs /><svg width=\"100%\" x=\"0\" y=\"0px\"><defs /><text text-anchor=\"middle\" x=\"50%\" y=\"16px\">NN</text></svg></svg><line stroke=\"black\" x1=\"50%\" x2=\"50%\" y1=\"20px\" y2=\"48px\" /></svg><line stroke=\"black\" x1=\"50%\" x2=\"40.7557%\" y1=\"20px\" y2=\"48px\" /><svg width=\"0.202429%\" x=\"41.0931%\" y=\"48px\"><defs /><svg width=\"100%\" x=\"0\" y=\"0px\"><defs /><text text-anchor=\"middle\" x=\"50%\" y=\"16px\">,</text></svg><svg width=\"100%\" x=\"0%\" y=\"48px\"><defs /><svg width=\"100%\" x=\"0\" y=\"0px\"><defs /><text text-anchor=\"middle\" x=\"50%\" y=\"16px\">,</text></svg></svg><line stroke=\"black\" x1=\"50%\" x2=\"50%\" y1=\"20px\" y2=\"48px\" /></svg><line stroke=\"black\" x1=\"50%\" x2=\"41.1943%\" y1=\"20px\" y2=\"48px\" /><svg width=\"0.809717%\" x=\"41.2955%\" y=\"48px\"><defs /><svg width=\"100%\" x=\"0\" y=\"0px\"><defs /><text text-anchor=\"middle\" x=\"50%\" y=\"16px\">technology</text></svg><svg width=\"100%\" x=\"0%\" y=\"48px\"><defs /><svg width=\"100%\" x=\"0\" y=\"0px\"><defs /><text text-anchor=\"middle\" x=\"50%\" y=\"16px\">NN</text></svg></svg><line stroke=\"black\" x1=\"50%\" x2=\"50%\" y1=\"20px\" y2=\"48px\" /></svg><line stroke=\"black\" x1=\"50%\" x2=\"41.7004%\" y1=\"20px\" y2=\"48px\" /><svg width=\"0.472335%\" x=\"42.1053%\" y=\"48px\"><defs /><svg width=\"100%\" x=\"0\" y=\"0px\"><defs /><text text-anchor=\"middle\" x=\"50%\" y=\"16px\">plays</text></svg><svg width=\"100%\" x=\"0%\" y=\"48px\"><defs /><svg width=\"100%\" x=\"0\" y=\"0px\"><defs /><text text-anchor=\"middle\" x=\"50%\" y=\"16px\">NNS</text></svg></svg><line stroke=\"black\" x1=\"50%\" x2=\"50%\" y1=\"20px\" y2=\"48px\" /></svg><line stroke=\"black\" x1=\"50%\" x2=\"42.3414%\" y1=\"20px\" y2=\"48px\" /><svg width=\"0.269906%\" x=\"42.5776%\" y=\"48px\"><defs /><svg width=\"100%\" x=\"0\" y=\"0px\"><defs /><text text-anchor=\"middle\" x=\"50%\" y=\"16px\">an</text></svg><svg width=\"100%\" x=\"0%\" y=\"48px\"><defs /><svg width=\"100%\" x=\"0\" y=\"0px\"><defs /><text text-anchor=\"middle\" x=\"50%\" y=\"16px\">DT</text></svg></svg><line stroke=\"black\" x1=\"50%\" x2=\"50%\" y1=\"20px\" y2=\"48px\" /></svg><line stroke=\"black\" x1=\"50%\" x2=\"42.7126%\" y1=\"20px\" y2=\"48px\" /><svg width=\"0.674764%\" x=\"42.8475%\" y=\"48px\"><defs /><svg width=\"100%\" x=\"0\" y=\"0px\"><defs /><text text-anchor=\"middle\" x=\"50%\" y=\"16px\">integral</text></svg><svg width=\"100%\" x=\"0%\" y=\"48px\"><defs /><svg width=\"100%\" x=\"0\" y=\"0px\"><defs /><text text-anchor=\"middle\" x=\"50%\" y=\"16px\">JJ</text></svg></svg><line stroke=\"black\" x1=\"50%\" x2=\"50%\" y1=\"20px\" y2=\"48px\" /></svg><line stroke=\"black\" x1=\"50%\" x2=\"43.1849%\" y1=\"20px\" y2=\"48px\" /><svg width=\"0.404858%\" x=\"43.5223%\" y=\"48px\"><defs /><svg width=\"100%\" x=\"0\" y=\"0px\"><defs /><text text-anchor=\"middle\" x=\"50%\" y=\"16px\">role</text></svg><svg width=\"100%\" x=\"0%\" y=\"48px\"><defs /><svg width=\"100%\" x=\"0\" y=\"0px\"><defs /><text text-anchor=\"middle\" x=\"50%\" y=\"16px\">NN</text></svg></svg><line stroke=\"black\" x1=\"50%\" x2=\"50%\" y1=\"20px\" y2=\"48px\" /></svg><line stroke=\"black\" x1=\"50%\" x2=\"43.7247%\" y1=\"20px\" y2=\"48px\" /><svg width=\"0.269906%\" x=\"43.9271%\" y=\"48px\"><defs /><svg width=\"100%\" x=\"0\" y=\"0px\"><defs /><text text-anchor=\"middle\" x=\"50%\" y=\"16px\">in</text></svg><svg width=\"100%\" x=\"0%\" y=\"48px\"><defs /><svg width=\"100%\" x=\"0\" y=\"0px\"><defs /><text text-anchor=\"middle\" x=\"50%\" y=\"16px\">IN</text></svg></svg><line stroke=\"black\" x1=\"50%\" x2=\"50%\" y1=\"20px\" y2=\"48px\" /></svg><line stroke=\"black\" x1=\"50%\" x2=\"44.0621%\" y1=\"20px\" y2=\"48px\" /><svg width=\"0.809717%\" x=\"44.197%\" y=\"48px\"><defs /><svg width=\"100%\" x=\"0\" y=\"0px\"><defs /><text text-anchor=\"middle\" x=\"50%\" y=\"16px\">supporting</text></svg><svg width=\"100%\" x=\"0%\" y=\"48px\"><defs /><svg width=\"100%\" x=\"0\" y=\"0px\"><defs /><text text-anchor=\"middle\" x=\"50%\" y=\"16px\">VBG</text></svg></svg><line stroke=\"black\" x1=\"50%\" x2=\"50%\" y1=\"20px\" y2=\"48px\" /></svg><line stroke=\"black\" x1=\"50%\" x2=\"44.6019%\" y1=\"20px\" y2=\"48px\" /><svg width=\"0.472335%\" x=\"45.0067%\" y=\"48px\"><defs /><svg width=\"100%\" x=\"0\" y=\"0px\"><defs /><text text-anchor=\"middle\" x=\"50%\" y=\"16px\">human</text></svg><svg width=\"100%\" x=\"0%\" y=\"48px\"><defs /><svg width=\"100%\" x=\"0\" y=\"0px\"><defs /><text text-anchor=\"middle\" x=\"50%\" y=\"16px\">JJ</text></svg></svg><line stroke=\"black\" x1=\"50%\" x2=\"50%\" y1=\"20px\" y2=\"48px\" /></svg><line stroke=\"black\" x1=\"50%\" x2=\"45.2429%\" y1=\"20px\" y2=\"48px\" /><svg width=\"1.1471%\" x=\"45.4791%\" y=\"48px\"><defs /><svg width=\"100%\" x=\"0\" y=\"0px\"><defs /><text text-anchor=\"middle\" x=\"50%\" y=\"16px\">decision-making</text></svg><svg width=\"100%\" x=\"0%\" y=\"48px\"><defs /><svg width=\"100%\" x=\"0\" y=\"0px\"><defs /><text text-anchor=\"middle\" x=\"50%\" y=\"16px\">NN</text></svg></svg><line stroke=\"black\" x1=\"50%\" x2=\"50%\" y1=\"20px\" y2=\"48px\" /></svg><line stroke=\"black\" x1=\"50%\" x2=\"46.0526%\" y1=\"20px\" y2=\"48px\" /><svg width=\"0.337382%\" x=\"46.6262%\" y=\"48px\"><defs /><svg width=\"100%\" x=\"0\" y=\"0px\"><defs /><text text-anchor=\"middle\" x=\"50%\" y=\"16px\">and</text></svg><svg width=\"100%\" x=\"0%\" y=\"48px\"><defs /><svg width=\"100%\" x=\"0\" y=\"0px\"><defs /><text text-anchor=\"middle\" x=\"50%\" y=\"16px\">CC</text></svg></svg><line stroke=\"black\" x1=\"50%\" x2=\"50%\" y1=\"20px\" y2=\"48px\" /></svg><line stroke=\"black\" x1=\"50%\" x2=\"46.7949%\" y1=\"20px\" y2=\"48px\" /><svg width=\"0.539811%\" x=\"46.9636%\" y=\"48px\"><defs /><svg width=\"100%\" x=\"0\" y=\"0px\"><defs /><text text-anchor=\"middle\" x=\"50%\" y=\"16px\">action</text></svg><svg width=\"100%\" x=\"0%\" y=\"48px\"><defs /><svg width=\"100%\" x=\"0\" y=\"0px\"><defs /><text text-anchor=\"middle\" x=\"50%\" y=\"16px\">NN</text></svg></svg><line stroke=\"black\" x1=\"50%\" x2=\"50%\" y1=\"20px\" y2=\"48px\" /></svg><line stroke=\"black\" x1=\"50%\" x2=\"47.2335%\" y1=\"20px\" y2=\"48px\" /><svg width=\"0.202429%\" x=\"47.5034%\" y=\"48px\"><defs /><svg width=\"100%\" x=\"0\" y=\"0px\"><defs /><text text-anchor=\"middle\" x=\"50%\" y=\"16px\">.</text></svg><svg width=\"100%\" x=\"0%\" y=\"48px\"><defs /><svg width=\"100%\" x=\"0\" y=\"0px\"><defs /><text text-anchor=\"middle\" x=\"50%\" y=\"16px\">.</text></svg></svg><line stroke=\"black\" x1=\"50%\" x2=\"50%\" y1=\"20px\" y2=\"48px\" /></svg><line stroke=\"black\" x1=\"50%\" x2=\"47.6046%\" y1=\"20px\" y2=\"48px\" /><svg width=\"0.269906%\" x=\"47.7058%\" y=\"48px\"><defs /><svg width=\"100%\" x=\"0\" y=\"0px\"><defs /><text text-anchor=\"middle\" x=\"50%\" y=\"16px\">In</text></svg><svg width=\"100%\" x=\"0%\" y=\"48px\"><defs /><svg width=\"100%\" x=\"0\" y=\"0px\"><defs /><text text-anchor=\"middle\" x=\"50%\" y=\"16px\">IN</text></svg></svg><line stroke=\"black\" x1=\"50%\" x2=\"50%\" y1=\"20px\" y2=\"48px\" /></svg><line stroke=\"black\" x1=\"50%\" x2=\"47.8408%\" y1=\"20px\" y2=\"48px\" /><svg width=\"0.472335%\" x=\"47.9757%\" y=\"48px\"><defs /><svg width=\"100%\" x=\"0\" y=\"0px\"><defs /><text text-anchor=\"middle\" x=\"50%\" y=\"16px\">these</text></svg><svg width=\"100%\" x=\"0%\" y=\"48px\"><defs /><svg width=\"100%\" x=\"0\" y=\"0px\"><defs /><text text-anchor=\"middle\" x=\"50%\" y=\"16px\">DT</text></svg></svg><line stroke=\"black\" x1=\"50%\" x2=\"50%\" y1=\"20px\" y2=\"48px\" /></svg><line stroke=\"black\" x1=\"50%\" x2=\"48.2119%\" y1=\"20px\" y2=\"48px\" /><svg width=\"0.607287%\" x=\"48.448%\" y=\"48px\"><defs /><svg width=\"100%\" x=\"0\" y=\"0px\"><defs /><text text-anchor=\"middle\" x=\"50%\" y=\"16px\">domains</text></svg><svg width=\"100%\" x=\"0%\" y=\"48px\"><defs /><svg width=\"100%\" x=\"0\" y=\"0px\"><defs /><text text-anchor=\"middle\" x=\"50%\" y=\"16px\">NNS</text></svg></svg><line stroke=\"black\" x1=\"50%\" x2=\"50%\" y1=\"20px\" y2=\"48px\" /></svg><line stroke=\"black\" x1=\"50%\" x2=\"48.7517%\" y1=\"20px\" y2=\"48px\" /><svg width=\"0.202429%\" x=\"49.0553%\" y=\"48px\"><defs /><svg width=\"100%\" x=\"0\" y=\"0px\"><defs /><text text-anchor=\"middle\" x=\"50%\" y=\"16px\">,</text></svg><svg width=\"100%\" x=\"0%\" y=\"48px\"><defs /><svg width=\"100%\" x=\"0\" y=\"0px\"><defs /><text text-anchor=\"middle\" x=\"50%\" y=\"16px\">,</text></svg></svg><line stroke=\"black\" x1=\"50%\" x2=\"50%\" y1=\"20px\" y2=\"48px\" /></svg><line stroke=\"black\" x1=\"50%\" x2=\"49.1565%\" y1=\"20px\" y2=\"48px\" /><svg width=\"0.809717%\" x=\"49.2578%\" y=\"48px\"><defs /><svg width=\"100%\" x=\"0\" y=\"0px\"><defs /><text text-anchor=\"middle\" x=\"50%\" y=\"16px\">technology</text></svg><svg width=\"100%\" x=\"0%\" y=\"48px\"><defs /><svg width=\"100%\" x=\"0\" y=\"0px\"><defs /><text text-anchor=\"middle\" x=\"50%\" y=\"16px\">NN</text></svg></svg><line stroke=\"black\" x1=\"50%\" x2=\"50%\" y1=\"20px\" y2=\"48px\" /></svg><line stroke=\"black\" x1=\"50%\" x2=\"49.6626%\" y1=\"20px\" y2=\"48px\" /><svg width=\"0.337382%\" x=\"50.0675%\" y=\"48px\"><defs /><svg width=\"100%\" x=\"0\" y=\"0px\"><defs /><text text-anchor=\"middle\" x=\"50%\" y=\"16px\">and</text></svg><svg width=\"100%\" x=\"0%\" y=\"48px\"><defs /><svg width=\"100%\" x=\"0\" y=\"0px\"><defs /><text text-anchor=\"middle\" x=\"50%\" y=\"16px\">CC</text></svg></svg><line stroke=\"black\" x1=\"50%\" x2=\"50%\" y1=\"20px\" y2=\"48px\" /></svg><line stroke=\"black\" x1=\"50%\" x2=\"50.2362%\" y1=\"20px\" y2=\"48px\" /><svg width=\"0.539811%\" x=\"50.4049%\" y=\"48px\"><defs /><svg width=\"100%\" x=\"0\" y=\"0px\"><defs /><text text-anchor=\"middle\" x=\"50%\" y=\"16px\">humans</text></svg><svg width=\"100%\" x=\"0%\" y=\"48px\"><defs /><svg width=\"100%\" x=\"0\" y=\"0px\"><defs /><text text-anchor=\"middle\" x=\"50%\" y=\"16px\">NNS</text></svg></svg><line stroke=\"black\" x1=\"50%\" x2=\"50%\" y1=\"20px\" y2=\"48px\" /></svg><line stroke=\"black\" x1=\"50%\" x2=\"50.6748%\" y1=\"20px\" y2=\"48px\" /><svg width=\"0.404858%\" x=\"50.9447%\" y=\"48px\"><defs /><svg width=\"100%\" x=\"0\" y=\"0px\"><defs /><text text-anchor=\"middle\" x=\"50%\" y=\"16px\">work</text></svg><svg width=\"100%\" x=\"0%\" y=\"48px\"><defs /><svg width=\"100%\" x=\"0\" y=\"0px\"><defs /><text text-anchor=\"middle\" x=\"50%\" y=\"16px\">VBP</text></svg></svg><line stroke=\"black\" x1=\"50%\" x2=\"50%\" y1=\"20px\" y2=\"48px\" /></svg><line stroke=\"black\" x1=\"50%\" x2=\"51.1471%\" y1=\"20px\" y2=\"48px\" /><svg width=\"0.674764%\" x=\"51.3495%\" y=\"48px\"><defs /><svg width=\"100%\" x=\"0\" y=\"0px\"><defs /><text text-anchor=\"middle\" x=\"50%\" y=\"16px\">together</text></svg><svg width=\"100%\" x=\"0%\" y=\"48px\"><defs /><svg width=\"100%\" x=\"0\" y=\"0px\"><defs /><text text-anchor=\"middle\" x=\"50%\" y=\"16px\">RB</text></svg></svg><line stroke=\"black\" x1=\"50%\" x2=\"50%\" y1=\"20px\" y2=\"48px\" /></svg><line stroke=\"black\" x1=\"50%\" x2=\"51.6869%\" y1=\"20px\" y2=\"48px\" /><svg width=\"0.269906%\" x=\"52.0243%\" y=\"48px\"><defs /><svg width=\"100%\" x=\"0\" y=\"0px\"><defs /><text text-anchor=\"middle\" x=\"50%\" y=\"16px\">to</text></svg><svg width=\"100%\" x=\"0%\" y=\"48px\"><defs /><svg width=\"100%\" x=\"0\" y=\"0px\"><defs /><text text-anchor=\"middle\" x=\"50%\" y=\"16px\">TO</text></svg></svg><line stroke=\"black\" x1=\"50%\" x2=\"50%\" y1=\"20px\" y2=\"48px\" /></svg><line stroke=\"black\" x1=\"50%\" x2=\"52.1592%\" y1=\"20px\" y2=\"48px\" /><svg width=\"0.607287%\" x=\"52.2942%\" y=\"48px\"><defs /><svg width=\"100%\" x=\"0\" y=\"0px\"><defs /><text text-anchor=\"middle\" x=\"50%\" y=\"16px\">achieve</text></svg><svg width=\"100%\" x=\"0%\" y=\"48px\"><defs /><svg width=\"100%\" x=\"0\" y=\"0px\"><defs /><text text-anchor=\"middle\" x=\"50%\" y=\"16px\">VB</text></svg></svg><line stroke=\"black\" x1=\"50%\" x2=\"50%\" y1=\"20px\" y2=\"48px\" /></svg><line stroke=\"black\" x1=\"50%\" x2=\"52.5978%\" y1=\"20px\" y2=\"48px\" /><svg width=\"0.269906%\" x=\"52.9015%\" y=\"48px\"><defs /><svg width=\"100%\" x=\"0\" y=\"0px\"><defs /><text text-anchor=\"middle\" x=\"50%\" y=\"16px\">a</text></svg><svg width=\"100%\" x=\"0%\" y=\"48px\"><defs /><svg width=\"100%\" x=\"0\" y=\"0px\"><defs /><text text-anchor=\"middle\" x=\"50%\" y=\"16px\">DT</text></svg></svg><line stroke=\"black\" x1=\"50%\" x2=\"50%\" y1=\"20px\" y2=\"48px\" /></svg><line stroke=\"black\" x1=\"50%\" x2=\"53.0364%\" y1=\"20px\" y2=\"48px\" /><svg width=\"0.539811%\" x=\"53.1714%\" y=\"48px\"><defs /><svg width=\"100%\" x=\"0\" y=\"0px\"><defs /><text text-anchor=\"middle\" x=\"50%\" y=\"16px\">common</text></svg><svg width=\"100%\" x=\"0%\" y=\"48px\"><defs /><svg width=\"100%\" x=\"0\" y=\"0px\"><defs /><text text-anchor=\"middle\" x=\"50%\" y=\"16px\">JJ</text></svg></svg><line stroke=\"black\" x1=\"50%\" x2=\"50%\" y1=\"20px\" y2=\"48px\" /></svg><line stroke=\"black\" x1=\"50%\" x2=\"53.4413%\" y1=\"20px\" y2=\"48px\" /><svg width=\"0.404858%\" x=\"53.7112%\" y=\"48px\"><defs /><svg width=\"100%\" x=\"0\" y=\"0px\"><defs /><text text-anchor=\"middle\" x=\"50%\" y=\"16px\">goal</text></svg><svg width=\"100%\" x=\"0%\" y=\"48px\"><defs /><svg width=\"100%\" x=\"0\" y=\"0px\"><defs /><text text-anchor=\"middle\" x=\"50%\" y=\"16px\">NN</text></svg></svg><line stroke=\"black\" x1=\"50%\" x2=\"50%\" y1=\"20px\" y2=\"48px\" /></svg><line stroke=\"black\" x1=\"50%\" x2=\"53.9136%\" y1=\"20px\" y2=\"48px\" /><svg width=\"0.202429%\" x=\"54.1161%\" y=\"48px\"><defs /><svg width=\"100%\" x=\"0\" y=\"0px\"><defs /><text text-anchor=\"middle\" x=\"50%\" y=\"16px\">,</text></svg><svg width=\"100%\" x=\"0%\" y=\"48px\"><defs /><svg width=\"100%\" x=\"0\" y=\"0px\"><defs /><text text-anchor=\"middle\" x=\"50%\" y=\"16px\">,</text></svg></svg><line stroke=\"black\" x1=\"50%\" x2=\"50%\" y1=\"20px\" y2=\"48px\" /></svg><line stroke=\"black\" x1=\"50%\" x2=\"54.2173%\" y1=\"20px\" y2=\"48px\" /><svg width=\"0.337382%\" x=\"54.3185%\" y=\"48px\"><defs /><svg width=\"100%\" x=\"0\" y=\"0px\"><defs /><text text-anchor=\"middle\" x=\"50%\" y=\"16px\">and</text></svg><svg width=\"100%\" x=\"0%\" y=\"48px\"><defs /><svg width=\"100%\" x=\"0\" y=\"0px\"><defs /><text text-anchor=\"middle\" x=\"50%\" y=\"16px\">CC</text></svg></svg><line stroke=\"black\" x1=\"50%\" x2=\"50%\" y1=\"20px\" y2=\"48px\" /></svg><line stroke=\"black\" x1=\"50%\" x2=\"54.4872%\" y1=\"20px\" y2=\"48px\" /><svg width=\"0.337382%\" x=\"54.6559%\" y=\"48px\"><defs /><svg width=\"100%\" x=\"0\" y=\"0px\"><defs /><text text-anchor=\"middle\" x=\"50%\" y=\"16px\">the</text></svg><svg width=\"100%\" x=\"0%\" y=\"48px\"><defs /><svg width=\"100%\" x=\"0\" y=\"0px\"><defs /><text text-anchor=\"middle\" x=\"50%\" y=\"16px\">DT</text></svg></svg><line stroke=\"black\" x1=\"50%\" x2=\"50%\" y1=\"20px\" y2=\"48px\" /></svg><line stroke=\"black\" x1=\"50%\" x2=\"54.8246%\" y1=\"20px\" y2=\"48px\" /><svg width=\"0.944669%\" x=\"54.9933%\" y=\"48px\"><defs /><svg width=\"100%\" x=\"0\" y=\"0px\"><defs /><text text-anchor=\"middle\" x=\"50%\" y=\"16px\">relationship</text></svg><svg width=\"100%\" x=\"0%\" y=\"48px\"><defs /><svg width=\"100%\" x=\"0\" y=\"0px\"><defs /><text text-anchor=\"middle\" x=\"50%\" y=\"16px\">NN</text></svg></svg><line stroke=\"black\" x1=\"50%\" x2=\"50%\" y1=\"20px\" y2=\"48px\" /></svg><line stroke=\"black\" x1=\"50%\" x2=\"55.4656%\" y1=\"20px\" y2=\"48px\" /><svg width=\"0.607287%\" x=\"55.9379%\" y=\"48px\"><defs /><svg width=\"100%\" x=\"0\" y=\"0px\"><defs /><text text-anchor=\"middle\" x=\"50%\" y=\"16px\">between</text></svg><svg width=\"100%\" x=\"0%\" y=\"48px\"><defs /><svg width=\"100%\" x=\"0\" y=\"0px\"><defs /><text text-anchor=\"middle\" x=\"50%\" y=\"16px\">IN</text></svg></svg><line stroke=\"black\" x1=\"50%\" x2=\"50%\" y1=\"20px\" y2=\"48px\" /></svg><line stroke=\"black\" x1=\"50%\" x2=\"56.2416%\" y1=\"20px\" y2=\"48px\" /><svg width=\"0.337382%\" x=\"56.5452%\" y=\"48px\"><defs /><svg width=\"100%\" x=\"0\" y=\"0px\"><defs /><text text-anchor=\"middle\" x=\"50%\" y=\"16px\">the</text></svg><svg width=\"100%\" x=\"0%\" y=\"48px\"><defs /><svg width=\"100%\" x=\"0\" y=\"0px\"><defs /><text text-anchor=\"middle\" x=\"50%\" y=\"16px\">DT</text></svg></svg><line stroke=\"black\" x1=\"50%\" x2=\"50%\" y1=\"20px\" y2=\"48px\" /></svg><line stroke=\"black\" x1=\"50%\" x2=\"56.7139%\" y1=\"20px\" y2=\"48px\" /><svg width=\"0.337382%\" x=\"56.8826%\" y=\"48px\"><defs /><svg width=\"100%\" x=\"0\" y=\"0px\"><defs /><text text-anchor=\"middle\" x=\"50%\" y=\"16px\">two</text></svg><svg width=\"100%\" x=\"0%\" y=\"48px\"><defs /><svg width=\"100%\" x=\"0\" y=\"0px\"><defs /><text text-anchor=\"middle\" x=\"50%\" y=\"16px\">CD</text></svg></svg><line stroke=\"black\" x1=\"50%\" x2=\"50%\" y1=\"20px\" y2=\"48px\" /></svg><line stroke=\"black\" x1=\"50%\" x2=\"57.0513%\" y1=\"20px\" y2=\"48px\" /><svg width=\"0.337382%\" x=\"57.22%\" y=\"48px\"><defs /><svg width=\"100%\" x=\"0\" y=\"0px\"><defs /><text text-anchor=\"middle\" x=\"50%\" y=\"16px\">can</text></svg><svg width=\"100%\" x=\"0%\" y=\"48px\"><defs /><svg width=\"100%\" x=\"0\" y=\"0px\"><defs /><text text-anchor=\"middle\" x=\"50%\" y=\"16px\">MD</text></svg></svg><line stroke=\"black\" x1=\"50%\" x2=\"50%\" y1=\"20px\" y2=\"48px\" /></svg><line stroke=\"black\" x1=\"50%\" x2=\"57.3887%\" y1=\"20px\" y2=\"48px\" /><svg width=\"0.269906%\" x=\"57.5574%\" y=\"48px\"><defs /><svg width=\"100%\" x=\"0\" y=\"0px\"><defs /><text text-anchor=\"middle\" x=\"50%\" y=\"16px\">be</text></svg><svg width=\"100%\" x=\"0%\" y=\"48px\"><defs /><svg width=\"100%\" x=\"0\" y=\"0px\"><defs /><text text-anchor=\"middle\" x=\"50%\" y=\"16px\">VB</text></svg></svg><line stroke=\"black\" x1=\"50%\" x2=\"50%\" y1=\"20px\" y2=\"48px\" /></svg><line stroke=\"black\" x1=\"50%\" x2=\"57.6923%\" y1=\"20px\" y2=\"48px\" /><svg width=\"0.404858%\" x=\"57.8273%\" y=\"48px\"><defs /><svg width=\"100%\" x=\"0\" y=\"0px\"><defs /><text text-anchor=\"middle\" x=\"50%\" y=\"16px\">seen</text></svg><svg width=\"100%\" x=\"0%\" y=\"48px\"><defs /><svg width=\"100%\" x=\"0\" y=\"0px\"><defs /><text text-anchor=\"middle\" x=\"50%\" y=\"16px\">VBN</text></svg></svg><line stroke=\"black\" x1=\"50%\" x2=\"50%\" y1=\"20px\" y2=\"48px\" /></svg><line stroke=\"black\" x1=\"50%\" x2=\"58.0297%\" y1=\"20px\" y2=\"48px\" /><svg width=\"0.269906%\" x=\"58.2321%\" y=\"48px\"><defs /><svg width=\"100%\" x=\"0\" y=\"0px\"><defs /><text text-anchor=\"middle\" x=\"50%\" y=\"16px\">as</text></svg><svg width=\"100%\" x=\"0%\" y=\"48px\"><defs /><svg width=\"100%\" x=\"0\" y=\"0px\"><defs /><text text-anchor=\"middle\" x=\"50%\" y=\"16px\">IN</text></svg></svg><line stroke=\"black\" x1=\"50%\" x2=\"50%\" y1=\"20px\" y2=\"48px\" /></svg><line stroke=\"black\" x1=\"50%\" x2=\"58.3671%\" y1=\"20px\" y2=\"48px\" /><svg width=\"0.269906%\" x=\"58.502%\" y=\"48px\"><defs /><svg width=\"100%\" x=\"0\" y=\"0px\"><defs /><text text-anchor=\"middle\" x=\"50%\" y=\"16px\">a</text></svg><svg width=\"100%\" x=\"0%\" y=\"48px\"><defs /><svg width=\"100%\" x=\"0\" y=\"0px\"><defs /><text text-anchor=\"middle\" x=\"50%\" y=\"16px\">DT</text></svg></svg><line stroke=\"black\" x1=\"50%\" x2=\"50%\" y1=\"20px\" y2=\"48px\" /></svg><line stroke=\"black\" x1=\"50%\" x2=\"58.637%\" y1=\"20px\" y2=\"48px\" /><svg width=\"0.404858%\" x=\"58.7719%\" y=\"48px\"><defs /><svg width=\"100%\" x=\"0\" y=\"0px\"><defs /><text text-anchor=\"middle\" x=\"50%\" y=\"16px\">kind</text></svg><svg width=\"100%\" x=\"0%\" y=\"48px\"><defs /><svg width=\"100%\" x=\"0\" y=\"0px\"><defs /><text text-anchor=\"middle\" x=\"50%\" y=\"16px\">NN</text></svg></svg><line stroke=\"black\" x1=\"50%\" x2=\"50%\" y1=\"20px\" y2=\"48px\" /></svg><line stroke=\"black\" x1=\"50%\" x2=\"58.9744%\" y1=\"20px\" y2=\"48px\" /><svg width=\"0.269906%\" x=\"59.1768%\" y=\"48px\"><defs /><svg width=\"100%\" x=\"0\" y=\"0px\"><defs /><text text-anchor=\"middle\" x=\"50%\" y=\"16px\">of</text></svg><svg width=\"100%\" x=\"0%\" y=\"48px\"><defs /><svg width=\"100%\" x=\"0\" y=\"0px\"><defs /><text text-anchor=\"middle\" x=\"50%\" y=\"16px\">IN</text></svg></svg><line stroke=\"black\" x1=\"50%\" x2=\"50%\" y1=\"20px\" y2=\"48px\" /></svg><line stroke=\"black\" x1=\"50%\" x2=\"59.3117%\" y1=\"20px\" y2=\"48px\" /><svg width=\"0.74224%\" x=\"59.4467%\" y=\"48px\"><defs /><svg width=\"100%\" x=\"0\" y=\"0px\"><defs /><text text-anchor=\"middle\" x=\"50%\" y=\"16px\">symbiosis</text></svg><svg width=\"100%\" x=\"0%\" y=\"48px\"><defs /><svg width=\"100%\" x=\"0\" y=\"0px\"><defs /><text text-anchor=\"middle\" x=\"50%\" y=\"16px\">NN</text></svg></svg><line stroke=\"black\" x1=\"50%\" x2=\"50%\" y1=\"20px\" y2=\"48px\" /></svg><line stroke=\"black\" x1=\"50%\" x2=\"59.8178%\" y1=\"20px\" y2=\"48px\" /><svg width=\"0.202429%\" x=\"60.1889%\" y=\"48px\"><defs /><svg width=\"100%\" x=\"0\" y=\"0px\"><defs /><text text-anchor=\"middle\" x=\"50%\" y=\"16px\">.</text></svg><svg width=\"100%\" x=\"0%\" y=\"48px\"><defs /><svg width=\"100%\" x=\"0\" y=\"0px\"><defs /><text text-anchor=\"middle\" x=\"50%\" y=\"16px\">.</text></svg></svg><line stroke=\"black\" x1=\"50%\" x2=\"50%\" y1=\"20px\" y2=\"48px\" /></svg><line stroke=\"black\" x1=\"50%\" x2=\"60.2901%\" y1=\"20px\" y2=\"48px\" /><svg width=\"0.607287%\" x=\"60.3914%\" y=\"48px\"><defs /><svg width=\"100%\" x=\"0\" y=\"0px\"><defs /><text text-anchor=\"middle\" x=\"50%\" y=\"16px\">However</text></svg><svg width=\"100%\" x=\"0%\" y=\"48px\"><defs /><svg width=\"100%\" x=\"0\" y=\"0px\"><defs /><text text-anchor=\"middle\" x=\"50%\" y=\"16px\">RB</text></svg></svg><line stroke=\"black\" x1=\"50%\" x2=\"50%\" y1=\"20px\" y2=\"48px\" /></svg><line stroke=\"black\" x1=\"50%\" x2=\"60.695%\" y1=\"20px\" y2=\"48px\" /><svg width=\"0.202429%\" x=\"60.9987%\" y=\"48px\"><defs /><svg width=\"100%\" x=\"0\" y=\"0px\"><defs /><text text-anchor=\"middle\" x=\"50%\" y=\"16px\">,</text></svg><svg width=\"100%\" x=\"0%\" y=\"48px\"><defs /><svg width=\"100%\" x=\"0\" y=\"0px\"><defs /><text text-anchor=\"middle\" x=\"50%\" y=\"16px\">,</text></svg></svg><line stroke=\"black\" x1=\"50%\" x2=\"50%\" y1=\"20px\" y2=\"48px\" /></svg><line stroke=\"black\" x1=\"50%\" x2=\"61.0999%\" y1=\"20px\" y2=\"48px\" /><svg width=\"0.269906%\" x=\"61.2011%\" y=\"48px\"><defs /><svg width=\"100%\" x=\"0\" y=\"0px\"><defs /><text text-anchor=\"middle\" x=\"50%\" y=\"16px\">in</text></svg><svg width=\"100%\" x=\"0%\" y=\"48px\"><defs /><svg width=\"100%\" x=\"0\" y=\"0px\"><defs /><text text-anchor=\"middle\" x=\"50%\" y=\"16px\">IN</text></svg></svg><line stroke=\"black\" x1=\"50%\" x2=\"50%\" y1=\"20px\" y2=\"48px\" /></svg><line stroke=\"black\" x1=\"50%\" x2=\"61.336%\" y1=\"20px\" y2=\"48px\" /><svg width=\"0.472335%\" x=\"61.471%\" y=\"48px\"><defs /><svg width=\"100%\" x=\"0\" y=\"0px\"><defs /><text text-anchor=\"middle\" x=\"50%\" y=\"16px\">other</text></svg><svg width=\"100%\" x=\"0%\" y=\"48px\"><defs /><svg width=\"100%\" x=\"0\" y=\"0px\"><defs /><text text-anchor=\"middle\" x=\"50%\" y=\"16px\">JJ</text></svg></svg><line stroke=\"black\" x1=\"50%\" x2=\"50%\" y1=\"20px\" y2=\"48px\" /></svg><line stroke=\"black\" x1=\"50%\" x2=\"61.7072%\" y1=\"20px\" y2=\"48px\" /><svg width=\"0.607287%\" x=\"61.9433%\" y=\"48px\"><defs /><svg width=\"100%\" x=\"0\" y=\"0px\"><defs /><text text-anchor=\"middle\" x=\"50%\" y=\"16px\">domains</text></svg><svg width=\"100%\" x=\"0%\" y=\"48px\"><defs /><svg width=\"100%\" x=\"0\" y=\"0px\"><defs /><text text-anchor=\"middle\" x=\"50%\" y=\"16px\">NNS</text></svg></svg><line stroke=\"black\" x1=\"50%\" x2=\"50%\" y1=\"20px\" y2=\"48px\" /></svg><line stroke=\"black\" x1=\"50%\" x2=\"62.247%\" y1=\"20px\" y2=\"48px\" /><svg width=\"0.404858%\" x=\"62.5506%\" y=\"48px\"><defs /><svg width=\"100%\" x=\"0\" y=\"0px\"><defs /><text text-anchor=\"middle\" x=\"50%\" y=\"16px\">such</text></svg><svg width=\"100%\" x=\"0%\" y=\"48px\"><defs /><svg width=\"100%\" x=\"0\" y=\"0px\"><defs /><text text-anchor=\"middle\" x=\"50%\" y=\"16px\">JJ</text></svg></svg><line stroke=\"black\" x1=\"50%\" x2=\"50%\" y1=\"20px\" y2=\"48px\" /></svg><line stroke=\"black\" x1=\"50%\" x2=\"62.753%\" y1=\"20px\" y2=\"48px\" /><svg width=\"0.269906%\" x=\"62.9555%\" y=\"48px\"><defs /><svg width=\"100%\" x=\"0\" y=\"0px\"><defs /><text text-anchor=\"middle\" x=\"50%\" y=\"16px\">as</text></svg><svg width=\"100%\" x=\"0%\" y=\"48px\"><defs /><svg width=\"100%\" x=\"0\" y=\"0px\"><defs /><text text-anchor=\"middle\" x=\"50%\" y=\"16px\">IN</text></svg></svg><line stroke=\"black\" x1=\"50%\" x2=\"50%\" y1=\"20px\" y2=\"48px\" /></svg><line stroke=\"black\" x1=\"50%\" x2=\"63.0904%\" y1=\"20px\" y2=\"48px\" /><svg width=\"0.539811%\" x=\"63.2254%\" y=\"48px\"><defs /><svg width=\"100%\" x=\"0\" y=\"0px\"><defs /><text text-anchor=\"middle\" x=\"50%\" y=\"16px\">social</text></svg><svg width=\"100%\" x=\"0%\" y=\"48px\"><defs /><svg width=\"100%\" x=\"0\" y=\"0px\"><defs /><text text-anchor=\"middle\" x=\"50%\" y=\"16px\">JJ</text></svg></svg><line stroke=\"black\" x1=\"50%\" x2=\"50%\" y1=\"20px\" y2=\"48px\" /></svg><line stroke=\"black\" x1=\"50%\" x2=\"63.4953%\" y1=\"20px\" y2=\"48px\" /><svg width=\"0.472335%\" x=\"63.7652%\" y=\"48px\"><defs /><svg width=\"100%\" x=\"0\" y=\"0px\"><defs /><text text-anchor=\"middle\" x=\"50%\" y=\"16px\">media</text></svg><svg width=\"100%\" x=\"0%\" y=\"48px\"><defs /><svg width=\"100%\" x=\"0\" y=\"0px\"><defs /><text text-anchor=\"middle\" x=\"50%\" y=\"16px\">NNS</text></svg></svg><line stroke=\"black\" x1=\"50%\" x2=\"50%\" y1=\"20px\" y2=\"48px\" /></svg><line stroke=\"black\" x1=\"50%\" x2=\"64.0013%\" y1=\"20px\" y2=\"48px\" /><svg width=\"0.269906%\" x=\"64.2375%\" y=\"48px\"><defs /><svg width=\"100%\" x=\"0\" y=\"0px\"><defs /><text text-anchor=\"middle\" x=\"50%\" y=\"16px\">or</text></svg><svg width=\"100%\" x=\"0%\" y=\"48px\"><defs /><svg width=\"100%\" x=\"0\" y=\"0px\"><defs /><text text-anchor=\"middle\" x=\"50%\" y=\"16px\">CC</text></svg></svg><line stroke=\"black\" x1=\"50%\" x2=\"50%\" y1=\"20px\" y2=\"48px\" /></svg><line stroke=\"black\" x1=\"50%\" x2=\"64.3725%\" y1=\"20px\" y2=\"48px\" /><svg width=\"0.539811%\" x=\"64.5074%\" y=\"48px\"><defs /><svg width=\"100%\" x=\"0\" y=\"0px\"><defs /><text text-anchor=\"middle\" x=\"50%\" y=\"16px\">gaming</text></svg><svg width=\"100%\" x=\"0%\" y=\"48px\"><defs /><svg width=\"100%\" x=\"0\" y=\"0px\"><defs /><text text-anchor=\"middle\" x=\"50%\" y=\"16px\">NN</text></svg></svg><line stroke=\"black\" x1=\"50%\" x2=\"50%\" y1=\"20px\" y2=\"48px\" /></svg><line stroke=\"black\" x1=\"50%\" x2=\"64.7773%\" y1=\"20px\" y2=\"48px\" /><svg width=\"0.202429%\" x=\"65.0472%\" y=\"48px\"><defs /><svg width=\"100%\" x=\"0\" y=\"0px\"><defs /><text text-anchor=\"middle\" x=\"50%\" y=\"16px\">,</text></svg><svg width=\"100%\" x=\"0%\" y=\"48px\"><defs /><svg width=\"100%\" x=\"0\" y=\"0px\"><defs /><text text-anchor=\"middle\" x=\"50%\" y=\"16px\">,</text></svg></svg><line stroke=\"black\" x1=\"50%\" x2=\"50%\" y1=\"20px\" y2=\"48px\" /></svg><line stroke=\"black\" x1=\"50%\" x2=\"65.1484%\" y1=\"20px\" y2=\"48px\" /><svg width=\"0.337382%\" x=\"65.2497%\" y=\"48px\"><defs /><svg width=\"100%\" x=\"0\" y=\"0px\"><defs /><text text-anchor=\"middle\" x=\"50%\" y=\"16px\">the</text></svg><svg width=\"100%\" x=\"0%\" y=\"48px\"><defs /><svg width=\"100%\" x=\"0\" y=\"0px\"><defs /><text text-anchor=\"middle\" x=\"50%\" y=\"16px\">DT</text></svg></svg><line stroke=\"black\" x1=\"50%\" x2=\"50%\" y1=\"20px\" y2=\"48px\" /></svg><line stroke=\"black\" x1=\"50%\" x2=\"65.4184%\" y1=\"20px\" y2=\"48px\" /><svg width=\"0.944669%\" x=\"65.587%\" y=\"48px\"><defs /><svg width=\"100%\" x=\"0\" y=\"0px\"><defs /><text text-anchor=\"middle\" x=\"50%\" y=\"16px\">relationship</text></svg><svg width=\"100%\" x=\"0%\" y=\"48px\"><defs /><svg width=\"100%\" x=\"0\" y=\"0px\"><defs /><text text-anchor=\"middle\" x=\"50%\" y=\"16px\">NN</text></svg></svg><line stroke=\"black\" x1=\"50%\" x2=\"50%\" y1=\"20px\" y2=\"48px\" /></svg><line stroke=\"black\" x1=\"50%\" x2=\"66.0594%\" y1=\"20px\" y2=\"48px\" /><svg width=\"0.607287%\" x=\"66.5317%\" y=\"48px\"><defs /><svg width=\"100%\" x=\"0\" y=\"0px\"><defs /><text text-anchor=\"middle\" x=\"50%\" y=\"16px\">between</text></svg><svg width=\"100%\" x=\"0%\" y=\"48px\"><defs /><svg width=\"100%\" x=\"0\" y=\"0px\"><defs /><text text-anchor=\"middle\" x=\"50%\" y=\"16px\">IN</text></svg></svg><line stroke=\"black\" x1=\"50%\" x2=\"50%\" y1=\"20px\" y2=\"48px\" /></svg><line stroke=\"black\" x1=\"50%\" x2=\"66.8354%\" y1=\"20px\" y2=\"48px\" /><svg width=\"0.539811%\" x=\"67.139%\" y=\"48px\"><defs /><svg width=\"100%\" x=\"0\" y=\"0px\"><defs /><text text-anchor=\"middle\" x=\"50%\" y=\"16px\">humans</text></svg><svg width=\"100%\" x=\"0%\" y=\"48px\"><defs /><svg width=\"100%\" x=\"0\" y=\"0px\"><defs /><text text-anchor=\"middle\" x=\"50%\" y=\"16px\">NNS</text></svg></svg><line stroke=\"black\" x1=\"50%\" x2=\"50%\" y1=\"20px\" y2=\"48px\" /></svg><line stroke=\"black\" x1=\"50%\" x2=\"67.4089%\" y1=\"20px\" y2=\"48px\" /><svg width=\"0.337382%\" x=\"67.6788%\" y=\"48px\"><defs /><svg width=\"100%\" x=\"0\" y=\"0px\"><defs /><text text-anchor=\"middle\" x=\"50%\" y=\"16px\">and</text></svg><svg width=\"100%\" x=\"0%\" y=\"48px\"><defs /><svg width=\"100%\" x=\"0\" y=\"0px\"><defs /><text text-anchor=\"middle\" x=\"50%\" y=\"16px\">CC</text></svg></svg><line stroke=\"black\" x1=\"50%\" x2=\"50%\" y1=\"20px\" y2=\"48px\" /></svg><line stroke=\"black\" x1=\"50%\" x2=\"67.8475%\" y1=\"20px\" y2=\"48px\" /><svg width=\"0.809717%\" x=\"68.0162%\" y=\"48px\"><defs /><svg width=\"100%\" x=\"0\" y=\"0px\"><defs /><text text-anchor=\"middle\" x=\"50%\" y=\"16px\">technology</text></svg><svg width=\"100%\" x=\"0%\" y=\"48px\"><defs /><svg width=\"100%\" x=\"0\" y=\"0px\"><defs /><text text-anchor=\"middle\" x=\"50%\" y=\"16px\">NN</text></svg></svg><line stroke=\"black\" x1=\"50%\" x2=\"50%\" y1=\"20px\" y2=\"48px\" /></svg><line stroke=\"black\" x1=\"50%\" x2=\"68.4211%\" y1=\"20px\" y2=\"48px\" /><svg width=\"0.337382%\" x=\"68.8259%\" y=\"48px\"><defs /><svg width=\"100%\" x=\"0\" y=\"0px\"><defs /><text text-anchor=\"middle\" x=\"50%\" y=\"16px\">is</text></svg><svg width=\"100%\" x=\"0%\" y=\"48px\"><defs /><svg width=\"100%\" x=\"0\" y=\"0px\"><defs /><text text-anchor=\"middle\" x=\"50%\" y=\"16px\">VBZ</text></svg></svg><line stroke=\"black\" x1=\"50%\" x2=\"50%\" y1=\"20px\" y2=\"48px\" /></svg><line stroke=\"black\" x1=\"50%\" x2=\"68.9946%\" y1=\"20px\" y2=\"48px\" /><svg width=\"0.404858%\" x=\"69.1633%\" y=\"48px\"><defs /><svg width=\"100%\" x=\"0\" y=\"0px\"><defs /><text text-anchor=\"middle\" x=\"50%\" y=\"16px\">more</text></svg><svg width=\"100%\" x=\"0%\" y=\"48px\"><defs /><svg width=\"100%\" x=\"0\" y=\"0px\"><defs /><text text-anchor=\"middle\" x=\"50%\" y=\"16px\">RBR</text></svg></svg><line stroke=\"black\" x1=\"50%\" x2=\"50%\" y1=\"20px\" y2=\"48px\" /></svg><line stroke=\"black\" x1=\"50%\" x2=\"69.3657%\" y1=\"20px\" y2=\"48px\" /><svg width=\"0.607287%\" x=\"69.5682%\" y=\"48px\"><defs /><svg width=\"100%\" x=\"0\" y=\"0px\"><defs /><text text-anchor=\"middle\" x=\"50%\" y=\"16px\">complex</text></svg><svg width=\"100%\" x=\"0%\" y=\"48px\"><defs /><svg width=\"100%\" x=\"0\" y=\"0px\"><defs /><text text-anchor=\"middle\" x=\"50%\" y=\"16px\">JJ</text></svg></svg><line stroke=\"black\" x1=\"50%\" x2=\"50%\" y1=\"20px\" y2=\"48px\" /></svg><line stroke=\"black\" x1=\"50%\" x2=\"69.8718%\" y1=\"20px\" y2=\"48px\" /><svg width=\"0.337382%\" x=\"70.1754%\" y=\"48px\"><defs /><svg width=\"100%\" x=\"0\" y=\"0px\"><defs /><text text-anchor=\"middle\" x=\"50%\" y=\"16px\">and</text></svg><svg width=\"100%\" x=\"0%\" y=\"48px\"><defs /><svg width=\"100%\" x=\"0\" y=\"0px\"><defs /><text text-anchor=\"middle\" x=\"50%\" y=\"16px\">CC</text></svg></svg><line stroke=\"black\" x1=\"50%\" x2=\"50%\" y1=\"20px\" y2=\"48px\" /></svg><line stroke=\"black\" x1=\"50%\" x2=\"70.3441%\" y1=\"20px\" y2=\"48px\" /><svg width=\"0.472335%\" x=\"70.5128%\" y=\"48px\"><defs /><svg width=\"100%\" x=\"0\" y=\"0px\"><defs /><text text-anchor=\"middle\" x=\"50%\" y=\"16px\">often</text></svg><svg width=\"100%\" x=\"0%\" y=\"48px\"><defs /><svg width=\"100%\" x=\"0\" y=\"0px\"><defs /><text text-anchor=\"middle\" x=\"50%\" y=\"16px\">RB</text></svg></svg><line stroke=\"black\" x1=\"50%\" x2=\"50%\" y1=\"20px\" y2=\"48px\" /></svg><line stroke=\"black\" x1=\"50%\" x2=\"70.749%\" y1=\"20px\" y2=\"48px\" /><svg width=\"0.404858%\" x=\"70.9852%\" y=\"48px\"><defs /><svg width=\"100%\" x=\"0\" y=\"0px\"><defs /><text text-anchor=\"middle\" x=\"50%\" y=\"16px\">less</text></svg><svg width=\"100%\" x=\"0%\" y=\"48px\"><defs /><svg width=\"100%\" x=\"0\" y=\"0px\"><defs /><text text-anchor=\"middle\" x=\"50%\" y=\"16px\">RBR</text></svg></svg><line stroke=\"black\" x1=\"50%\" x2=\"50%\" y1=\"20px\" y2=\"48px\" /></svg><line stroke=\"black\" x1=\"50%\" x2=\"71.1876%\" y1=\"20px\" y2=\"48px\" /><svg width=\"0.74224%\" x=\"71.39%\" y=\"48px\"><defs /><svg width=\"100%\" x=\"0\" y=\"0px\"><defs /><text text-anchor=\"middle\" x=\"50%\" y=\"16px\">symbiotic</text></svg><svg width=\"100%\" x=\"0%\" y=\"48px\"><defs /><svg width=\"100%\" x=\"0\" y=\"0px\"><defs /><text text-anchor=\"middle\" x=\"50%\" y=\"16px\">JJ</text></svg></svg><line stroke=\"black\" x1=\"50%\" x2=\"50%\" y1=\"20px\" y2=\"48px\" /></svg><line stroke=\"black\" x1=\"50%\" x2=\"71.7611%\" y1=\"20px\" y2=\"48px\" /><svg width=\"0.202429%\" x=\"72.1323%\" y=\"48px\"><defs /><svg width=\"100%\" x=\"0\" y=\"0px\"><defs /><text text-anchor=\"middle\" x=\"50%\" y=\"16px\">.</text></svg><svg width=\"100%\" x=\"0%\" y=\"48px\"><defs /><svg width=\"100%\" x=\"0\" y=\"0px\"><defs /><text text-anchor=\"middle\" x=\"50%\" y=\"16px\">.</text></svg></svg><line stroke=\"black\" x1=\"50%\" x2=\"50%\" y1=\"20px\" y2=\"48px\" /></svg><line stroke=\"black\" x1=\"50%\" x2=\"72.2335%\" y1=\"20px\" y2=\"48px\" /><svg width=\"0.269906%\" x=\"72.3347%\" y=\"48px\"><defs /><svg width=\"100%\" x=\"0\" y=\"0px\"><defs /><text text-anchor=\"middle\" x=\"50%\" y=\"16px\">In</text></svg><svg width=\"100%\" x=\"0%\" y=\"48px\"><defs /><svg width=\"100%\" x=\"0\" y=\"0px\"><defs /><text text-anchor=\"middle\" x=\"50%\" y=\"16px\">IN</text></svg></svg><line stroke=\"black\" x1=\"50%\" x2=\"50%\" y1=\"20px\" y2=\"48px\" /></svg><line stroke=\"black\" x1=\"50%\" x2=\"72.4696%\" y1=\"20px\" y2=\"48px\" /><svg width=\"0.472335%\" x=\"72.6046%\" y=\"48px\"><defs /><svg width=\"100%\" x=\"0\" y=\"0px\"><defs /><text text-anchor=\"middle\" x=\"50%\" y=\"16px\">these</text></svg><svg width=\"100%\" x=\"0%\" y=\"48px\"><defs /><svg width=\"100%\" x=\"0\" y=\"0px\"><defs /><text text-anchor=\"middle\" x=\"50%\" y=\"16px\">DT</text></svg></svg><line stroke=\"black\" x1=\"50%\" x2=\"50%\" y1=\"20px\" y2=\"48px\" /></svg><line stroke=\"black\" x1=\"50%\" x2=\"72.8408%\" y1=\"20px\" y2=\"48px\" /><svg width=\"0.607287%\" x=\"73.0769%\" y=\"48px\"><defs /><svg width=\"100%\" x=\"0\" y=\"0px\"><defs /><text text-anchor=\"middle\" x=\"50%\" y=\"16px\">domains</text></svg><svg width=\"100%\" x=\"0%\" y=\"48px\"><defs /><svg width=\"100%\" x=\"0\" y=\"0px\"><defs /><text text-anchor=\"middle\" x=\"50%\" y=\"16px\">NNS</text></svg></svg><line stroke=\"black\" x1=\"50%\" x2=\"50%\" y1=\"20px\" y2=\"48px\" /></svg><line stroke=\"black\" x1=\"50%\" x2=\"73.3806%\" y1=\"20px\" y2=\"48px\" /><svg width=\"0.202429%\" x=\"73.6842%\" y=\"48px\"><defs /><svg width=\"100%\" x=\"0\" y=\"0px\"><defs /><text text-anchor=\"middle\" x=\"50%\" y=\"16px\">,</text></svg><svg width=\"100%\" x=\"0%\" y=\"48px\"><defs /><svg width=\"100%\" x=\"0\" y=\"0px\"><defs /><text text-anchor=\"middle\" x=\"50%\" y=\"16px\">,</text></svg></svg><line stroke=\"black\" x1=\"50%\" x2=\"50%\" y1=\"20px\" y2=\"48px\" /></svg><line stroke=\"black\" x1=\"50%\" x2=\"73.7854%\" y1=\"20px\" y2=\"48px\" /><svg width=\"0.809717%\" x=\"73.8866%\" y=\"48px\"><defs /><svg width=\"100%\" x=\"0\" y=\"0px\"><defs /><text text-anchor=\"middle\" x=\"50%\" y=\"16px\">technology</text></svg><svg width=\"100%\" x=\"0%\" y=\"48px\"><defs /><svg width=\"100%\" x=\"0\" y=\"0px\"><defs /><text text-anchor=\"middle\" x=\"50%\" y=\"16px\">NN</text></svg></svg><line stroke=\"black\" x1=\"50%\" x2=\"50%\" y1=\"20px\" y2=\"48px\" /></svg><line stroke=\"black\" x1=\"50%\" x2=\"74.2915%\" y1=\"20px\" y2=\"48px\" /><svg width=\"0.337382%\" x=\"74.6964%\" y=\"48px\"><defs /><svg width=\"100%\" x=\"0\" y=\"0px\"><defs /><text text-anchor=\"middle\" x=\"50%\" y=\"16px\">can</text></svg><svg width=\"100%\" x=\"0%\" y=\"48px\"><defs /><svg width=\"100%\" x=\"0\" y=\"0px\"><defs /><text text-anchor=\"middle\" x=\"50%\" y=\"16px\">MD</text></svg></svg><line stroke=\"black\" x1=\"50%\" x2=\"50%\" y1=\"20px\" y2=\"48px\" /></svg><line stroke=\"black\" x1=\"50%\" x2=\"74.865%\" y1=\"20px\" y2=\"48px\" /><svg width=\"0.74224%\" x=\"75.0337%\" y=\"48px\"><defs /><svg width=\"100%\" x=\"0\" y=\"0px\"><defs /><text text-anchor=\"middle\" x=\"50%\" y=\"16px\">sometimes</text></svg><svg width=\"100%\" x=\"0%\" y=\"48px\"><defs /><svg width=\"100%\" x=\"0\" y=\"0px\"><defs /><text text-anchor=\"middle\" x=\"50%\" y=\"16px\">RB</text></svg></svg><line stroke=\"black\" x1=\"50%\" x2=\"50%\" y1=\"20px\" y2=\"48px\" /></svg><line stroke=\"black\" x1=\"50%\" x2=\"75.4049%\" y1=\"20px\" y2=\"48px\" /><svg width=\"0.269906%\" x=\"75.776%\" y=\"48px\"><defs /><svg width=\"100%\" x=\"0\" y=\"0px\"><defs /><text text-anchor=\"middle\" x=\"50%\" y=\"16px\">be</text></svg><svg width=\"100%\" x=\"0%\" y=\"48px\"><defs /><svg width=\"100%\" x=\"0\" y=\"0px\"><defs /><text text-anchor=\"middle\" x=\"50%\" y=\"16px\">VB</text></svg></svg><line stroke=\"black\" x1=\"50%\" x2=\"50%\" y1=\"20px\" y2=\"48px\" /></svg><line stroke=\"black\" x1=\"50%\" x2=\"75.9109%\" y1=\"20px\" y2=\"48px\" /><svg width=\"0.404858%\" x=\"76.0459%\" y=\"48px\"><defs /><svg width=\"100%\" x=\"0\" y=\"0px\"><defs /><text text-anchor=\"middle\" x=\"50%\" y=\"16px\">seen</text></svg><svg width=\"100%\" x=\"0%\" y=\"48px\"><defs /><svg width=\"100%\" x=\"0\" y=\"0px\"><defs /><text text-anchor=\"middle\" x=\"50%\" y=\"16px\">VBN</text></svg></svg><line stroke=\"black\" x1=\"50%\" x2=\"50%\" y1=\"20px\" y2=\"48px\" /></svg><line stroke=\"black\" x1=\"50%\" x2=\"76.2483%\" y1=\"20px\" y2=\"48px\" /><svg width=\"0.269906%\" x=\"76.4507%\" y=\"48px\"><defs /><svg width=\"100%\" x=\"0\" y=\"0px\"><defs /><text text-anchor=\"middle\" x=\"50%\" y=\"16px\">as</text></svg><svg width=\"100%\" x=\"0%\" y=\"48px\"><defs /><svg width=\"100%\" x=\"0\" y=\"0px\"><defs /><text text-anchor=\"middle\" x=\"50%\" y=\"16px\">IN</text></svg></svg><line stroke=\"black\" x1=\"50%\" x2=\"50%\" y1=\"20px\" y2=\"48px\" /></svg><line stroke=\"black\" x1=\"50%\" x2=\"76.5857%\" y1=\"20px\" y2=\"48px\" /><svg width=\"0.269906%\" x=\"76.7206%\" y=\"48px\"><defs /><svg width=\"100%\" x=\"0\" y=\"0px\"><defs /><text text-anchor=\"middle\" x=\"50%\" y=\"16px\">a</text></svg><svg width=\"100%\" x=\"0%\" y=\"48px\"><defs /><svg width=\"100%\" x=\"0\" y=\"0px\"><defs /><text text-anchor=\"middle\" x=\"50%\" y=\"16px\">DT</text></svg></svg><line stroke=\"black\" x1=\"50%\" x2=\"50%\" y1=\"20px\" y2=\"48px\" /></svg><line stroke=\"black\" x1=\"50%\" x2=\"76.8556%\" y1=\"20px\" y2=\"48px\" /><svg width=\"0.877193%\" x=\"76.9906%\" y=\"48px\"><defs /><svg width=\"100%\" x=\"0\" y=\"0px\"><defs /><text text-anchor=\"middle\" x=\"50%\" y=\"16px\">distraction</text></svg><svg width=\"100%\" x=\"0%\" y=\"48px\"><defs /><svg width=\"100%\" x=\"0\" y=\"0px\"><defs /><text text-anchor=\"middle\" x=\"50%\" y=\"16px\">NN</text></svg></svg><line stroke=\"black\" x1=\"50%\" x2=\"50%\" y1=\"20px\" y2=\"48px\" /></svg><line stroke=\"black\" x1=\"50%\" x2=\"77.4291%\" y1=\"20px\" y2=\"48px\" /><svg width=\"0.269906%\" x=\"77.8677%\" y=\"48px\"><defs /><svg width=\"100%\" x=\"0\" y=\"0px\"><defs /><text text-anchor=\"middle\" x=\"50%\" y=\"16px\">or</text></svg><svg width=\"100%\" x=\"0%\" y=\"48px\"><defs /><svg width=\"100%\" x=\"0\" y=\"0px\"><defs /><text text-anchor=\"middle\" x=\"50%\" y=\"16px\">CC</text></svg></svg><line stroke=\"black\" x1=\"50%\" x2=\"50%\" y1=\"20px\" y2=\"48px\" /></svg><line stroke=\"black\" x1=\"50%\" x2=\"78.0027%\" y1=\"20px\" y2=\"48px\" /><svg width=\"0.404858%\" x=\"78.1377%\" y=\"48px\"><defs /><svg width=\"100%\" x=\"0\" y=\"0px\"><defs /><text text-anchor=\"middle\" x=\"50%\" y=\"16px\">even</text></svg><svg width=\"100%\" x=\"0%\" y=\"48px\"><defs /><svg width=\"100%\" x=\"0\" y=\"0px\"><defs /><text text-anchor=\"middle\" x=\"50%\" y=\"16px\">RB</text></svg></svg><line stroke=\"black\" x1=\"50%\" x2=\"50%\" y1=\"20px\" y2=\"48px\" /></svg><line stroke=\"black\" x1=\"50%\" x2=\"78.3401%\" y1=\"20px\" y2=\"48px\" /><svg width=\"0.269906%\" x=\"78.5425%\" y=\"48px\"><defs /><svg width=\"100%\" x=\"0\" y=\"0px\"><defs /><text text-anchor=\"middle\" x=\"50%\" y=\"16px\">a</text></svg><svg width=\"100%\" x=\"0%\" y=\"48px\"><defs /><svg width=\"100%\" x=\"0\" y=\"0px\"><defs /><text text-anchor=\"middle\" x=\"50%\" y=\"16px\">DT</text></svg></svg><line stroke=\"black\" x1=\"50%\" x2=\"50%\" y1=\"20px\" y2=\"48px\" /></svg><line stroke=\"black\" x1=\"50%\" x2=\"78.6775%\" y1=\"20px\" y2=\"48px\" /><svg width=\"0.74224%\" x=\"78.8124%\" y=\"48px\"><defs /><svg width=\"100%\" x=\"0\" y=\"0px\"><defs /><text text-anchor=\"middle\" x=\"50%\" y=\"16px\">hindrance</text></svg><svg width=\"100%\" x=\"0%\" y=\"48px\"><defs /><svg width=\"100%\" x=\"0\" y=\"0px\"><defs /><text text-anchor=\"middle\" x=\"50%\" y=\"16px\">NN</text></svg></svg><line stroke=\"black\" x1=\"50%\" x2=\"50%\" y1=\"20px\" y2=\"48px\" /></svg><line stroke=\"black\" x1=\"50%\" x2=\"79.1835%\" y1=\"20px\" y2=\"48px\" /><svg width=\"0.269906%\" x=\"79.5547%\" y=\"48px\"><defs /><svg width=\"100%\" x=\"0\" y=\"0px\"><defs /><text text-anchor=\"middle\" x=\"50%\" y=\"16px\">to</text></svg><svg width=\"100%\" x=\"0%\" y=\"48px\"><defs /><svg width=\"100%\" x=\"0\" y=\"0px\"><defs /><text text-anchor=\"middle\" x=\"50%\" y=\"16px\">TO</text></svg></svg><line stroke=\"black\" x1=\"50%\" x2=\"50%\" y1=\"20px\" y2=\"48px\" /></svg><line stroke=\"black\" x1=\"50%\" x2=\"79.6896%\" y1=\"20px\" y2=\"48px\" /><svg width=\"0.472335%\" x=\"79.8246%\" y=\"48px\"><defs /><svg width=\"100%\" x=\"0\" y=\"0px\"><defs /><text text-anchor=\"middle\" x=\"50%\" y=\"16px\">human</text></svg><svg width=\"100%\" x=\"0%\" y=\"48px\"><defs /><svg width=\"100%\" x=\"0\" y=\"0px\"><defs /><text text-anchor=\"middle\" x=\"50%\" y=\"16px\">JJ</text></svg></svg><line stroke=\"black\" x1=\"50%\" x2=\"50%\" y1=\"20px\" y2=\"48px\" /></svg><line stroke=\"black\" x1=\"50%\" x2=\"80.0607%\" y1=\"20px\" y2=\"48px\" /><svg width=\"0.674764%\" x=\"80.2969%\" y=\"48px\"><defs /><svg width=\"100%\" x=\"0\" y=\"0px\"><defs /><text text-anchor=\"middle\" x=\"50%\" y=\"16px\">activity</text></svg><svg width=\"100%\" x=\"0%\" y=\"48px\"><defs /><svg width=\"100%\" x=\"0\" y=\"0px\"><defs /><text text-anchor=\"middle\" x=\"50%\" y=\"16px\">NN</text></svg></svg><line stroke=\"black\" x1=\"50%\" x2=\"50%\" y1=\"20px\" y2=\"48px\" /></svg><line stroke=\"black\" x1=\"50%\" x2=\"80.6343%\" y1=\"20px\" y2=\"48px\" /><svg width=\"0.202429%\" x=\"80.9717%\" y=\"48px\"><defs /><svg width=\"100%\" x=\"0\" y=\"0px\"><defs /><text text-anchor=\"middle\" x=\"50%\" y=\"16px\">,</text></svg><svg width=\"100%\" x=\"0%\" y=\"48px\"><defs /><svg width=\"100%\" x=\"0\" y=\"0px\"><defs /><text text-anchor=\"middle\" x=\"50%\" y=\"16px\">,</text></svg></svg><line stroke=\"black\" x1=\"50%\" x2=\"50%\" y1=\"20px\" y2=\"48px\" /></svg><line stroke=\"black\" x1=\"50%\" x2=\"81.0729%\" y1=\"20px\" y2=\"48px\" /><svg width=\"0.539811%\" x=\"81.1741%\" y=\"48px\"><defs /><svg width=\"100%\" x=\"0\" y=\"0px\"><defs /><text text-anchor=\"middle\" x=\"50%\" y=\"16px\">rather</text></svg><svg width=\"100%\" x=\"0%\" y=\"48px\"><defs /><svg width=\"100%\" x=\"0\" y=\"0px\"><defs /><text text-anchor=\"middle\" x=\"50%\" y=\"16px\">RB</text></svg></svg><line stroke=\"black\" x1=\"50%\" x2=\"50%\" y1=\"20px\" y2=\"48px\" /></svg><line stroke=\"black\" x1=\"50%\" x2=\"81.444%\" y1=\"20px\" y2=\"48px\" /><svg width=\"0.404858%\" x=\"81.7139%\" y=\"48px\"><defs /><svg width=\"100%\" x=\"0\" y=\"0px\"><defs /><text text-anchor=\"middle\" x=\"50%\" y=\"16px\">than</text></svg><svg width=\"100%\" x=\"0%\" y=\"48px\"><defs /><svg width=\"100%\" x=\"0\" y=\"0px\"><defs /><text text-anchor=\"middle\" x=\"50%\" y=\"16px\">IN</text></svg></svg><line stroke=\"black\" x1=\"50%\" x2=\"50%\" y1=\"20px\" y2=\"48px\" /></svg><line stroke=\"black\" x1=\"50%\" x2=\"81.9163%\" y1=\"20px\" y2=\"48px\" /><svg width=\"0.269906%\" x=\"82.1188%\" y=\"48px\"><defs /><svg width=\"100%\" x=\"0\" y=\"0px\"><defs /><text text-anchor=\"middle\" x=\"50%\" y=\"16px\">a</text></svg><svg width=\"100%\" x=\"0%\" y=\"48px\"><defs /><svg width=\"100%\" x=\"0\" y=\"0px\"><defs /><text text-anchor=\"middle\" x=\"50%\" y=\"16px\">DT</text></svg></svg><line stroke=\"black\" x1=\"50%\" x2=\"50%\" y1=\"20px\" y2=\"48px\" /></svg><line stroke=\"black\" x1=\"50%\" x2=\"82.2537%\" y1=\"20px\" y2=\"48px\" /><svg width=\"0.607287%\" x=\"82.3887%\" y=\"48px\"><defs /><svg width=\"100%\" x=\"0\" y=\"0px\"><defs /><text text-anchor=\"middle\" x=\"50%\" y=\"16px\">support</text></svg><svg width=\"100%\" x=\"0%\" y=\"48px\"><defs /><svg width=\"100%\" x=\"0\" y=\"0px\"><defs /><text text-anchor=\"middle\" x=\"50%\" y=\"16px\">NN</text></svg></svg><line stroke=\"black\" x1=\"50%\" x2=\"50%\" y1=\"20px\" y2=\"48px\" /></svg><line stroke=\"black\" x1=\"50%\" x2=\"82.6923%\" y1=\"20px\" y2=\"48px\" /><svg width=\"0.202429%\" x=\"82.996%\" y=\"48px\"><defs /><svg width=\"100%\" x=\"0\" y=\"0px\"><defs /><text text-anchor=\"middle\" x=\"50%\" y=\"16px\">.</text></svg><svg width=\"100%\" x=\"0%\" y=\"48px\"><defs /><svg width=\"100%\" x=\"0\" y=\"0px\"><defs /><text text-anchor=\"middle\" x=\"50%\" y=\"16px\">.</text></svg></svg><line stroke=\"black\" x1=\"50%\" x2=\"50%\" y1=\"20px\" y2=\"48px\" /></svg><line stroke=\"black\" x1=\"50%\" x2=\"83.0972%\" y1=\"20px\" y2=\"48px\" /><svg width=\"0.607287%\" x=\"83.1984%\" y=\"48px\"><defs /><svg width=\"100%\" x=\"0\" y=\"0px\"><defs /><text text-anchor=\"middle\" x=\"50%\" y=\"16px\">Overall</text></svg><svg width=\"100%\" x=\"0%\" y=\"48px\"><defs /><svg width=\"100%\" x=\"0\" y=\"0px\"><defs /><text text-anchor=\"middle\" x=\"50%\" y=\"16px\">JJ</text></svg></svg><line stroke=\"black\" x1=\"50%\" x2=\"50%\" y1=\"20px\" y2=\"48px\" /></svg><line stroke=\"black\" x1=\"50%\" x2=\"83.502%\" y1=\"20px\" y2=\"48px\" /><svg width=\"0.202429%\" x=\"83.8057%\" y=\"48px\"><defs /><svg width=\"100%\" x=\"0\" y=\"0px\"><defs /><text text-anchor=\"middle\" x=\"50%\" y=\"16px\">,</text></svg><svg width=\"100%\" x=\"0%\" y=\"48px\"><defs /><svg width=\"100%\" x=\"0\" y=\"0px\"><defs /><text text-anchor=\"middle\" x=\"50%\" y=\"16px\">,</text></svg></svg><line stroke=\"black\" x1=\"50%\" x2=\"50%\" y1=\"20px\" y2=\"48px\" /></svg><line stroke=\"black\" x1=\"50%\" x2=\"83.9069%\" y1=\"20px\" y2=\"48px\" /><svg width=\"0.472335%\" x=\"84.0081%\" y=\"48px\"><defs /><svg width=\"100%\" x=\"0\" y=\"0px\"><defs /><text text-anchor=\"middle\" x=\"50%\" y=\"16px\">while</text></svg><svg width=\"100%\" x=\"0%\" y=\"48px\"><defs /><svg width=\"100%\" x=\"0\" y=\"0px\"><defs /><text text-anchor=\"middle\" x=\"50%\" y=\"16px\">IN</text></svg></svg><line stroke=\"black\" x1=\"50%\" x2=\"50%\" y1=\"20px\" y2=\"48px\" /></svg><line stroke=\"black\" x1=\"50%\" x2=\"84.2443%\" y1=\"20px\" y2=\"48px\" /><svg width=\"0.337382%\" x=\"84.4804%\" y=\"48px\"><defs /><svg width=\"100%\" x=\"0\" y=\"0px\"><defs /><text text-anchor=\"middle\" x=\"50%\" y=\"16px\">the</text></svg><svg width=\"100%\" x=\"0%\" y=\"48px\"><defs /><svg width=\"100%\" x=\"0\" y=\"0px\"><defs /><text text-anchor=\"middle\" x=\"50%\" y=\"16px\">DT</text></svg></svg><line stroke=\"black\" x1=\"50%\" x2=\"50%\" y1=\"20px\" y2=\"48px\" /></svg><line stroke=\"black\" x1=\"50%\" x2=\"84.6491%\" y1=\"20px\" y2=\"48px\" /><svg width=\"0.944669%\" x=\"84.8178%\" y=\"48px\"><defs /><svg width=\"100%\" x=\"0\" y=\"0px\"><defs /><text text-anchor=\"middle\" x=\"50%\" y=\"16px\">relationship</text></svg><svg width=\"100%\" x=\"0%\" y=\"48px\"><defs /><svg width=\"100%\" x=\"0\" y=\"0px\"><defs /><text text-anchor=\"middle\" x=\"50%\" y=\"16px\">NN</text></svg></svg><line stroke=\"black\" x1=\"50%\" x2=\"50%\" y1=\"20px\" y2=\"48px\" /></svg><line stroke=\"black\" x1=\"50%\" x2=\"85.2901%\" y1=\"20px\" y2=\"48px\" /><svg width=\"0.607287%\" x=\"85.7625%\" y=\"48px\"><defs /><svg width=\"100%\" x=\"0\" y=\"0px\"><defs /><text text-anchor=\"middle\" x=\"50%\" y=\"16px\">between</text></svg><svg width=\"100%\" x=\"0%\" y=\"48px\"><defs /><svg width=\"100%\" x=\"0\" y=\"0px\"><defs /><text text-anchor=\"middle\" x=\"50%\" y=\"16px\">IN</text></svg></svg><line stroke=\"black\" x1=\"50%\" x2=\"50%\" y1=\"20px\" y2=\"48px\" /></svg><line stroke=\"black\" x1=\"50%\" x2=\"86.0661%\" y1=\"20px\" y2=\"48px\" /><svg width=\"0.539811%\" x=\"86.3698%\" y=\"48px\"><defs /><svg width=\"100%\" x=\"0\" y=\"0px\"><defs /><text text-anchor=\"middle\" x=\"50%\" y=\"16px\">humans</text></svg><svg width=\"100%\" x=\"0%\" y=\"48px\"><defs /><svg width=\"100%\" x=\"0\" y=\"0px\"><defs /><text text-anchor=\"middle\" x=\"50%\" y=\"16px\">NNS</text></svg></svg><line stroke=\"black\" x1=\"50%\" x2=\"50%\" y1=\"20px\" y2=\"48px\" /></svg><line stroke=\"black\" x1=\"50%\" x2=\"86.6397%\" y1=\"20px\" y2=\"48px\" /><svg width=\"0.337382%\" x=\"86.9096%\" y=\"48px\"><defs /><svg width=\"100%\" x=\"0\" y=\"0px\"><defs /><text text-anchor=\"middle\" x=\"50%\" y=\"16px\">and</text></svg><svg width=\"100%\" x=\"0%\" y=\"48px\"><defs /><svg width=\"100%\" x=\"0\" y=\"0px\"><defs /><text text-anchor=\"middle\" x=\"50%\" y=\"16px\">CC</text></svg></svg><line stroke=\"black\" x1=\"50%\" x2=\"50%\" y1=\"20px\" y2=\"48px\" /></svg><line stroke=\"black\" x1=\"50%\" x2=\"87.0783%\" y1=\"20px\" y2=\"48px\" /><svg width=\"0.809717%\" x=\"87.247%\" y=\"48px\"><defs /><svg width=\"100%\" x=\"0\" y=\"0px\"><defs /><text text-anchor=\"middle\" x=\"50%\" y=\"16px\">technology</text></svg><svg width=\"100%\" x=\"0%\" y=\"48px\"><defs /><svg width=\"100%\" x=\"0\" y=\"0px\"><defs /><text text-anchor=\"middle\" x=\"50%\" y=\"16px\">NN</text></svg></svg><line stroke=\"black\" x1=\"50%\" x2=\"50%\" y1=\"20px\" y2=\"48px\" /></svg><line stroke=\"black\" x1=\"50%\" x2=\"87.6518%\" y1=\"20px\" y2=\"48px\" /><svg width=\"0.337382%\" x=\"88.0567%\" y=\"48px\"><defs /><svg width=\"100%\" x=\"0\" y=\"0px\"><defs /><text text-anchor=\"middle\" x=\"50%\" y=\"16px\">is</text></svg><svg width=\"100%\" x=\"0%\" y=\"48px\"><defs /><svg width=\"100%\" x=\"0\" y=\"0px\"><defs /><text text-anchor=\"middle\" x=\"50%\" y=\"16px\">VBZ</text></svg></svg><line stroke=\"black\" x1=\"50%\" x2=\"50%\" y1=\"20px\" y2=\"48px\" /></svg><line stroke=\"black\" x1=\"50%\" x2=\"88.2254%\" y1=\"20px\" y2=\"48px\" /><svg width=\"0.877193%\" x=\"88.3941%\" y=\"48px\"><defs /><svg width=\"100%\" x=\"0\" y=\"0px\"><defs /><text text-anchor=\"middle\" x=\"50%\" y=\"16px\">undoubtedly</text></svg><svg width=\"100%\" x=\"0%\" y=\"48px\"><defs /><svg width=\"100%\" x=\"0\" y=\"0px\"><defs /><text text-anchor=\"middle\" x=\"50%\" y=\"16px\">RB</text></svg></svg><line stroke=\"black\" x1=\"50%\" x2=\"50%\" y1=\"20px\" y2=\"48px\" /></svg><line stroke=\"black\" x1=\"50%\" x2=\"88.8327%\" y1=\"20px\" y2=\"48px\" /><svg width=\"0.674764%\" x=\"89.2713%\" y=\"48px\"><defs /><svg width=\"100%\" x=\"0\" y=\"0px\"><defs /><text text-anchor=\"middle\" x=\"50%\" y=\"16px\">becoming</text></svg><svg width=\"100%\" x=\"0%\" y=\"48px\"><defs /><svg width=\"100%\" x=\"0\" y=\"0px\"><defs /><text text-anchor=\"middle\" x=\"50%\" y=\"16px\">VBG</text></svg></svg><line stroke=\"black\" x1=\"50%\" x2=\"50%\" y1=\"20px\" y2=\"48px\" /></svg><line stroke=\"black\" x1=\"50%\" x2=\"89.6086%\" y1=\"20px\" y2=\"48px\" /><svg width=\"0.404858%\" x=\"89.946%\" y=\"48px\"><defs /><svg width=\"100%\" x=\"0\" y=\"0px\"><defs /><text text-anchor=\"middle\" x=\"50%\" y=\"16px\">more</text></svg><svg width=\"100%\" x=\"0%\" y=\"48px\"><defs /><svg width=\"100%\" x=\"0\" y=\"0px\"><defs /><text text-anchor=\"middle\" x=\"50%\" y=\"16px\">RBR</text></svg></svg><line stroke=\"black\" x1=\"50%\" x2=\"50%\" y1=\"20px\" y2=\"48px\" /></svg><line stroke=\"black\" x1=\"50%\" x2=\"90.1484%\" y1=\"20px\" y2=\"48px\" /><svg width=\"0.877193%\" x=\"90.3509%\" y=\"48px\"><defs /><svg width=\"100%\" x=\"0\" y=\"0px\"><defs /><text text-anchor=\"middle\" x=\"50%\" y=\"16px\">intertwined</text></svg><svg width=\"100%\" x=\"0%\" y=\"48px\"><defs /><svg width=\"100%\" x=\"0\" y=\"0px\"><defs /><text text-anchor=\"middle\" x=\"50%\" y=\"16px\">JJ</text></svg></svg><line stroke=\"black\" x1=\"50%\" x2=\"50%\" y1=\"20px\" y2=\"48px\" /></svg><line stroke=\"black\" x1=\"50%\" x2=\"90.7895%\" y1=\"20px\" y2=\"48px\" /><svg width=\"0.202429%\" x=\"91.2281%\" y=\"48px\"><defs /><svg width=\"100%\" x=\"0\" y=\"0px\"><defs /><text text-anchor=\"middle\" x=\"50%\" y=\"16px\">,</text></svg><svg width=\"100%\" x=\"0%\" y=\"48px\"><defs /><svg width=\"100%\" x=\"0\" y=\"0px\"><defs /><text text-anchor=\"middle\" x=\"50%\" y=\"16px\">,</text></svg></svg><line stroke=\"black\" x1=\"50%\" x2=\"50%\" y1=\"20px\" y2=\"48px\" /></svg><line stroke=\"black\" x1=\"50%\" x2=\"91.3293%\" y1=\"20px\" y2=\"48px\" /><svg width=\"0.337382%\" x=\"91.4305%\" y=\"48px\"><defs /><svg width=\"100%\" x=\"0\" y=\"0px\"><defs /><text text-anchor=\"middle\" x=\"50%\" y=\"16px\">it</text></svg><svg width=\"100%\" x=\"0%\" y=\"48px\"><defs /><svg width=\"100%\" x=\"0\" y=\"0px\"><defs /><text text-anchor=\"middle\" x=\"50%\" y=\"16px\">PRP</text></svg></svg><line stroke=\"black\" x1=\"50%\" x2=\"50%\" y1=\"20px\" y2=\"48px\" /></svg><line stroke=\"black\" x1=\"50%\" x2=\"91.5992%\" y1=\"20px\" y2=\"48px\" /><svg width=\"0.337382%\" x=\"91.7679%\" y=\"48px\"><defs /><svg width=\"100%\" x=\"0\" y=\"0px\"><defs /><text text-anchor=\"middle\" x=\"50%\" y=\"16px\">is</text></svg><svg width=\"100%\" x=\"0%\" y=\"48px\"><defs /><svg width=\"100%\" x=\"0\" y=\"0px\"><defs /><text text-anchor=\"middle\" x=\"50%\" y=\"16px\">VBZ</text></svg></svg><line stroke=\"black\" x1=\"50%\" x2=\"50%\" y1=\"20px\" y2=\"48px\" /></svg><line stroke=\"black\" x1=\"50%\" x2=\"91.9366%\" y1=\"20px\" y2=\"48px\" /><svg width=\"0.472335%\" x=\"92.1053%\" y=\"48px\"><defs /><svg width=\"100%\" x=\"0\" y=\"0px\"><defs /><text text-anchor=\"middle\" x=\"50%\" y=\"16px\">still</text></svg><svg width=\"100%\" x=\"0%\" y=\"48px\"><defs /><svg width=\"100%\" x=\"0\" y=\"0px\"><defs /><text text-anchor=\"middle\" x=\"50%\" y=\"16px\">RB</text></svg></svg><line stroke=\"black\" x1=\"50%\" x2=\"50%\" y1=\"20px\" y2=\"48px\" /></svg><line stroke=\"black\" x1=\"50%\" x2=\"92.3414%\" y1=\"20px\" y2=\"48px\" /><svg width=\"0.674764%\" x=\"92.5776%\" y=\"48px\"><defs /><svg width=\"100%\" x=\"0\" y=\"0px\"><defs /><text text-anchor=\"middle\" x=\"50%\" y=\"16px\">evolving</text></svg><svg width=\"100%\" x=\"0%\" y=\"48px\"><defs /><svg width=\"100%\" x=\"0\" y=\"0px\"><defs /><text text-anchor=\"middle\" x=\"50%\" y=\"16px\">VBG</text></svg></svg><line stroke=\"black\" x1=\"50%\" x2=\"50%\" y1=\"20px\" y2=\"48px\" /></svg><line stroke=\"black\" x1=\"50%\" x2=\"92.915%\" y1=\"20px\" y2=\"48px\" /><svg width=\"0.337382%\" x=\"93.2524%\" y=\"48px\"><defs /><svg width=\"100%\" x=\"0\" y=\"0px\"><defs /><text text-anchor=\"middle\" x=\"50%\" y=\"16px\">and</text></svg><svg width=\"100%\" x=\"0%\" y=\"48px\"><defs /><svg width=\"100%\" x=\"0\" y=\"0px\"><defs /><text text-anchor=\"middle\" x=\"50%\" y=\"16px\">CC</text></svg></svg><line stroke=\"black\" x1=\"50%\" x2=\"50%\" y1=\"20px\" y2=\"48px\" /></svg><line stroke=\"black\" x1=\"50%\" x2=\"93.4211%\" y1=\"20px\" y2=\"48px\" /><svg width=\"0.337382%\" x=\"93.5897%\" y=\"48px\"><defs /><svg width=\"100%\" x=\"0\" y=\"0px\"><defs /><text text-anchor=\"middle\" x=\"50%\" y=\"16px\">we</text></svg><svg width=\"100%\" x=\"0%\" y=\"48px\"><defs /><svg width=\"100%\" x=\"0\" y=\"0px\"><defs /><text text-anchor=\"middle\" x=\"50%\" y=\"16px\">PRP</text></svg></svg><line stroke=\"black\" x1=\"50%\" x2=\"50%\" y1=\"20px\" y2=\"48px\" /></svg><line stroke=\"black\" x1=\"50%\" x2=\"93.7584%\" y1=\"20px\" y2=\"48px\" /><svg width=\"0.404858%\" x=\"93.9271%\" y=\"48px\"><defs /><svg width=\"100%\" x=\"0\" y=\"0px\"><defs /><text text-anchor=\"middle\" x=\"50%\" y=\"16px\">have</text></svg><svg width=\"100%\" x=\"0%\" y=\"48px\"><defs /><svg width=\"100%\" x=\"0\" y=\"0px\"><defs /><text text-anchor=\"middle\" x=\"50%\" y=\"16px\">VBP</text></svg></svg><line stroke=\"black\" x1=\"50%\" x2=\"50%\" y1=\"20px\" y2=\"48px\" /></svg><line stroke=\"black\" x1=\"50%\" x2=\"94.1296%\" y1=\"20px\" y2=\"48px\" /><svg width=\"0.337382%\" x=\"94.332%\" y=\"48px\"><defs /><svg width=\"100%\" x=\"0\" y=\"0px\"><defs /><text text-anchor=\"middle\" x=\"50%\" y=\"16px\">not</text></svg><svg width=\"100%\" x=\"0%\" y=\"48px\"><defs /><svg width=\"100%\" x=\"0\" y=\"0px\"><defs /><text text-anchor=\"middle\" x=\"50%\" y=\"16px\">RB</text></svg></svg><line stroke=\"black\" x1=\"50%\" x2=\"50%\" y1=\"20px\" y2=\"48px\" /></svg><line stroke=\"black\" x1=\"50%\" x2=\"94.5007%\" y1=\"20px\" y2=\"48px\" /><svg width=\"0.337382%\" x=\"94.6694%\" y=\"48px\"><defs /><svg width=\"100%\" x=\"0\" y=\"0px\"><defs /><text text-anchor=\"middle\" x=\"50%\" y=\"16px\">yet</text></svg><svg width=\"100%\" x=\"0%\" y=\"48px\"><defs /><svg width=\"100%\" x=\"0\" y=\"0px\"><defs /><text text-anchor=\"middle\" x=\"50%\" y=\"16px\">RB</text></svg></svg><line stroke=\"black\" x1=\"50%\" x2=\"50%\" y1=\"20px\" y2=\"48px\" /></svg><line stroke=\"black\" x1=\"50%\" x2=\"94.8381%\" y1=\"20px\" y2=\"48px\" /><svg width=\"0.607287%\" x=\"95.0067%\" y=\"48px\"><defs /><svg width=\"100%\" x=\"0\" y=\"0px\"><defs /><text text-anchor=\"middle\" x=\"50%\" y=\"16px\">reached</text></svg><svg width=\"100%\" x=\"0%\" y=\"48px\"><defs /><svg width=\"100%\" x=\"0\" y=\"0px\"><defs /><text text-anchor=\"middle\" x=\"50%\" y=\"16px\">VBN</text></svg></svg><line stroke=\"black\" x1=\"50%\" x2=\"50%\" y1=\"20px\" y2=\"48px\" /></svg><line stroke=\"black\" x1=\"50%\" x2=\"95.3104%\" y1=\"20px\" y2=\"48px\" /><svg width=\"0.269906%\" x=\"95.614%\" y=\"48px\"><defs /><svg width=\"100%\" x=\"0\" y=\"0px\"><defs /><text text-anchor=\"middle\" x=\"50%\" y=\"16px\">a</text></svg><svg width=\"100%\" x=\"0%\" y=\"48px\"><defs /><svg width=\"100%\" x=\"0\" y=\"0px\"><defs /><text text-anchor=\"middle\" x=\"50%\" y=\"16px\">DT</text></svg></svg><line stroke=\"black\" x1=\"50%\" x2=\"50%\" y1=\"20px\" y2=\"48px\" /></svg><line stroke=\"black\" x1=\"50%\" x2=\"95.749%\" y1=\"20px\" y2=\"48px\" /><svg width=\"0.404858%\" x=\"95.8839%\" y=\"48px\"><defs /><svg width=\"100%\" x=\"0\" y=\"0px\"><defs /><text text-anchor=\"middle\" x=\"50%\" y=\"16px\">full</text></svg><svg width=\"100%\" x=\"0%\" y=\"48px\"><defs /><svg width=\"100%\" x=\"0\" y=\"0px\"><defs /><text text-anchor=\"middle\" x=\"50%\" y=\"16px\">JJ</text></svg></svg><line stroke=\"black\" x1=\"50%\" x2=\"50%\" y1=\"20px\" y2=\"48px\" /></svg><line stroke=\"black\" x1=\"50%\" x2=\"96.0864%\" y1=\"20px\" y2=\"48px\" /><svg width=\"0.472335%\" x=\"96.2888%\" y=\"48px\"><defs /><svg width=\"100%\" x=\"0\" y=\"0px\"><defs /><text text-anchor=\"middle\" x=\"50%\" y=\"16px\">state</text></svg><svg width=\"100%\" x=\"0%\" y=\"48px\"><defs /><svg width=\"100%\" x=\"0\" y=\"0px\"><defs /><text text-anchor=\"middle\" x=\"50%\" y=\"16px\">NN</text></svg></svg><line stroke=\"black\" x1=\"50%\" x2=\"50%\" y1=\"20px\" y2=\"48px\" /></svg><line stroke=\"black\" x1=\"50%\" x2=\"96.525%\" y1=\"20px\" y2=\"48px\" /><svg width=\"0.269906%\" x=\"96.7611%\" y=\"48px\"><defs /><svg width=\"100%\" x=\"0\" y=\"0px\"><defs /><text text-anchor=\"middle\" x=\"50%\" y=\"16px\">of</text></svg><svg width=\"100%\" x=\"0%\" y=\"48px\"><defs /><svg width=\"100%\" x=\"0\" y=\"0px\"><defs /><text text-anchor=\"middle\" x=\"50%\" y=\"16px\">IN</text></svg></svg><line stroke=\"black\" x1=\"50%\" x2=\"50%\" y1=\"20px\" y2=\"48px\" /></svg><line stroke=\"black\" x1=\"50%\" x2=\"96.8961%\" y1=\"20px\" y2=\"48px\" /><svg width=\"0.74224%\" x=\"97.031%\" y=\"48px\"><defs /><svg width=\"100%\" x=\"0\" y=\"0px\"><defs /><text text-anchor=\"middle\" x=\"50%\" y=\"16px\">symbiosis</text></svg><svg width=\"100%\" x=\"0%\" y=\"48px\"><defs /><svg width=\"100%\" x=\"0\" y=\"0px\"><defs /><text text-anchor=\"middle\" x=\"50%\" y=\"16px\">NN</text></svg></svg><line stroke=\"black\" x1=\"50%\" x2=\"50%\" y1=\"20px\" y2=\"48px\" /></svg><line stroke=\"black\" x1=\"50%\" x2=\"97.4022%\" y1=\"20px\" y2=\"48px\" /><svg width=\"0.269906%\" x=\"97.7733%\" y=\"48px\"><defs /><svg width=\"100%\" x=\"0\" y=\"0px\"><defs /><text text-anchor=\"middle\" x=\"50%\" y=\"16px\">in</text></svg><svg width=\"100%\" x=\"0%\" y=\"48px\"><defs /><svg width=\"100%\" x=\"0\" y=\"0px\"><defs /><text text-anchor=\"middle\" x=\"50%\" y=\"16px\">IN</text></svg></svg><line stroke=\"black\" x1=\"50%\" x2=\"50%\" y1=\"20px\" y2=\"48px\" /></svg><line stroke=\"black\" x1=\"50%\" x2=\"97.9082%\" y1=\"20px\" y2=\"48px\" /><svg width=\"0.337382%\" x=\"98.0432%\" y=\"48px\"><defs /><svg width=\"100%\" x=\"0\" y=\"0px\"><defs /><text text-anchor=\"middle\" x=\"50%\" y=\"16px\">all</text></svg><svg width=\"100%\" x=\"0%\" y=\"48px\"><defs /><svg width=\"100%\" x=\"0\" y=\"0px\"><defs /><text text-anchor=\"middle\" x=\"50%\" y=\"16px\">DT</text></svg></svg><line stroke=\"black\" x1=\"50%\" x2=\"50%\" y1=\"20px\" y2=\"48px\" /></svg><line stroke=\"black\" x1=\"50%\" x2=\"98.2119%\" y1=\"20px\" y2=\"48px\" /><svg width=\"0.472335%\" x=\"98.3806%\" y=\"48px\"><defs /><svg width=\"100%\" x=\"0\" y=\"0px\"><defs /><text text-anchor=\"middle\" x=\"50%\" y=\"16px\">areas</text></svg><svg width=\"100%\" x=\"0%\" y=\"48px\"><defs /><svg width=\"100%\" x=\"0\" y=\"0px\"><defs /><text text-anchor=\"middle\" x=\"50%\" y=\"16px\">NNS</text></svg></svg><line stroke=\"black\" x1=\"50%\" x2=\"50%\" y1=\"20px\" y2=\"48px\" /></svg><line stroke=\"black\" x1=\"50%\" x2=\"98.6167%\" y1=\"20px\" y2=\"48px\" /><svg width=\"0.269906%\" x=\"98.8529%\" y=\"48px\"><defs /><svg width=\"100%\" x=\"0\" y=\"0px\"><defs /><text text-anchor=\"middle\" x=\"50%\" y=\"16px\">of</text></svg><svg width=\"100%\" x=\"0%\" y=\"48px\"><defs /><svg width=\"100%\" x=\"0\" y=\"0px\"><defs /><text text-anchor=\"middle\" x=\"50%\" y=\"16px\">IN</text></svg></svg><line stroke=\"black\" x1=\"50%\" x2=\"50%\" y1=\"20px\" y2=\"48px\" /></svg><line stroke=\"black\" x1=\"50%\" x2=\"98.9879%\" y1=\"20px\" y2=\"48px\" /><svg width=\"0.404858%\" x=\"99.1228%\" y=\"48px\"><defs /><svg width=\"100%\" x=\"0\" y=\"0px\"><defs /><text text-anchor=\"middle\" x=\"50%\" y=\"16px\">our</text></svg><svg width=\"100%\" x=\"0%\" y=\"48px\"><defs /><svg width=\"100%\" x=\"0\" y=\"0px\"><defs /><text text-anchor=\"middle\" x=\"50%\" y=\"16px\">PRP$</text></svg></svg><line stroke=\"black\" x1=\"50%\" x2=\"50%\" y1=\"20px\" y2=\"48px\" /></svg><line stroke=\"black\" x1=\"50%\" x2=\"99.3252%\" y1=\"20px\" y2=\"48px\" /><svg width=\"0.472335%\" x=\"99.5277%\" y=\"48px\"><defs /><svg width=\"100%\" x=\"0\" y=\"0px\"><defs /><text text-anchor=\"middle\" x=\"50%\" y=\"16px\">lives</text></svg><svg width=\"100%\" x=\"0%\" y=\"48px\"><defs /><svg width=\"100%\" x=\"0\" y=\"0px\"><defs /><text text-anchor=\"middle\" x=\"50%\" y=\"16px\">NNS</text></svg></svg><line stroke=\"black\" x1=\"50%\" x2=\"50%\" y1=\"20px\" y2=\"48px\" /></svg><line stroke=\"black\" x1=\"50%\" x2=\"99.7638%\" y1=\"20px\" y2=\"48px\" /></svg>"
          },
          "metadata": {}
        }
      ]
    },
    {
      "cell_type": "markdown",
      "source": [
        "Note that NLTK returns strings it found as words, but it also includes ')', ', etc. How are the sentences seperated?"
      ],
      "metadata": {
        "id": "mmJcEpzF74Q0"
      }
    },
    {
      "cell_type": "markdown",
      "source": [
        "### Named Entity Recognition (NER)\n",
        "\n",
        "Now let's try NER using the Spacy package which also has many other linguistic features (see https://spacy.io/usage/linguistic-features for more)"
      ],
      "metadata": {
        "id": "KAtzyNpP7fD2"
      }
    },
    {
      "cell_type": "code",
      "source": [
        "# Load the spacy library and a pre-trained language model for English text\n",
        "\n",
        "import spacy\n",
        "nlp = spacy.load(\"en_core_web_sm\")"
      ],
      "metadata": {
        "id": "BcRHdysv7d7A"
      },
      "execution_count": null,
      "outputs": []
    },
    {
      "cell_type": "code",
      "source": [
        "#Process text\n",
        "doc = nlp(mytext)"
      ],
      "metadata": {
        "id": "eHohvmRY7rMx"
      },
      "execution_count": null,
      "outputs": []
    },
    {
      "cell_type": "code",
      "source": [
        "#Extract entities\n",
        "\n",
        "for entity in doc.ents:\n",
        "    print(f\"Entity: {entity.text}, Label: {entity.label_}\")"
      ],
      "metadata": {
        "id": "ZpQ2SOpZ7vMK",
        "colab": {
          "base_uri": "https://localhost:8080/"
        },
        "outputId": "357f318f-a1cd-4665-e64f-51855529c4c9"
      },
      "execution_count": null,
      "outputs": [
        {
          "output_type": "stream",
          "name": "stdout",
          "text": [
            "Entity: Bazerman, Label: PERSON\n",
            "Entity: two, Label: CARDINAL\n"
          ]
        }
      ]
    },
    {
      "cell_type": "code",
      "source": [
        "# These entities can be visualised\n",
        "\n",
        "import IPython\n",
        "\n",
        "from spacy import displacy\n",
        "ent_render = displacy.render(doc, style=\"ent\")\n",
        "IPython.display.HTML(ent_render)"
      ],
      "metadata": {
        "colab": {
          "base_uri": "https://localhost:8080/",
          "height": 525
        },
        "id": "DXEuaPL08oNT",
        "outputId": "44cc574d-b72c-438e-b0c8-9b935fb0579d"
      },
      "execution_count": null,
      "outputs": [
        {
          "output_type": "display_data",
          "data": {
            "text/plain": [
              "<IPython.core.display.HTML object>"
            ],
            "text/html": [
              "<span class=\"tex2jax_ignore\"><div class=\"entities\" style=\"line-height: 2.5; direction: ltr\">Have we reached (hu)man-machine symbiosis where we do not simply use technology but are enmeshed with technology in “socio-cyborgian activity systems,” as \n",
              "<mark class=\"entity\" style=\"background: #aa9cfc; padding: 0.45em 0.6em; margin: 0 0.25em; line-height: 1; border-radius: 0.35em;\">\n",
              "    Bazerman\n",
              "    <span style=\"font-size: 0.8em; font-weight: bold; line-height: 1; border-radius: 0.35em; vertical-align: middle; margin-left: 0.5rem\">PERSON</span>\n",
              "</mark>\n",
              " notes?<br><br>While we are certainly in an age where technology plays an increasingly important role in our daily lives, we have not yet fully reached a state of human-machine symbiosis. However, there are certainly elements of symbiosis that can be seen in certain domains.<br><br>For example, in some professions such as medicine or aviation, technology plays an integral role in supporting human decision-making and action. In these domains, technology and humans work together to achieve a common goal, and the relationship between the \n",
              "<mark class=\"entity\" style=\"background: #e4e7d2; padding: 0.45em 0.6em; margin: 0 0.25em; line-height: 1; border-radius: 0.35em;\">\n",
              "    two\n",
              "    <span style=\"font-size: 0.8em; font-weight: bold; line-height: 1; border-radius: 0.35em; vertical-align: middle; margin-left: 0.5rem\">CARDINAL</span>\n",
              "</mark>\n",
              " can be seen as a kind of symbiosis.<br><br>However, in other domains such as social media or gaming, the relationship between humans and technology is more complex and often less symbiotic. In these domains, technology can sometimes be seen as a distraction or even a hindrance to human activity, rather than a support.<br><br>Overall, while the relationship between humans and technology is undoubtedly becoming more intertwined, it is still evolving and we have not yet reached a full state of symbiosis in all areas of our lives</div></span>"
            ]
          },
          "metadata": {}
        },
        {
          "output_type": "execute_result",
          "data": {
            "text/plain": [
              "<IPython.core.display.HTML object>"
            ]
          },
          "metadata": {},
          "execution_count": 16
        }
      ]
    },
    {
      "cell_type": "markdown",
      "source": [],
      "metadata": {
        "id": "xnGQqG-k7tmq"
      }
    },
    {
      "cell_type": "markdown",
      "source": [
        "# 3. Regular expressions\n",
        "\n",
        "A **regular expression** (or RE) is used to match strings of text such as particular characters, words, or patterns of characters. These come in quite handy for a number of operations in string manipulation. For instance, we can extract name from an email ID, Title from a name, subject code from a text description, or components of an address.\n",
        "\n",
        "There are commonly used wild card patterns in Python that helps us extract useful information from texts:\n",
        "^\n",
        "\n",
        "This wild card matches the characters at the beginning of a line.\n",
        "\n",
        "$\n",
        "\n",
        "This wild card matches the characters at the end of the line.\n",
        "\n",
        ".\n",
        "\n",
        "This wild card matches any character in the line.\n",
        "\n",
        "s\n",
        "\n",
        "This wild card is used to match space in a string.\n",
        "\n",
        "S\n",
        "\n",
        "This wild card matches non-whitespace characters.\n",
        "\n",
        "d\n",
        "\n",
        "This wild card matches one digit.\n",
        "\n",
        "*\n",
        "\n",
        "This wild card repeats any preceding character zero or more times. It matches the longest possible string.\n",
        "\n",
        "*?\n",
        "\n",
        "This wild card also repeats any preceding character/characters zero or more times. However, it matches the shortest string following the pattern.\n",
        "\n",
        "+\n",
        "\n",
        "This wild card repeats any preceding character one or more times. It matches the longest possible string following the pattern.\n",
        "\n",
        "+?\n",
        "\n",
        "This wild card repeats any preceding character one or more times. However, it matches the shortest possible string following the pattern.\n",
        "\n",
        "[aeiou]\n",
        "\n",
        "It matches any character from a set of given characters.\n",
        "\n",
        "[^XYZ]\n",
        "\n",
        "It matches any character not given in the set.\n",
        "\n",
        " [a-z0-9]\n",
        "\n",
        "It matches any character given in the a-z or 0-9.\n",
        "\n",
        "(\n",
        "\n",
        "This wild card represents the beginning of the string extraction.\n",
        "\n",
        ")\n",
        "\n",
        "This wild card represents the end of the string extraction.\n",
        "\n",
        "\n",
        "Read examples of applications here: https://code.tutsplus.com/tutorials/8-regular-expressions-you-should-know--net-6149, and more examples here: https://developers.google.com/edu/python/regular-expressions"
      ],
      "metadata": {
        "id": "d_BakwfDQ5zL"
      }
    },
    {
      "cell_type": "code",
      "source": [
        "!pip install regex\n",
        "import regex as re\n",
        "\n",
        "test_string = '''\n",
        "36118 Applied Natural Language Processing\n",
        "\n",
        "Subject description\n",
        "This subject introduces you to the complexities of analysing human language data and the use of Natural Language Processing (NLP) and text mining techniques. You'll develop both technical and communicative skills to process and interpret unstructured textual data. Covering core NLP concepts and extraction techniques, the course equips you with … For more content click the Read More button below.\n",
        "\n",
        "Learning outcomes\n",
        "Upon completion of this subject, graduates will be able to:\n",
        "1. Understand core concepts of Natural Language Processing (NLP) and computational linguistics including its limitations (CILO 2.2, 2.3)\n",
        "\n",
        "2.Evaluate complex challenges for problem solving and build practical NLP applications (CILO 2.3, 4.2)\n",
        "\n",
        "3. Apply text mining techniques on unstructured data sets using advanced NLP programming packages (CILOs 1.2, 2.2)\n",
        "\n",
        "4. Interpret, extract value and effectively communicate insights from text analysis and create real-world applications suitable to a range of audiences (CILOs 2.4, 3.2, 4.2)\n",
        "\n",
        "5. Articulate the strengths, weaknesses and underlying assumptions of NLP and text analysis to apply ethical practices (CILO 5.1, 5.2)\n",
        "\n",
        "Learning and teaching activities\n",
        "Blend of online and face to face activities: The subject is offered through a series of teaching sessions which blend online and face-to-face learning. Students learn through interactive lectures and classroom activities making use of the subject materials on canvas. They also engage in individual and collaborative learning activities to … For more content click the Read More button below. Authentic problem based learning: This subject offers a range of authentic data science problems to solve that will help develop students’ text analysis skills. They work on real world data analysis problems for broad areas of interest using unstructured data and contemporary techniques. Collaborative work: Group activities will enable students to leverage peer-learning and demonstrate effective team participation, as well as learning to work in professional teams with an appreciation of diverse perspectives on data science and innovation. Future-oriented strategies: Students will be exposed to contemporary learning models using speculative thinking, ethical and human-centered approaches as well as reflection. Electronic portfolios will be used to curate, consolidate and provide evidence of learning and development of course outcomes, graduate attributes and professional evolution. Formative feedback will be offered with all assessment activities for successful engagement.\n",
        "\n",
        "Authentic problem based learning: This subject offers a range of authentic data science problems to solve that will help develop students’ text analysis skills. They work on real world data analysis problems for broad areas of interest using unstructured data and contemporary techniques.\n",
        "\n",
        "Collaborative work: Group activities will enable students to leverage peer-learning and demonstrate effective team participation, as well as learning to work in professional teams with an appreciation of diverse perspectives on data science and innovation.\n",
        "\n",
        "Future-oriented strategies: Students will be exposed to contemporary learning models using speculative thinking, ethical and human-centered approaches as well as reflection. Electronic portfolios will be used to curate, consolidate and provide evidence of learning and development of course outcomes, graduate attributes and professional evolution. Formative feedback will be offered with all assessment activities for successful engagement.\n",
        "\n",
        "\n",
        "'''\n",
        "print(test_string)\n"
      ],
      "metadata": {
        "id": "pArnx7X5RfGv",
        "colab": {
          "base_uri": "https://localhost:8080/"
        },
        "outputId": "9fba4330-eb56-4403-b475-23796cbb389e"
      },
      "execution_count": null,
      "outputs": [
        {
          "output_type": "stream",
          "name": "stdout",
          "text": [
            "Requirement already satisfied: regex in /usr/local/lib/python3.11/dist-packages (2024.11.6)\n",
            "\n",
            "36118 Applied Natural Language Processing\n",
            "\n",
            "Subject description\n",
            "This subject introduces you to the complexities of analysing human language data and the use of Natural Language Processing (NLP) and text mining techniques. You'll develop both technical and communicative skills to process and interpret unstructured textual data. Covering core NLP concepts and extraction techniques, the course equips you with … For more content click the Read More button below.\n",
            "\n",
            "Learning outcomes\n",
            "Upon completion of this subject, graduates will be able to:\n",
            "1. Understand core concepts of Natural Language Processing (NLP) and computational linguistics including its limitations (CILO 2.2, 2.3)\n",
            "\n",
            "2.Evaluate complex challenges for problem solving and build practical NLP applications (CILO 2.3, 4.2)\n",
            "\n",
            "3. Apply text mining techniques on unstructured data sets using advanced NLP programming packages (CILOs 1.2, 2.2)\n",
            "\n",
            "4. Interpret, extract value and effectively communicate insights from text analysis and create real-world applications suitable to a range of audiences (CILOs 2.4, 3.2, 4.2)\n",
            "\n",
            "5. Articulate the strengths, weaknesses and underlying assumptions of NLP and text analysis to apply ethical practices (CILO 5.1, 5.2)\n",
            "\n",
            "Learning and teaching activities\n",
            "Blend of online and face to face activities: The subject is offered through a series of teaching sessions which blend online and face-to-face learning. Students learn through interactive lectures and classroom activities making use of the subject materials on canvas. They also engage in individual and collaborative learning activities to … For more content click the Read More button below. Authentic problem based learning: This subject offers a range of authentic data science problems to solve that will help develop students’ text analysis skills. They work on real world data analysis problems for broad areas of interest using unstructured data and contemporary techniques. Collaborative work: Group activities will enable students to leverage peer-learning and demonstrate effective team participation, as well as learning to work in professional teams with an appreciation of diverse perspectives on data science and innovation. Future-oriented strategies: Students will be exposed to contemporary learning models using speculative thinking, ethical and human-centered approaches as well as reflection. Electronic portfolios will be used to curate, consolidate and provide evidence of learning and development of course outcomes, graduate attributes and professional evolution. Formative feedback will be offered with all assessment activities for successful engagement.\n",
            "\n",
            "Authentic problem based learning: This subject offers a range of authentic data science problems to solve that will help develop students’ text analysis skills. They work on real world data analysis problems for broad areas of interest using unstructured data and contemporary techniques.\n",
            "\n",
            "Collaborative work: Group activities will enable students to leverage peer-learning and demonstrate effective team participation, as well as learning to work in professional teams with an appreciation of diverse perspectives on data science and innovation.\n",
            "\n",
            "Future-oriented strategies: Students will be exposed to contemporary learning models using speculative thinking, ethical and human-centered approaches as well as reflection. Electronic portfolios will be used to curate, consolidate and provide evidence of learning and development of course outcomes, graduate attributes and professional evolution. Formative feedback will be offered with all assessment activities for successful engagement.\n",
            "\n",
            "\n",
            "\n"
          ]
        }
      ]
    },
    {
      "cell_type": "markdown",
      "source": [
        "In the example below, we extract all words that start with the letter 'C'"
      ],
      "metadata": {
        "id": "Ajz_B84pdPJ2"
      }
    },
    {
      "cell_type": "code",
      "source": [
        "startswithC = re.findall(r'(C\\w+)', test_string)\n",
        "\n",
        "for txt in startswithC:\n",
        "    print(txt)"
      ],
      "metadata": {
        "id": "kSB2PzQuTNIq",
        "colab": {
          "base_uri": "https://localhost:8080/"
        },
        "outputId": "5567e8bb-e2ac-4ae0-c924-a7c93a9dea32"
      },
      "execution_count": null,
      "outputs": [
        {
          "output_type": "stream",
          "name": "stdout",
          "text": [
            "Covering\n",
            "CILO\n",
            "CILO\n",
            "CILOs\n",
            "CILOs\n",
            "CILO\n",
            "Collaborative\n",
            "Collaborative\n"
          ]
        }
      ]
    },
    {
      "cell_type": "code",
      "source": [
        "#Note how they are case-sensitive\n",
        "startswithc = re.findall(r'(c\\w+)', test_string)\n",
        "\n",
        "for txt in startswithc:\n",
        "    print(txt)"
      ],
      "metadata": {
        "id": "q7mVC9vniJvi",
        "colab": {
          "base_uri": "https://localhost:8080/"
        },
        "outputId": "ad38bf00-2cc6-4f2e-87c7-8f327ee2d460"
      },
      "execution_count": null,
      "outputs": [
        {
          "output_type": "stream",
          "name": "stdout",
          "text": [
            "cessing\n",
            "ct\n",
            "cription\n",
            "ct\n",
            "ces\n",
            "complexities\n",
            "cessing\n",
            "chniques\n",
            "chnical\n",
            "communicative\n",
            "cess\n",
            "ctured\n",
            "core\n",
            "concepts\n",
            "ction\n",
            "chniques\n",
            "course\n",
            "content\n",
            "click\n",
            "comes\n",
            "completion\n",
            "ct\n",
            "core\n",
            "concepts\n",
            "cessing\n",
            "computational\n",
            "cs\n",
            "cluding\n",
            "complex\n",
            "challenges\n",
            "ctical\n",
            "cations\n",
            "chniques\n",
            "ctured\n",
            "ced\n",
            "ckages\n",
            "ct\n",
            "ctively\n",
            "communicate\n",
            "create\n",
            "cations\n",
            "ces\n",
            "culate\n",
            "cal\n",
            "ctices\n",
            "ching\n",
            "ctivities\n",
            "ce\n",
            "ce\n",
            "ctivities\n",
            "ct\n",
            "ching\n",
            "ch\n",
            "ce\n",
            "ce\n",
            "ctive\n",
            "ctures\n",
            "classroom\n",
            "ctivities\n",
            "ct\n",
            "canvas\n",
            "collaborative\n",
            "ctivities\n",
            "content\n",
            "click\n",
            "ct\n",
            "cience\n",
            "ctured\n",
            "contemporary\n",
            "chniques\n",
            "ctivities\n",
            "ctive\n",
            "cipation\n",
            "ciation\n",
            "ctives\n",
            "cience\n",
            "contemporary\n",
            "culative\n",
            "cal\n",
            "centered\n",
            "ches\n",
            "ction\n",
            "ctronic\n",
            "curate\n",
            "consolidate\n",
            "ce\n",
            "course\n",
            "comes\n",
            "ck\n",
            "ctivities\n",
            "ccessful\n",
            "ct\n",
            "cience\n",
            "ctured\n",
            "contemporary\n",
            "chniques\n",
            "ctivities\n",
            "ctive\n",
            "cipation\n",
            "ciation\n",
            "ctives\n",
            "cience\n",
            "contemporary\n",
            "culative\n",
            "cal\n",
            "centered\n",
            "ches\n",
            "ction\n",
            "ctronic\n",
            "curate\n",
            "consolidate\n",
            "ce\n",
            "course\n",
            "comes\n",
            "ck\n",
            "ctivities\n",
            "ccessful\n"
          ]
        }
      ]
    },
    {
      "cell_type": "markdown",
      "source": [
        "Note how it captures non-words as well. We need to adjust it to ensure we're only extracting complete words. Let's try the below:"
      ],
      "metadata": {
        "id": "yMfQdeoUBCTI"
      }
    },
    {
      "cell_type": "code",
      "source": [
        "wordsthatstartwithc = re.findall(r'\\b(c\\w+)\\b', test_string)\n",
        "\n",
        "for txt in wordsthatstartwithc:\n",
        "    print(txt)"
      ],
      "metadata": {
        "colab": {
          "base_uri": "https://localhost:8080/"
        },
        "id": "veF27bsPBSjE",
        "outputId": "67e6b3b9-1e76-4ef3-ef71-6784a18d8b14"
      },
      "execution_count": null,
      "outputs": [
        {
          "output_type": "stream",
          "name": "stdout",
          "text": [
            "complexities\n",
            "communicative\n",
            "core\n",
            "concepts\n",
            "course\n",
            "content\n",
            "click\n",
            "completion\n",
            "core\n",
            "concepts\n",
            "computational\n",
            "complex\n",
            "challenges\n",
            "communicate\n",
            "create\n",
            "classroom\n",
            "canvas\n",
            "collaborative\n",
            "content\n",
            "click\n",
            "contemporary\n",
            "contemporary\n",
            "centered\n",
            "curate\n",
            "consolidate\n",
            "course\n",
            "contemporary\n",
            "contemporary\n",
            "centered\n",
            "curate\n",
            "consolidate\n",
            "course\n"
          ]
        }
      ]
    },
    {
      "cell_type": "markdown",
      "source": [
        "#### Regular Expression Breakdown\n",
        "\n",
        "r'\\b(c\\w+)\\b'\n",
        "\n",
        "\n",
        "Let's break down this improved regular expression:\n",
        "\n",
        "1. `\\b`: This is a word boundary anchor. It matches a position where a word character is not followed or preceded by another word character.\n",
        "2. `(c\\w+)`: This is the main matching group:\n",
        "    - `c`: Matches the literal character 'c'\n",
        "    - `\\w+`: Matches one or more word characters (letters, digits, or underscores)\n",
        "3. `\\b`: Another word boundary anchor at the end\n",
        "\n",
        "This pattern will now match complete words that:\n",
        "\n",
        "- Start with the letter 'c'\n",
        "- Contain one or more additional word characters\n",
        "- Are not part of a larger word\n",
        "\n",
        "Examples of what it will match:\n",
        "\n",
        "- \"cat\", \"computer\", \"code\", \"c123\"\n",
        "\n",
        "Examples of what it won't match:\n",
        "\n",
        "- \"incompatible\" (doesn't start with 'c')\n",
        "- \"c-section\" (contains a hyphen)\n",
        "- \"abc\" (doesn't start with 'c')"
      ],
      "metadata": {
        "id": "GzMBJlRTB813"
      }
    },
    {
      "cell_type": "markdown",
      "source": [
        "Exercise: Can you try creating one that captures lower case or upper case characters?"
      ],
      "metadata": {
        "id": "OEoAvuVpuKpY"
      }
    },
    {
      "cell_type": "code",
      "source": [
        "# r'(?i)\\b(c\\w+)\\b'\n",
        "\n",
        "wordsthatstartwithc = re.findall(r'(?i)\\b(c\\w+)\\b', test_string)\n",
        "\n",
        "for txt in wordsthatstartwithc:\n",
        "    print(txt)"
      ],
      "metadata": {
        "id": "Wbi0wdriedJn",
        "colab": {
          "base_uri": "https://localhost:8080/"
        },
        "outputId": "ac5d6030-e732-499d-a140-042af844de0d"
      },
      "execution_count": null,
      "outputs": [
        {
          "output_type": "stream",
          "name": "stdout",
          "text": [
            "complexities\n",
            "communicative\n",
            "Covering\n",
            "core\n",
            "concepts\n",
            "course\n",
            "content\n",
            "click\n",
            "completion\n",
            "core\n",
            "concepts\n",
            "computational\n",
            "CILO\n",
            "complex\n",
            "challenges\n",
            "CILO\n",
            "CILOs\n",
            "communicate\n",
            "create\n",
            "CILOs\n",
            "CILO\n",
            "classroom\n",
            "canvas\n",
            "collaborative\n",
            "content\n",
            "click\n",
            "contemporary\n",
            "Collaborative\n",
            "contemporary\n",
            "centered\n",
            "curate\n",
            "consolidate\n",
            "course\n",
            "contemporary\n",
            "Collaborative\n",
            "contemporary\n",
            "centered\n",
            "curate\n",
            "consolidate\n",
            "course\n"
          ]
        }
      ]
    },
    {
      "cell_type": "markdown",
      "source": [
        "Let's write a function that can return matching texts and test it out with RegEx patterns."
      ],
      "metadata": {
        "id": "0ZJEcFrNdXpQ"
      }
    },
    {
      "cell_type": "code",
      "source": [
        "def find_with_regex(regex, text):\n",
        "    matches = []\n",
        "    # find all matching patterns\n",
        "    for group in regex.findall(text):\n",
        "        matchingtext = ''.join(group)\n",
        "        matches.append(matchingtext)\n",
        "\n",
        "    print(\"All matching texts: \")\n",
        "    print(matches)"
      ],
      "metadata": {
        "id": "dU8no7-GVtHn"
      },
      "execution_count": null,
      "outputs": []
    },
    {
      "cell_type": "code",
      "source": [
        "#Extracting any integer\n",
        "pattern = re.compile(r'[0-9]')\n",
        "find_with_regex(pattern, test_string)"
      ],
      "metadata": {
        "id": "oouHlKhrW-Vw",
        "colab": {
          "base_uri": "https://localhost:8080/"
        },
        "outputId": "c6ef39c3-72fc-4a6d-8566-8dd859c39230"
      },
      "execution_count": null,
      "outputs": [
        {
          "output_type": "stream",
          "name": "stdout",
          "text": [
            "All matching texts: \n",
            "['3', '6', '1', '1', '8', '1', '2', '2', '2', '3', '2', '2', '3', '4', '2', '3', '1', '2', '2', '2', '4', '2', '4', '3', '2', '4', '2', '5', '5', '1', '5', '2']\n"
          ]
        }
      ]
    },
    {
      "cell_type": "code",
      "source": [
        "#Extracting string with integers with at least 4 digits and at most 7 digits\n",
        "pattern = re.compile(r'\\d{4,7}(?!\\d)')\n",
        "find_with_regex(pattern, test_string)"
      ],
      "metadata": {
        "id": "iYJjzdqTXSLB",
        "colab": {
          "base_uri": "https://localhost:8080/"
        },
        "outputId": "b7cbd7b6-2406-4b6a-ddf7-a22b76830aab"
      },
      "execution_count": null,
      "outputs": [
        {
          "output_type": "stream",
          "name": "stdout",
          "text": [
            "All matching texts: \n",
            "['36118']\n"
          ]
        }
      ]
    },
    {
      "cell_type": "markdown",
      "source": [
        "Note: match() will only match if the string starts with the pattern. search() module will return the first occurrence that matches the specified pattern. findall() will iterate over all the lines of the file and will return all non-overlapping matches of pattern in a single step.\n",
        "\n",
        "There are more exercises for you to try out yourself in the Homework notebook!\n"
      ],
      "metadata": {
        "id": "T-XEFcwyYO5d"
      }
    }
  ]
}